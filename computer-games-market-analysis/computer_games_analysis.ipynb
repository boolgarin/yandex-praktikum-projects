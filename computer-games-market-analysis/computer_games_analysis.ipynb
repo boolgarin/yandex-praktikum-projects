{
 "cells": [
  {
   "cell_type": "markdown",
   "metadata": {},
   "source": [
    "<a id='top'></a>\n",
    "# План проекта:\n",
    "### <a href='#Step_1'>Шаг 1. Импорт файла с данными и изучение общей информации</a>\n",
    "#### <a href='#Step_1_conclusion'>Вывод</a>\n",
    "\n",
    "### <a href='#Step_2'>Шаг 2. Подготовка данных</a>\n",
    "#### <a href='#Step_2_1'>2.1 Замена названий стобцов</a>\n",
    "#### <a href='#Step_2_2'>2.2 Преобразование типов данных</a>\n",
    "#### <a href='#Step_2_3'>2.3 Обработка пропусков</a>\n",
    "#### <a href='#Step_2_4'>2.4 Дополнение таблицы</a>\n",
    "#### <a href='#Step_2_conclusion'>Вывод</a>\n",
    "\n",
    "### <a href='#Step_3'>Шаг 3. Исследовательский анализ данных</a>\n",
    "#### <a href='#Step_3_1'>3.1 Исследование динамики выпуска игр по годам</a>\n",
    "#### <a href='#Step_3_2'>3.2 Определение актуального периода исследования</a>\n",
    "#### <a href='#Step_3_3'>3.3 Исследование лидеров по выручке</a>\n",
    "#### <a href='#Step_3_4'>3.4 График «ящик с усами» по глобальным продажам игр в разбивке по платформам</a>\n",
    "#### <a href='#Step_3_5'>3.5 Корреляция рейтингов и выручки</a>\n",
    "#### <a href='#Step_3_5'>3.6 Исследование жанров</a>\n",
    "#### <a href='#Step_3_conclusion'>Вывод</a>\n",
    "\n",
    "### <a href='#Step_4'>Шаг 4. Портрет пользователя</a>\n",
    "#### <a href='#Step_4_1'>4.1 Топ-5 популярных платформ</a>\n",
    "#### <a href='#Step_4_2'>4.2 Топ-5 популярных жанров</a>\n",
    "#### <a href='#Step_4_3'>4.3 Влияние рейтинга ESRB на продажи в регионах</a>\n",
    "#### <a href='#Step_4_conclusion'>Вывод</a>\n",
    "\n",
    "### <a href='#Step_5'>Шаг 5. Проверка гипотез</a>\n",
    "#### <a href='#Step_5_1'>5.1 Средние пользовательские рейтинги платформ Xbox One и PC одинаковые</a>\n",
    "#### <a href='#Step_5_2'>5.2 Средние пользовательские рейтинги жанров Action и Sports разные</a>\n",
    "#### <a href='#Step_5_conclusion'>Вывод</a>\n",
    "\n",
    "### <a href='#Step_6'>Общий вывод</a>"
   ]
  },
  {
   "cell_type": "markdown",
   "metadata": {},
   "source": [
    "<a id='Step_1'></a>\n",
    "### Шаг 1. Импорт файлов с данными и изучение общей информации"
   ]
  },
  {
   "cell_type": "code",
   "execution_count": 1,
   "metadata": {},
   "outputs": [],
   "source": [
    "#Импортируем необходимые библиотеки\n",
    "import pandas as pd\n",
    "import matplotlib.pyplot as plt\n",
    "import numpy as np\n",
    "from scipy import stats as st\n",
    "from IPython.display import display\n",
    "\n"
   ]
  },
  {
   "cell_type": "code",
   "execution_count": 2,
   "metadata": {},
   "outputs": [],
   "source": [
    "#Импортируем датасет\n",
    "df = pd.read_csv('/datasets/games.csv')"
   ]
  },
  {
   "cell_type": "code",
   "execution_count": 3,
   "metadata": {},
   "outputs": [
    {
     "name": "stdout",
     "output_type": "stream",
     "text": [
      "<class 'pandas.core.frame.DataFrame'>\n",
      "RangeIndex: 16715 entries, 0 to 16714\n",
      "Data columns (total 11 columns):\n",
      "Name               16713 non-null object\n",
      "Platform           16715 non-null object\n",
      "Year_of_Release    16446 non-null float64\n",
      "Genre              16713 non-null object\n",
      "NA_sales           16715 non-null float64\n",
      "EU_sales           16715 non-null float64\n",
      "JP_sales           16715 non-null float64\n",
      "Other_sales        16715 non-null float64\n",
      "Critic_Score       8137 non-null float64\n",
      "User_Score         10014 non-null object\n",
      "Rating             9949 non-null object\n",
      "dtypes: float64(6), object(5)\n",
      "memory usage: 1.4+ MB\n"
     ]
    }
   ],
   "source": [
    "df.info()"
   ]
  },
  {
   "cell_type": "code",
   "execution_count": 4,
   "metadata": {},
   "outputs": [
    {
     "data": {
      "text/html": [
       "<div>\n",
       "<style scoped>\n",
       "    .dataframe tbody tr th:only-of-type {\n",
       "        vertical-align: middle;\n",
       "    }\n",
       "\n",
       "    .dataframe tbody tr th {\n",
       "        vertical-align: top;\n",
       "    }\n",
       "\n",
       "    .dataframe thead th {\n",
       "        text-align: right;\n",
       "    }\n",
       "</style>\n",
       "<table border=\"1\" class=\"dataframe\">\n",
       "  <thead>\n",
       "    <tr style=\"text-align: right;\">\n",
       "      <th></th>\n",
       "      <th>Name</th>\n",
       "      <th>Platform</th>\n",
       "      <th>Year_of_Release</th>\n",
       "      <th>Genre</th>\n",
       "      <th>NA_sales</th>\n",
       "      <th>EU_sales</th>\n",
       "      <th>JP_sales</th>\n",
       "      <th>Other_sales</th>\n",
       "      <th>Critic_Score</th>\n",
       "      <th>User_Score</th>\n",
       "      <th>Rating</th>\n",
       "    </tr>\n",
       "  </thead>\n",
       "  <tbody>\n",
       "    <tr>\n",
       "      <td>16578</td>\n",
       "      <td>Shinobi, Koi Utsutsu: Setsugetsuka Koi Emaki</td>\n",
       "      <td>PSV</td>\n",
       "      <td>2015.0</td>\n",
       "      <td>Action</td>\n",
       "      <td>0.00</td>\n",
       "      <td>0.00</td>\n",
       "      <td>0.01</td>\n",
       "      <td>0.00</td>\n",
       "      <td>NaN</td>\n",
       "      <td>NaN</td>\n",
       "      <td>NaN</td>\n",
       "    </tr>\n",
       "    <tr>\n",
       "      <td>3265</td>\n",
       "      <td>Battle of Giants: Dragons</td>\n",
       "      <td>DS</td>\n",
       "      <td>2009.0</td>\n",
       "      <td>Strategy</td>\n",
       "      <td>0.30</td>\n",
       "      <td>0.25</td>\n",
       "      <td>0.00</td>\n",
       "      <td>0.06</td>\n",
       "      <td>NaN</td>\n",
       "      <td>6</td>\n",
       "      <td>E10+</td>\n",
       "    </tr>\n",
       "    <tr>\n",
       "      <td>4412</td>\n",
       "      <td>Ms. Pac-Man Maze Madness</td>\n",
       "      <td>PS</td>\n",
       "      <td>2000.0</td>\n",
       "      <td>Puzzle</td>\n",
       "      <td>0.25</td>\n",
       "      <td>0.17</td>\n",
       "      <td>0.00</td>\n",
       "      <td>0.03</td>\n",
       "      <td>NaN</td>\n",
       "      <td>NaN</td>\n",
       "      <td>NaN</td>\n",
       "    </tr>\n",
       "    <tr>\n",
       "      <td>2009</td>\n",
       "      <td>NCAA March Madness 2004</td>\n",
       "      <td>PS2</td>\n",
       "      <td>2003.0</td>\n",
       "      <td>Sports</td>\n",
       "      <td>0.50</td>\n",
       "      <td>0.39</td>\n",
       "      <td>0.00</td>\n",
       "      <td>0.13</td>\n",
       "      <td>82.0</td>\n",
       "      <td>8.8</td>\n",
       "      <td>E</td>\n",
       "    </tr>\n",
       "    <tr>\n",
       "      <td>4425</td>\n",
       "      <td>Army Men World War: Final Front</td>\n",
       "      <td>PS</td>\n",
       "      <td>2001.0</td>\n",
       "      <td>Action</td>\n",
       "      <td>0.24</td>\n",
       "      <td>0.17</td>\n",
       "      <td>0.00</td>\n",
       "      <td>0.03</td>\n",
       "      <td>NaN</td>\n",
       "      <td>NaN</td>\n",
       "      <td>NaN</td>\n",
       "    </tr>\n",
       "    <tr>\n",
       "      <td>12732</td>\n",
       "      <td>G1 Jockey 2</td>\n",
       "      <td>PS2</td>\n",
       "      <td>2000.0</td>\n",
       "      <td>Sports</td>\n",
       "      <td>0.00</td>\n",
       "      <td>0.00</td>\n",
       "      <td>0.06</td>\n",
       "      <td>0.00</td>\n",
       "      <td>NaN</td>\n",
       "      <td>NaN</td>\n",
       "      <td>NaN</td>\n",
       "    </tr>\n",
       "    <tr>\n",
       "      <td>4935</td>\n",
       "      <td>Hitman: Blood Money</td>\n",
       "      <td>X360</td>\n",
       "      <td>2006.0</td>\n",
       "      <td>Action</td>\n",
       "      <td>0.29</td>\n",
       "      <td>0.06</td>\n",
       "      <td>0.01</td>\n",
       "      <td>0.03</td>\n",
       "      <td>82.0</td>\n",
       "      <td>8.7</td>\n",
       "      <td>M</td>\n",
       "    </tr>\n",
       "    <tr>\n",
       "      <td>1913</td>\n",
       "      <td>Doko Demo Issyo</td>\n",
       "      <td>PS</td>\n",
       "      <td>1999.0</td>\n",
       "      <td>Misc</td>\n",
       "      <td>0.00</td>\n",
       "      <td>0.00</td>\n",
       "      <td>1.00</td>\n",
       "      <td>0.07</td>\n",
       "      <td>NaN</td>\n",
       "      <td>NaN</td>\n",
       "      <td>NaN</td>\n",
       "    </tr>\n",
       "    <tr>\n",
       "      <td>15795</td>\n",
       "      <td>Shonen Jump's Yu-Gi-Oh! GX Card Almanac</td>\n",
       "      <td>DS</td>\n",
       "      <td>NaN</td>\n",
       "      <td>Misc</td>\n",
       "      <td>0.00</td>\n",
       "      <td>0.00</td>\n",
       "      <td>0.02</td>\n",
       "      <td>0.00</td>\n",
       "      <td>NaN</td>\n",
       "      <td>NaN</td>\n",
       "      <td>NaN</td>\n",
       "    </tr>\n",
       "    <tr>\n",
       "      <td>9704</td>\n",
       "      <td>Colony Wars III: Red Sun</td>\n",
       "      <td>PS</td>\n",
       "      <td>2000.0</td>\n",
       "      <td>Simulation</td>\n",
       "      <td>0.07</td>\n",
       "      <td>0.05</td>\n",
       "      <td>0.00</td>\n",
       "      <td>0.01</td>\n",
       "      <td>NaN</td>\n",
       "      <td>NaN</td>\n",
       "      <td>NaN</td>\n",
       "    </tr>\n",
       "  </tbody>\n",
       "</table>\n",
       "</div>"
      ],
      "text/plain": [
       "                                               Name Platform  Year_of_Release  \\\n",
       "16578  Shinobi, Koi Utsutsu: Setsugetsuka Koi Emaki      PSV           2015.0   \n",
       "3265                      Battle of Giants: Dragons       DS           2009.0   \n",
       "4412                       Ms. Pac-Man Maze Madness       PS           2000.0   \n",
       "2009                        NCAA March Madness 2004      PS2           2003.0   \n",
       "4425                Army Men World War: Final Front       PS           2001.0   \n",
       "12732                                   G1 Jockey 2      PS2           2000.0   \n",
       "4935                            Hitman: Blood Money     X360           2006.0   \n",
       "1913                                Doko Demo Issyo       PS           1999.0   \n",
       "15795       Shonen Jump's Yu-Gi-Oh! GX Card Almanac       DS              NaN   \n",
       "9704                       Colony Wars III: Red Sun       PS           2000.0   \n",
       "\n",
       "            Genre  NA_sales  EU_sales  JP_sales  Other_sales  Critic_Score  \\\n",
       "16578      Action      0.00      0.00      0.01         0.00           NaN   \n",
       "3265     Strategy      0.30      0.25      0.00         0.06           NaN   \n",
       "4412       Puzzle      0.25      0.17      0.00         0.03           NaN   \n",
       "2009       Sports      0.50      0.39      0.00         0.13          82.0   \n",
       "4425       Action      0.24      0.17      0.00         0.03           NaN   \n",
       "12732      Sports      0.00      0.00      0.06         0.00           NaN   \n",
       "4935       Action      0.29      0.06      0.01         0.03          82.0   \n",
       "1913         Misc      0.00      0.00      1.00         0.07           NaN   \n",
       "15795        Misc      0.00      0.00      0.02         0.00           NaN   \n",
       "9704   Simulation      0.07      0.05      0.00         0.01           NaN   \n",
       "\n",
       "      User_Score Rating  \n",
       "16578        NaN    NaN  \n",
       "3265           6   E10+  \n",
       "4412         NaN    NaN  \n",
       "2009         8.8      E  \n",
       "4425         NaN    NaN  \n",
       "12732        NaN    NaN  \n",
       "4935         8.7      M  \n",
       "1913         NaN    NaN  \n",
       "15795        NaN    NaN  \n",
       "9704         NaN    NaN  "
      ]
     },
     "execution_count": 4,
     "metadata": {},
     "output_type": "execute_result"
    }
   ],
   "source": [
    "df.sample(10)"
   ]
  },
  {
   "cell_type": "markdown",
   "metadata": {},
   "source": [
    "<a id='Step_1_conclusion'></a>\n",
    "### Вывод:\n",
    "1. Необходимо преобразовать названия столбцов в нижний регистр\n",
    "2. Требуется проверка/обработка пропусков в столбцах:\n",
    "    - Name\n",
    "    - Year_of_Release\n",
    "    - Genre\n",
    "    - Critic_Score\n",
    "    - User_Score\n",
    "    - Rating\n",
    "3. Преобразуем тип данных в столбцах:\n",
    "    - Year_of_Release - замним на datetime\n",
    "    - User_Score - заменим на float"
   ]
  },
  {
   "cell_type": "markdown",
   "metadata": {},
   "source": [
    "**<a href='#top'>Вернуться в начало</a>**"
   ]
  },
  {
   "cell_type": "markdown",
   "metadata": {},
   "source": [
    "<a id='Step_2'></a>\n",
    "### Шаг 2. Подготовка данных"
   ]
  },
  {
   "cell_type": "markdown",
   "metadata": {},
   "source": [
    "<a id='Step_2_1'></a>\n",
    "#### 2.1 Замена названий стобцов"
   ]
  },
  {
   "cell_type": "code",
   "execution_count": 5,
   "metadata": {},
   "outputs": [],
   "source": [
    "#Приведем названия столбцов к нижнему регистру\n",
    "df.columns = df.columns.str.lower()"
   ]
  },
  {
   "cell_type": "markdown",
   "metadata": {},
   "source": [
    "<a id='Step_2_2'></a>\n",
    "#### 2.2 Преобразование типов данных"
   ]
  },
  {
   "cell_type": "code",
   "execution_count": 6,
   "metadata": {},
   "outputs": [],
   "source": [
    "#Преобразуем тип данных в столбце 'year_of_release' в datetime - это дата.\n",
    "df['year_of_release'] = pd.to_datetime(df['year_of_release'], format = '%Y')\n",
    "df['year_of_release'] = df['year_of_release'].dt.year"
   ]
  },
  {
   "cell_type": "code",
   "execution_count": 7,
   "metadata": {},
   "outputs": [],
   "source": [
    "#Преобразуем тип данных в столбце 'user_score' во float - будут производиться математические операции с этим столбцом\n",
    "df['user_score'] = pd.to_numeric(df['user_score'],errors='coerce')"
   ]
  },
  {
   "cell_type": "code",
   "execution_count": 8,
   "metadata": {
    "scrolled": true
   },
   "outputs": [
    {
     "name": "stdout",
     "output_type": "stream",
     "text": [
      "<class 'pandas.core.frame.DataFrame'>\n",
      "RangeIndex: 16715 entries, 0 to 16714\n",
      "Data columns (total 11 columns):\n",
      "name               16713 non-null object\n",
      "platform           16715 non-null object\n",
      "year_of_release    16446 non-null float64\n",
      "genre              16713 non-null object\n",
      "na_sales           16715 non-null float64\n",
      "eu_sales           16715 non-null float64\n",
      "jp_sales           16715 non-null float64\n",
      "other_sales        16715 non-null float64\n",
      "critic_score       8137 non-null float64\n",
      "user_score         7590 non-null float64\n",
      "rating             9949 non-null object\n",
      "dtypes: float64(7), object(4)\n",
      "memory usage: 1.4+ MB\n"
     ]
    }
   ],
   "source": [
    "#Проверим результат преобразований\n",
    "df.info()"
   ]
  },
  {
   "cell_type": "markdown",
   "metadata": {},
   "source": [
    "<a id='Step_2_3'></a>\n",
    "#### 2.3 Обработка пропусков"
   ]
  },
  {
   "cell_type": "code",
   "execution_count": 9,
   "metadata": {},
   "outputs": [],
   "source": [
    "#В столбцах name и genre пропущено всего 2 значения\n",
    "#В столбце year_of_release пропущены значения в 267 строках. Восстановить эти данные не представляется возможным.\n",
    "#Удалим строки:\n",
    "df = df.dropna(subset=['name', 'genre', 'year_of_release'])"
   ]
  },
  {
   "cell_type": "code",
   "execution_count": 10,
   "metadata": {},
   "outputs": [],
   "source": [
    "#Заменим пропуски в столбцах critic_score, user_score на маркер 0:  \n",
    "#values = {'critic_score': 0, 'user_score': 0}\n",
    "df = df.fillna(value={'critic_score': 0, 'user_score': 0})"
   ]
  },
  {
   "cell_type": "markdown",
   "metadata": {},
   "source": [
    "Пропуски в стобце rating заполнять не будем."
   ]
  },
  {
   "cell_type": "markdown",
   "metadata": {},
   "source": [
    "<a id='Step_2_4'></a>\n",
    "#### 2.4 Дополнение таблицы"
   ]
  },
  {
   "cell_type": "code",
   "execution_count": 11,
   "metadata": {},
   "outputs": [],
   "source": [
    "#Посчитайте суммарные продажи во всех регионах и запишите их в отдельный столбец.\n",
    "#df['total_sale'] = df['na_sales'] + df['eu_sales'] + df['jp_sales']\n",
    "df['total_sale'] = df[['na_sales', 'eu_sales', 'jp_sales']].sum(axis=1)"
   ]
  },
  {
   "cell_type": "code",
   "execution_count": 12,
   "metadata": {},
   "outputs": [
    {
     "name": "stdout",
     "output_type": "stream",
     "text": [
      "<class 'pandas.core.frame.DataFrame'>\n",
      "Int64Index: 16444 entries, 0 to 16714\n",
      "Data columns (total 12 columns):\n",
      "name               16444 non-null object\n",
      "platform           16444 non-null object\n",
      "year_of_release    16444 non-null float64\n",
      "genre              16444 non-null object\n",
      "na_sales           16444 non-null float64\n",
      "eu_sales           16444 non-null float64\n",
      "jp_sales           16444 non-null float64\n",
      "other_sales        16444 non-null float64\n",
      "critic_score       16444 non-null float64\n",
      "user_score         16444 non-null float64\n",
      "rating             9768 non-null object\n",
      "total_sale         16444 non-null float64\n",
      "dtypes: float64(8), object(4)\n",
      "memory usage: 1.6+ MB\n"
     ]
    }
   ],
   "source": [
    "#Проверим результат преобразований\n",
    "df.info()"
   ]
  },
  {
   "cell_type": "markdown",
   "metadata": {},
   "source": [
    "<a id='Step_2_conclusion'></a>\n",
    "### Вывод:\n",
    "1. Названия столбцов переведены в нижний регистр\n",
    "2. Преобразован тип данных в столбцах:\n",
    "    - 'year_of_release' в datetime;\n",
    "    - 'user_score' во float\n",
    "3. Удалены пропуски в столбцах:\n",
    "    - 'name'; \n",
    "    - 'genre'; \n",
    "    - 'year_of_release'\n",
    "4. Заменены на 0 пропуски в столбцах:\n",
    "    - 'critic_score'\n",
    "    - 'user_score'"
   ]
  },
  {
   "cell_type": "markdown",
   "metadata": {},
   "source": [
    "**<a href='#top'>Вернуться в начало</a>**"
   ]
  },
  {
   "cell_type": "markdown",
   "metadata": {},
   "source": [
    "<a id='Step_3'></a>\n",
    "### Шаг 3. Исследовательский анализ данных"
   ]
  },
  {
   "cell_type": "markdown",
   "metadata": {},
   "source": [
    "<a id='Step_3_1'></a>\n",
    "#### 3.1 Исследование динамики выпуска игр по годам"
   ]
  },
  {
   "cell_type": "code",
   "execution_count": 13,
   "metadata": {},
   "outputs": [
    {
     "data": {
      "text/plain": [
       "<matplotlib.axes._subplots.AxesSubplot at 0x7f59a6e5fc90>"
      ]
     },
     "execution_count": 13,
     "metadata": {},
     "output_type": "execute_result"
    },
    {
     "data": {
      "image/png": "[encoded data removed]",
      "text/plain": [
       "<Figure size 1080x576 with 1 Axes>"
      ]
     },
     "metadata": {
      "needs_background": "light"
     },
     "output_type": "display_data"
    }
   ],
   "source": [
    "#Покажем количество релизов игр по годам на графике\n",
    "releases_stat = df.groupby('year_of_release').agg({'name': 'count'})\n",
    "releases_stat.columns = ['count']\n",
    "releases_stat.plot.bar(y='count', figsize=(15, 8), grid= True)"
   ]
  },
  {
   "cell_type": "markdown",
   "metadata": {},
   "source": [
    "<a id='Step_3_2'></a>\n",
    "#### 3.2 Определение актуального периода исследования"
   ]
  },
  {
   "cell_type": "code",
   "execution_count": 14,
   "metadata": {},
   "outputs": [],
   "source": [
    "#Исследуем сроки существования платформ:\n",
    "#Датой возникновения платформы определим дату первого релиза\n",
    "#Датой исчезновения платформы определим дату последнего релиза\n",
    "platform_life = df.groupby('platform').agg({'year_of_release': ['min', 'max']})"
   ]
  },
  {
   "cell_type": "code",
   "execution_count": 15,
   "metadata": {},
   "outputs": [],
   "source": [
    "#Переименуем столбцы для удобства обработки\n",
    "platform_life.columns = ['start', 'end']"
   ]
  },
  {
   "cell_type": "code",
   "execution_count": 16,
   "metadata": {},
   "outputs": [],
   "source": [
    "#Найдем продолжительность существования каждой платформы\n",
    "platform_life['duration'] = (platform_life['end'] - platform_life['start'])"
   ]
  },
  {
   "cell_type": "code",
   "execution_count": 17,
   "metadata": {},
   "outputs": [],
   "source": [
    "#Для исследования выберем только существующие на момент формирования датасета платформы\n",
    "platform_life_existing = platform_life.query('end==2016')"
   ]
  },
  {
   "cell_type": "code",
   "execution_count": 18,
   "metadata": {},
   "outputs": [],
   "source": [
    "# Создадим список существующих платформ\n",
    "existing_platforms = platform_life_existing.index"
   ]
  },
  {
   "cell_type": "code",
   "execution_count": 19,
   "metadata": {
    "scrolled": true
   },
   "outputs": [
    {
     "data": {
      "text/html": [
       "<div>\n",
       "<style scoped>\n",
       "    .dataframe tbody tr th:only-of-type {\n",
       "        vertical-align: middle;\n",
       "    }\n",
       "\n",
       "    .dataframe tbody tr th {\n",
       "        vertical-align: top;\n",
       "    }\n",
       "\n",
       "    .dataframe thead th {\n",
       "        text-align: right;\n",
       "    }\n",
       "</style>\n",
       "<table border=\"1\" class=\"dataframe\">\n",
       "  <thead>\n",
       "    <tr style=\"text-align: right;\">\n",
       "      <th></th>\n",
       "      <th>start</th>\n",
       "      <th>end</th>\n",
       "      <th>duration</th>\n",
       "    </tr>\n",
       "    <tr>\n",
       "      <th>platform</th>\n",
       "      <th></th>\n",
       "      <th></th>\n",
       "      <th></th>\n",
       "    </tr>\n",
       "  </thead>\n",
       "  <tbody>\n",
       "    <tr>\n",
       "      <td>PC</td>\n",
       "      <td>1985.0</td>\n",
       "      <td>2016.0</td>\n",
       "      <td>31.0</td>\n",
       "    </tr>\n",
       "    <tr>\n",
       "      <td>X360</td>\n",
       "      <td>2005.0</td>\n",
       "      <td>2016.0</td>\n",
       "      <td>11.0</td>\n",
       "    </tr>\n",
       "    <tr>\n",
       "      <td>PS3</td>\n",
       "      <td>2006.0</td>\n",
       "      <td>2016.0</td>\n",
       "      <td>10.0</td>\n",
       "    </tr>\n",
       "    <tr>\n",
       "      <td>Wii</td>\n",
       "      <td>2006.0</td>\n",
       "      <td>2016.0</td>\n",
       "      <td>10.0</td>\n",
       "    </tr>\n",
       "    <tr>\n",
       "      <td>3DS</td>\n",
       "      <td>2011.0</td>\n",
       "      <td>2016.0</td>\n",
       "      <td>5.0</td>\n",
       "    </tr>\n",
       "    <tr>\n",
       "      <td>PSV</td>\n",
       "      <td>2011.0</td>\n",
       "      <td>2016.0</td>\n",
       "      <td>5.0</td>\n",
       "    </tr>\n",
       "    <tr>\n",
       "      <td>WiiU</td>\n",
       "      <td>2012.0</td>\n",
       "      <td>2016.0</td>\n",
       "      <td>4.0</td>\n",
       "    </tr>\n",
       "    <tr>\n",
       "      <td>PS4</td>\n",
       "      <td>2013.0</td>\n",
       "      <td>2016.0</td>\n",
       "      <td>3.0</td>\n",
       "    </tr>\n",
       "    <tr>\n",
       "      <td>XOne</td>\n",
       "      <td>2013.0</td>\n",
       "      <td>2016.0</td>\n",
       "      <td>3.0</td>\n",
       "    </tr>\n",
       "  </tbody>\n",
       "</table>\n",
       "</div>"
      ],
      "text/plain": [
       "           start     end  duration\n",
       "platform                          \n",
       "PC        1985.0  2016.0      31.0\n",
       "X360      2005.0  2016.0      11.0\n",
       "PS3       2006.0  2016.0      10.0\n",
       "Wii       2006.0  2016.0      10.0\n",
       "3DS       2011.0  2016.0       5.0\n",
       "PSV       2011.0  2016.0       5.0\n",
       "WiiU      2012.0  2016.0       4.0\n",
       "PS4       2013.0  2016.0       3.0\n",
       "XOne      2013.0  2016.0       3.0"
      ]
     },
     "execution_count": 19,
     "metadata": {},
     "output_type": "execute_result"
    }
   ],
   "source": [
    "platform_life_existing.sort_values(by='duration', ascending=False)"
   ]
  },
  {
   "cell_type": "code",
   "execution_count": 20,
   "metadata": {},
   "outputs": [],
   "source": [
    "#PC - самоая долгоживущая из существующих платформ, но старые данные 31 давности уже не актуальны \n",
    "#Примем за дату начала актуального периода, дату возникновения платформы X360\n",
    "#Сделаем срез по дате \n",
    "actual_df = df.query('year_of_release>=2005')"
   ]
  },
  {
   "cell_type": "markdown",
   "metadata": {},
   "source": [
    "<a id='Step_3_3'></a>\n",
    "#### 3.3 Исследование лидеров по выручке"
   ]
  },
  {
   "cell_type": "code",
   "execution_count": 21,
   "metadata": {},
   "outputs": [],
   "source": [
    "#Определим суммарную выручку по каждой платформе\n",
    "sales_by_platform = actual_df.groupby('platform').agg({'total_sale': 'sum'}).sort_values(by='total_sale', ascending=False)"
   ]
  },
  {
   "cell_type": "code",
   "execution_count": 22,
   "metadata": {},
   "outputs": [],
   "source": [
    "#Определим отсечку по суммарной выручке для топ-платформ\n",
    "top_platform_treshold = np.percentile(sales_by_platform.total_sale, 50)"
   ]
  },
  {
   "cell_type": "code",
   "execution_count": 23,
   "metadata": {},
   "outputs": [],
   "source": [
    "#Определим список топ-платформ по выручке.\n",
    "top_platforms = sales_by_platform.query('total_sale >= @top_platform_treshold')\n",
    "top_platforms_names = top_platforms.index"
   ]
  },
  {
   "cell_type": "code",
   "execution_count": 24,
   "metadata": {},
   "outputs": [
    {
     "data": {
      "text/html": [
       "<div>\n",
       "<style scoped>\n",
       "    .dataframe tbody tr th:only-of-type {\n",
       "        vertical-align: middle;\n",
       "    }\n",
       "\n",
       "    .dataframe tbody tr th {\n",
       "        vertical-align: top;\n",
       "    }\n",
       "\n",
       "    .dataframe thead th {\n",
       "        text-align: right;\n",
       "    }\n",
       "</style>\n",
       "<table border=\"1\" class=\"dataframe\">\n",
       "  <thead>\n",
       "    <tr style=\"text-align: right;\">\n",
       "      <th></th>\n",
       "      <th>total_sale</th>\n",
       "    </tr>\n",
       "    <tr>\n",
       "      <th>platform</th>\n",
       "      <th></th>\n",
       "    </tr>\n",
       "  </thead>\n",
       "  <tbody>\n",
       "    <tr>\n",
       "      <td>X360</td>\n",
       "      <td>876.36</td>\n",
       "    </tr>\n",
       "    <tr>\n",
       "      <td>Wii</td>\n",
       "      <td>813.47</td>\n",
       "    </tr>\n",
       "    <tr>\n",
       "      <td>PS3</td>\n",
       "      <td>796.75</td>\n",
       "    </tr>\n",
       "    <tr>\n",
       "      <td>DS</td>\n",
       "      <td>727.81</td>\n",
       "    </tr>\n",
       "    <tr>\n",
       "      <td>PS2</td>\n",
       "      <td>338.61</td>\n",
       "    </tr>\n",
       "    <tr>\n",
       "      <td>PS4</td>\n",
       "      <td>265.79</td>\n",
       "    </tr>\n",
       "    <tr>\n",
       "      <td>3DS</td>\n",
       "      <td>244.54</td>\n",
       "    </tr>\n",
       "    <tr>\n",
       "      <td>PSP</td>\n",
       "      <td>242.79</td>\n",
       "    </tr>\n",
       "  </tbody>\n",
       "</table>\n",
       "</div>"
      ],
      "text/plain": [
       "          total_sale\n",
       "platform            \n",
       "X360          876.36\n",
       "Wii           813.47\n",
       "PS3           796.75\n",
       "DS            727.81\n",
       "PS2           338.61\n",
       "PS4           265.79\n",
       "3DS           244.54\n",
       "PSP           242.79"
      ]
     },
     "execution_count": 24,
     "metadata": {},
     "output_type": "execute_result"
    }
   ],
   "source": [
    "#Посмотрим выручку ведущих платформ\n",
    "top_platforms"
   ]
  },
  {
   "cell_type": "code",
   "execution_count": 25,
   "metadata": {},
   "outputs": [],
   "source": [
    "#Создадим срез, в который войдут существующие лидеры по выручке\n",
    "top_sellers = actual_df.query('platform in @top_platforms_names and platform in @existing_platforms')"
   ]
  },
  {
   "cell_type": "code",
   "execution_count": 26,
   "metadata": {},
   "outputs": [],
   "source": [
    "#Создадим сводную таблицу выручки лидеров по годам \n",
    "top_sellers_by_year = top_sellers.pivot_table(index='platform', columns='year_of_release', values='total_sale', aggfunc='sum')"
   ]
  },
  {
   "cell_type": "code",
   "execution_count": 27,
   "metadata": {},
   "outputs": [
    {
     "data": {
      "text/html": [
       "<div>\n",
       "<style scoped>\n",
       "    .dataframe tbody tr th:only-of-type {\n",
       "        vertical-align: middle;\n",
       "    }\n",
       "\n",
       "    .dataframe tbody tr th {\n",
       "        vertical-align: top;\n",
       "    }\n",
       "\n",
       "    .dataframe thead th {\n",
       "        text-align: right;\n",
       "    }\n",
       "</style>\n",
       "<table border=\"1\" class=\"dataframe\">\n",
       "  <thead>\n",
       "    <tr style=\"text-align: right;\">\n",
       "      <th></th>\n",
       "      <th>2005.0</th>\n",
       "      <th>2006.0</th>\n",
       "      <th>2007.0</th>\n",
       "      <th>2008.0</th>\n",
       "      <th>2009.0</th>\n",
       "      <th>2010.0</th>\n",
       "      <th>2011.0</th>\n",
       "      <th>2012.0</th>\n",
       "      <th>2013.0</th>\n",
       "      <th>2014.0</th>\n",
       "      <th>2015.0</th>\n",
       "      <th>2016.0</th>\n",
       "      <th>total_sale</th>\n",
       "    </tr>\n",
       "    <tr>\n",
       "      <th>platform</th>\n",
       "      <th></th>\n",
       "      <th></th>\n",
       "      <th></th>\n",
       "      <th></th>\n",
       "      <th></th>\n",
       "      <th></th>\n",
       "      <th></th>\n",
       "      <th></th>\n",
       "      <th></th>\n",
       "      <th></th>\n",
       "      <th></th>\n",
       "      <th></th>\n",
       "      <th></th>\n",
       "    </tr>\n",
       "  </thead>\n",
       "  <tbody>\n",
       "    <tr>\n",
       "      <td>X360</td>\n",
       "      <td>7.61</td>\n",
       "      <td>47.20</td>\n",
       "      <td>86.68</td>\n",
       "      <td>122.56</td>\n",
       "      <td>109.26</td>\n",
       "      <td>155.80</td>\n",
       "      <td>131.11</td>\n",
       "      <td>91.45</td>\n",
       "      <td>80.82</td>\n",
       "      <td>31.61</td>\n",
       "      <td>10.86</td>\n",
       "      <td>1.40</td>\n",
       "      <td>876.36</td>\n",
       "    </tr>\n",
       "    <tr>\n",
       "      <td>Wii</td>\n",
       "      <td>NaN</td>\n",
       "      <td>123.63</td>\n",
       "      <td>139.22</td>\n",
       "      <td>156.33</td>\n",
       "      <td>189.43</td>\n",
       "      <td>117.73</td>\n",
       "      <td>54.37</td>\n",
       "      <td>20.22</td>\n",
       "      <td>7.87</td>\n",
       "      <td>3.45</td>\n",
       "      <td>1.05</td>\n",
       "      <td>0.17</td>\n",
       "      <td>813.47</td>\n",
       "    </tr>\n",
       "    <tr>\n",
       "      <td>PS3</td>\n",
       "      <td>NaN</td>\n",
       "      <td>17.30</td>\n",
       "      <td>62.48</td>\n",
       "      <td>101.78</td>\n",
       "      <td>113.08</td>\n",
       "      <td>121.36</td>\n",
       "      <td>135.22</td>\n",
       "      <td>90.87</td>\n",
       "      <td>95.85</td>\n",
       "      <td>40.88</td>\n",
       "      <td>14.70</td>\n",
       "      <td>3.23</td>\n",
       "      <td>796.75</td>\n",
       "    </tr>\n",
       "    <tr>\n",
       "      <td>PS4</td>\n",
       "      <td>NaN</td>\n",
       "      <td>NaN</td>\n",
       "      <td>NaN</td>\n",
       "      <td>NaN</td>\n",
       "      <td>NaN</td>\n",
       "      <td>NaN</td>\n",
       "      <td>NaN</td>\n",
       "      <td>NaN</td>\n",
       "      <td>22.12</td>\n",
       "      <td>84.22</td>\n",
       "      <td>100.44</td>\n",
       "      <td>59.01</td>\n",
       "      <td>265.79</td>\n",
       "    </tr>\n",
       "    <tr>\n",
       "      <td>3DS</td>\n",
       "      <td>NaN</td>\n",
       "      <td>NaN</td>\n",
       "      <td>NaN</td>\n",
       "      <td>NaN</td>\n",
       "      <td>NaN</td>\n",
       "      <td>NaN</td>\n",
       "      <td>58.80</td>\n",
       "      <td>48.77</td>\n",
       "      <td>53.97</td>\n",
       "      <td>41.75</td>\n",
       "      <td>26.75</td>\n",
       "      <td>14.50</td>\n",
       "      <td>244.54</td>\n",
       "    </tr>\n",
       "  </tbody>\n",
       "</table>\n",
       "</div>"
      ],
      "text/plain": [
       "          2005.0  2006.0  2007.0  2008.0  2009.0  2010.0  2011.0  2012.0  \\\n",
       "platform                                                                   \n",
       "X360        7.61   47.20   86.68  122.56  109.26  155.80  131.11   91.45   \n",
       "Wii          NaN  123.63  139.22  156.33  189.43  117.73   54.37   20.22   \n",
       "PS3          NaN   17.30   62.48  101.78  113.08  121.36  135.22   90.87   \n",
       "PS4          NaN     NaN     NaN     NaN     NaN     NaN     NaN     NaN   \n",
       "3DS          NaN     NaN     NaN     NaN     NaN     NaN   58.80   48.77   \n",
       "\n",
       "          2013.0  2014.0  2015.0  2016.0  total_sale  \n",
       "platform                                              \n",
       "X360       80.82   31.61   10.86    1.40      876.36  \n",
       "Wii         7.87    3.45    1.05    0.17      813.47  \n",
       "PS3        95.85   40.88   14.70    3.23      796.75  \n",
       "PS4        22.12   84.22  100.44   59.01      265.79  \n",
       "3DS        53.97   41.75   26.75   14.50      244.54  "
      ]
     },
     "execution_count": 27,
     "metadata": {},
     "output_type": "execute_result"
    }
   ],
   "source": [
    "#Добавим в сводную таблицу выручки лидеров по годам суммарную выручку за актуальный период\n",
    "#Отсортируем по убыванию\n",
    "top_sellers_by_year.join(top_platforms).sort_values(by='total_sale', ascending=False)\n"
   ]
  },
  {
   "cell_type": "code",
   "execution_count": 28,
   "metadata": {},
   "outputs": [],
   "source": [
    "import seaborn as sns"
   ]
  },
  {
   "cell_type": "code",
   "execution_count": 29,
   "metadata": {},
   "outputs": [
    {
     "data": {
      "text/plain": [
       "<matplotlib.axes._subplots.AxesSubplot at 0x7f59a6e6ad90>"
      ]
     },
     "execution_count": 29,
     "metadata": {},
     "output_type": "execute_result"
    },
    {
     "data": {
      "image/png": "[encoded data removed]",
      "text/plain": [
       "<Figure size 1440x432 with 2 Axes>"
      ]
     },
     "metadata": {
      "needs_background": "light"
     },
     "output_type": "display_data"
    }
   ],
   "source": [
    "plt.figure(figsize=(20,6))\n",
    "sns.heatmap(top_sellers_by_year, annot=True, cmap='YlGnBu', linewidths=.5, fmt='.2f' )"
   ]
  },
  {
   "cell_type": "markdown",
   "metadata": {},
   "source": [
    "<a id='Step_3_4'></a>\n",
    "#### 3.4 График «ящик с усами» по глобальным продажам игр в разбивке по платформам"
   ]
  },
  {
   "cell_type": "code",
   "execution_count": 30,
   "metadata": {},
   "outputs": [],
   "source": [
    "#Функция строит график \"ящик с усами\" для выбранной платформы\n",
    "def make_boxplot(platform):\n",
    "    actual_df[actual_df.platform == platform].boxplot('total_sale', figsize=(10, 5))\n",
    "    plt.xlabel(platform)\n",
    "    plt.ylim(0, 2)\n",
    "    plt.show()"
   ]
  },
  {
   "cell_type": "code",
   "execution_count": 31,
   "metadata": {},
   "outputs": [],
   "source": [
    "#Создадим список платформ, для которых необходимо построить график. Ограничимся только существующими лидерами продаж\n",
    "top_sellers_names = top_sellers.platform.unique()"
   ]
  },
  {
   "cell_type": "code",
   "execution_count": 32,
   "metadata": {},
   "outputs": [
    {
     "data": {
      "image/png": "[encoded data removed]",
      "text/plain": [
       "<Figure size 720x360 with 1 Axes>"
      ]
     },
     "metadata": {
      "needs_background": "light"
     },
     "output_type": "display_data"
    },
    {
     "data": {
      "image/png": "[encoded data removed]",
      "text/plain": [
       "<Figure size 720x360 with 1 Axes>"
      ]
     },
     "metadata": {
      "needs_background": "light"
     },
     "output_type": "display_data"
    },
    {
     "data": {
      "image/png": "[encoded data removed]",
      "text/plain": [
       "<Figure size 720x360 with 1 Axes>"
      ]
     },
     "metadata": {
      "needs_background": "light"
     },
     "output_type": "display_data"
    },
    {
     "data": {
      "image/png": "[encoded data removed]",
      "text/plain": [
       "<Figure size 720x360 with 1 Axes>"
      ]
     },
     "metadata": {
      "needs_background": "light"
     },
     "output_type": "display_data"
    },
    {
     "data": {
      "image/png": "[encoded data removed]",
      "text/plain": [
       "<Figure size 720x360 with 1 Axes>"
      ]
     },
     "metadata": {
      "needs_background": "light"
     },
     "output_type": "display_data"
    }
   ],
   "source": [
    "for platform in top_sellers_names:\n",
    "    make_boxplot(platform)"
   ]
  },
  {
   "cell_type": "markdown",
   "metadata": {},
   "source": [
    "<a id='Step_3_5'></a>\n",
    "#### 3.5 Корреляция рейтингов и выручки"
   ]
  },
  {
   "cell_type": "code",
   "execution_count": 33,
   "metadata": {},
   "outputs": [],
   "source": [
    "#Функция принимает в качестве аргумента столбец с рейтингом и название платформы и строит диаграму рассеяния\n",
    "def make_scatter(x, platform):\n",
    "    top_sellers[top_sellers.platform == platform].plot(x=x, y='total_sale', kind='scatter', grid=True, figsize=(10, 5), alpha=0.5)\n",
    "    plt.xlabel(platform)\n",
    "    plt.ylim(0, 10)"
   ]
  },
  {
   "cell_type": "code",
   "execution_count": 34,
   "metadata": {},
   "outputs": [],
   "source": [
    "#Функция принимает в качестве аргумента столбец с рейтингом и название платформы и определят коэфициент корреляции\n",
    "def calculate_corr(x, platform):\n",
    "    data = top_sellers[top_sellers.platform == platform]\n",
    "    corr = data[x].corr(data['total_sale'])\n",
    "    print('Платформа', platform)\n",
    "    print('Коэффициент корреляции рейтинга и продаж на платформе {:.2f}'.format(corr))"
   ]
  },
  {
   "cell_type": "code",
   "execution_count": 35,
   "metadata": {},
   "outputs": [
    {
     "data": {
      "image/png": "[encoded data removed]",
      "text/plain": [
       "<Figure size 720x360 with 1 Axes>"
      ]
     },
     "metadata": {
      "needs_background": "light"
     },
     "output_type": "display_data"
    }
   ],
   "source": [
    "#Построим диагармму рассеяния critic_score - total_sale для плтформы PS4\n",
    "make_scatter('critic_score', 'PS4')"
   ]
  },
  {
   "cell_type": "code",
   "execution_count": 36,
   "metadata": {},
   "outputs": [
    {
     "name": "stdout",
     "output_type": "stream",
     "text": [
      "Платформа PS4\n",
      "Коэффициент корреляции рейтинга и продаж на платформе 0.23\n"
     ]
    }
   ],
   "source": [
    "#Определим коэффициент корреляции critic_score - total_sale для плтформы PS4\n",
    "calculate_corr('critic_score', 'PS4')"
   ]
  },
  {
   "cell_type": "code",
   "execution_count": 37,
   "metadata": {},
   "outputs": [
    {
     "data": {
      "image/png": "[encoded data removed]",
      "text/plain": [
       "<Figure size 720x360 with 1 Axes>"
      ]
     },
     "metadata": {
      "needs_background": "light"
     },
     "output_type": "display_data"
    }
   ],
   "source": [
    "#Построим диагармму рассеяния user_score - total_sale для плтформы PS4\n",
    "make_scatter('user_score', 'PS4')"
   ]
  },
  {
   "cell_type": "code",
   "execution_count": 38,
   "metadata": {},
   "outputs": [
    {
     "name": "stdout",
     "output_type": "stream",
     "text": [
      "Платформа PS4\n",
      "Коэффициент корреляции рейтинга и продаж на платформе 0.11\n"
     ]
    }
   ],
   "source": [
    "#Определим коэффициент корреляции user_score - total_sale для плтформы PS4\n",
    "calculate_corr('user_score', 'PS4')"
   ]
  },
  {
   "cell_type": "markdown",
   "metadata": {},
   "source": [
    "Сравним с другими платформами"
   ]
  },
  {
   "cell_type": "code",
   "execution_count": 39,
   "metadata": {},
   "outputs": [
    {
     "data": {
      "image/png": "[encoded data removed]",
      "text/plain": [
       "<Figure size 720x360 with 1 Axes>"
      ]
     },
     "metadata": {
      "needs_background": "light"
     },
     "output_type": "display_data"
    },
    {
     "data": {
      "image/png": "[encoded data removed]",
      "text/plain": [
       "<Figure size 720x360 with 1 Axes>"
      ]
     },
     "metadata": {
      "needs_background": "light"
     },
     "output_type": "display_data"
    },
    {
     "data": {
      "image/png": "[encoded data removed]",
      "text/plain": [
       "<Figure size 720x360 with 1 Axes>"
      ]
     },
     "metadata": {
      "needs_background": "light"
     },
     "output_type": "display_data"
    },
    {
     "data": {
      "image/png": "[encoded data removed]",
      "text/plain": [
       "<Figure size 720x360 with 1 Axes>"
      ]
     },
     "metadata": {
      "needs_background": "light"
     },
     "output_type": "display_data"
    },
    {
     "data": {
      "image/png": "[encoded data removed]",
      "text/plain": [
       "<Figure size 720x360 with 1 Axes>"
      ]
     },
     "metadata": {
      "needs_background": "light"
     },
     "output_type": "display_data"
    }
   ],
   "source": [
    "for platform in top_sellers_names:\n",
    "    make_scatter('critic_score',platform)"
   ]
  },
  {
   "cell_type": "code",
   "execution_count": 40,
   "metadata": {},
   "outputs": [
    {
     "name": "stdout",
     "output_type": "stream",
     "text": [
      "Влияние рейтинга critic_score на выручку\n",
      "Платформа Wii\n",
      "Коэффициент корреляции рейтинга и продаж на платформе 0.19\n",
      "Платформа X360\n",
      "Коэффициент корреляции рейтинга и продаж на платформе 0.31\n",
      "Платформа PS3\n",
      "Коэффициент корреляции рейтинга и продаж на платформе 0.36\n",
      "Платформа PS4\n",
      "Коэффициент корреляции рейтинга и продаж на платформе 0.23\n",
      "Платформа 3DS\n",
      "Коэффициент корреляции рейтинга и продаж на платформе 0.16\n"
     ]
    }
   ],
   "source": [
    "print('Влияние рейтинга critic_score на выручку')\n",
    "for platform in top_sellers_names:\n",
    "    calculate_corr('critic_score',platform)"
   ]
  },
  {
   "cell_type": "code",
   "execution_count": 41,
   "metadata": {},
   "outputs": [
    {
     "data": {
      "image/png": "[encoded data removed]",
      "text/plain": [
       "<Figure size 720x360 with 1 Axes>"
      ]
     },
     "metadata": {
      "needs_background": "light"
     },
     "output_type": "display_data"
    },
    {
     "data": {
      "image/png": "[encoded data removed]",
      "text/plain": [
       "<Figure size 720x360 with 1 Axes>"
      ]
     },
     "metadata": {
      "needs_background": "light"
     },
     "output_type": "display_data"
    },
    {
     "data": {
      "image/png": "[encoded data removed]",
      "text/plain": [
       "<Figure size 720x360 with 1 Axes>"
      ]
     },
     "metadata": {
      "needs_background": "light"
     },
     "output_type": "display_data"
    },
    {
     "data": {
      "image/png": "[encoded data removed]",
      "text/plain": [
       "<Figure size 720x360 with 1 Axes>"
      ]
     },
     "metadata": {
      "needs_background": "light"
     },
     "output_type": "display_data"
    },
    {
     "data": {
      "image/png": "[encoded data removed]",
      "text/plain": [
       "<Figure size 720x360 with 1 Axes>"
      ]
     },
     "metadata": {
      "needs_background": "light"
     },
     "output_type": "display_data"
    }
   ],
   "source": [
    "for platform in top_sellers_names:\n",
    "    make_scatter('user_score',platform)"
   ]
  },
  {
   "cell_type": "code",
   "execution_count": 42,
   "metadata": {},
   "outputs": [
    {
     "name": "stdout",
     "output_type": "stream",
     "text": [
      "Влияние рейтинга user_score на выручку\n",
      "Платформа Wii\n",
      "Коэффициент корреляции рейтинга и продаж на платформе 0.19\n",
      "Платформа X360\n",
      "Коэффициент корреляции рейтинга и продаж на платформе 0.21\n",
      "Платформа PS3\n",
      "Коэффициент корреляции рейтинга и продаж на платформе 0.28\n",
      "Платформа PS4\n",
      "Коэффициент корреляции рейтинга и продаж на платформе 0.11\n",
      "Платформа 3DS\n",
      "Коэффициент корреляции рейтинга и продаж на платформе 0.15\n"
     ]
    }
   ],
   "source": [
    "print('Влияние рейтинга user_score на выручку')\n",
    "for platform in top_sellers_names:\n",
    "    calculate_corr('user_score',platform)"
   ]
  },
  {
   "cell_type": "markdown",
   "metadata": {},
   "source": [
    "<a id='Step_3_6'></a>\n",
    "#### 3.6 Исследование жанров"
   ]
  },
  {
   "cell_type": "code",
   "execution_count": 43,
   "metadata": {},
   "outputs": [],
   "source": [
    "#Посмотрите на общее распределение игр по жанрам. Что можно сказать о самых прибыльных жанрах? Выделяются ли жанры с высокими и низкими продажами?\n",
    "top_genres = actual_df.groupby('genre')['total_sale'].sum().sort_values(ascending=False)"
   ]
  },
  {
   "cell_type": "code",
   "execution_count": 44,
   "metadata": {},
   "outputs": [
    {
     "data": {
      "text/plain": [
       "<matplotlib.axes._subplots.AxesSubplot at 0x7f59a2ee7410>"
      ]
     },
     "execution_count": 44,
     "metadata": {},
     "output_type": "execute_result"
    },
    {
     "data": {
      "image/png": "[encoded data removed]",
      "text/plain": [
       "<Figure size 576x576 with 1 Axes>"
      ]
     },
     "metadata": {},
     "output_type": "display_data"
    }
   ],
   "source": [
    "top_genres.plot(kind='pie', figsize=(8,8))"
   ]
  },
  {
   "cell_type": "markdown",
   "metadata": {},
   "source": [
    "<a id='Step_3_conclusion'></a>\n",
    "### Вывод:\n",
    "\n",
    "#### Исследование динамики выпуска игр по годам\n",
    "1. До 1994 года выпускается менее 100 игр в год\n",
    "2. После 1994 года начинается активный рост числа новых регилов игр: каждые 5 лет число новых игр удваивается. Динамика, скорее всего, связана с проникновением Интернета\n",
    "3. Пик - 2008 - 2009: больше 1400 игр в год\n",
    "4. С 2010 начинается спад\n",
    " \n",
    "\n",
    "#### Определение актуального периода исследования\n",
    "1. Определены платформы, имеющие релизы на момент проведения исследования:\n",
    "    - PC\n",
    "    - X360\n",
    "    - PS3\n",
    "    - Wii\n",
    "    - 3DS\n",
    "    - PSV\n",
    "    - WiiU\n",
    "    - PS4\n",
    "    - XOne\n",
    "2. PC - самая долгоживущая из существующих платформ, но старые данные 31-летней давности уже не актуальны \n",
    "3. Примем за дату начала актуального периода, дату возникновения платформы X360 - 2005 год\n",
    "\n",
    "#### Исследование лидеров по выручке\n",
    "1. Топ-5 лидеров по выручке выглядит следующим образом:\n",
    "    - X360\n",
    "    - Wii\n",
    "    - PS3\n",
    "    - PS4\n",
    "    - 3DS\n",
    "2. В период с 2010 по 2015 положительная динамика по выручке:\n",
    "    - PS4\n",
    "3. Сделаем допущение, что за 2016 год представлены данные о выручке не за полный год.\n",
    "\n",
    "#### График «ящик с усами» по глобальным продажам игр в разбивке по платформам\n",
    "Наиболее выгодные платформы:\n",
    "1. PS4\n",
    "2. PS3\n",
    "3. X360\n",
    "\n",
    "#### Корреляция рейтингов и выручки\n",
    "1. Коэффициент корреляции critic_score - total_sale для плтформы PS4 составляет 0,23 - влияние рейтингов критиков на выручку есть, но оно незначительное\n",
    "2. Коэффициент корреляции user_score - total_sale для плтформы PS4 составляет 0,11 - - влияние рейтингов пользователей на выручку есть, но оно незначительное\n",
    "3. Исследование других платформ показало аналогичную ситуацию.\n",
    "\n",
    "#### Исследование жанров\n",
    "Наиболее выгодные жанры:\n",
    "    - Action\n",
    "    - Sports\n",
    "    - Shooter"
   ]
  },
  {
   "cell_type": "markdown",
   "metadata": {},
   "source": [
    "**<a href='#top'>Вернуться в начало</a>**"
   ]
  },
  {
   "cell_type": "markdown",
   "metadata": {},
   "source": [
    "<a id='Step_4'></a>\n",
    "### Шаг 4. Портрет пользователя"
   ]
  },
  {
   "cell_type": "markdown",
   "metadata": {},
   "source": [
    "<a id='Step_4_1'></a>\n",
    "#### 4.1 Топ-5 популярных платформ"
   ]
  },
  {
   "cell_type": "code",
   "execution_count": 45,
   "metadata": {},
   "outputs": [],
   "source": [
    "#Функция принимает столбец с необходимым параметром и столбец с выручкой по региону и выдает топ-5 по заданным параметрам\n",
    "def get_stat (column, region):\n",
    "    region_total = actual_df[region].sum()\n",
    "    region_stat = actual_df.groupby(column).agg({region: 'sum'})\n",
    "    region_stat['share'] = (region_stat[region]/region_total).apply('{:.1%}'.format)\n",
    "    region_stat = region_stat.sort_values(by=region, ascending=False)\n",
    "    display(region_stat.head())"
   ]
  },
  {
   "cell_type": "code",
   "execution_count": 46,
   "metadata": {},
   "outputs": [
    {
     "data": {
      "text/html": [
       "<div>\n",
       "<style scoped>\n",
       "    .dataframe tbody tr th:only-of-type {\n",
       "        vertical-align: middle;\n",
       "    }\n",
       "\n",
       "    .dataframe tbody tr th {\n",
       "        vertical-align: top;\n",
       "    }\n",
       "\n",
       "    .dataframe thead th {\n",
       "        text-align: right;\n",
       "    }\n",
       "</style>\n",
       "<table border=\"1\" class=\"dataframe\">\n",
       "  <thead>\n",
       "    <tr style=\"text-align: right;\">\n",
       "      <th></th>\n",
       "      <th>na_sales</th>\n",
       "      <th>share</th>\n",
       "    </tr>\n",
       "    <tr>\n",
       "      <th>platform</th>\n",
       "      <th></th>\n",
       "      <th></th>\n",
       "    </tr>\n",
       "  </thead>\n",
       "  <tbody>\n",
       "    <tr>\n",
       "      <td>X360</td>\n",
       "      <td>595.74</td>\n",
       "      <td>22.7%</td>\n",
       "    </tr>\n",
       "    <tr>\n",
       "      <td>Wii</td>\n",
       "      <td>486.87</td>\n",
       "      <td>18.5%</td>\n",
       "    </tr>\n",
       "    <tr>\n",
       "      <td>PS3</td>\n",
       "      <td>390.13</td>\n",
       "      <td>14.8%</td>\n",
       "    </tr>\n",
       "    <tr>\n",
       "      <td>DS</td>\n",
       "      <td>371.98</td>\n",
       "      <td>14.2%</td>\n",
       "    </tr>\n",
       "    <tr>\n",
       "      <td>PS2</td>\n",
       "      <td>200.49</td>\n",
       "      <td>7.6%</td>\n",
       "    </tr>\n",
       "  </tbody>\n",
       "</table>\n",
       "</div>"
      ],
      "text/plain": [
       "          na_sales  share\n",
       "platform                 \n",
       "X360        595.74  22.7%\n",
       "Wii         486.87  18.5%\n",
       "PS3         390.13  14.8%\n",
       "DS          371.98  14.2%\n",
       "PS2         200.49   7.6%"
      ]
     },
     "metadata": {},
     "output_type": "display_data"
    }
   ],
   "source": [
    "#Наиболее популярные платформы в регионе NA\n",
    "get_stat ('platform', 'na_sales')"
   ]
  },
  {
   "cell_type": "code",
   "execution_count": 47,
   "metadata": {},
   "outputs": [
    {
     "data": {
      "text/html": [
       "<div>\n",
       "<style scoped>\n",
       "    .dataframe tbody tr th:only-of-type {\n",
       "        vertical-align: middle;\n",
       "    }\n",
       "\n",
       "    .dataframe tbody tr th {\n",
       "        vertical-align: top;\n",
       "    }\n",
       "\n",
       "    .dataframe thead th {\n",
       "        text-align: right;\n",
       "    }\n",
       "</style>\n",
       "<table border=\"1\" class=\"dataframe\">\n",
       "  <thead>\n",
       "    <tr style=\"text-align: right;\">\n",
       "      <th></th>\n",
       "      <th>eu_sales</th>\n",
       "      <th>share</th>\n",
       "    </tr>\n",
       "    <tr>\n",
       "      <th>platform</th>\n",
       "      <th></th>\n",
       "      <th></th>\n",
       "    </tr>\n",
       "  </thead>\n",
       "  <tbody>\n",
       "    <tr>\n",
       "      <td>PS3</td>\n",
       "      <td>327.21</td>\n",
       "      <td>20.2%</td>\n",
       "    </tr>\n",
       "    <tr>\n",
       "      <td>X360</td>\n",
       "      <td>268.32</td>\n",
       "      <td>16.6%</td>\n",
       "    </tr>\n",
       "    <tr>\n",
       "      <td>Wii</td>\n",
       "      <td>258.32</td>\n",
       "      <td>16.0%</td>\n",
       "    </tr>\n",
       "    <tr>\n",
       "      <td>DS</td>\n",
       "      <td>184.48</td>\n",
       "      <td>11.4%</td>\n",
       "    </tr>\n",
       "    <tr>\n",
       "      <td>PS4</td>\n",
       "      <td>141.09</td>\n",
       "      <td>8.7%</td>\n",
       "    </tr>\n",
       "  </tbody>\n",
       "</table>\n",
       "</div>"
      ],
      "text/plain": [
       "          eu_sales  share\n",
       "platform                 \n",
       "PS3         327.21  20.2%\n",
       "X360        268.32  16.6%\n",
       "Wii         258.32  16.0%\n",
       "DS          184.48  11.4%\n",
       "PS4         141.09   8.7%"
      ]
     },
     "metadata": {},
     "output_type": "display_data"
    }
   ],
   "source": [
    "#Наиболее популярные платформы в регионе EU\n",
    "get_stat ('platform', 'eu_sales')"
   ]
  },
  {
   "cell_type": "code",
   "execution_count": 48,
   "metadata": {},
   "outputs": [
    {
     "data": {
      "text/html": [
       "<div>\n",
       "<style scoped>\n",
       "    .dataframe tbody tr th:only-of-type {\n",
       "        vertical-align: middle;\n",
       "    }\n",
       "\n",
       "    .dataframe tbody tr th {\n",
       "        vertical-align: top;\n",
       "    }\n",
       "\n",
       "    .dataframe thead th {\n",
       "        text-align: right;\n",
       "    }\n",
       "</style>\n",
       "<table border=\"1\" class=\"dataframe\">\n",
       "  <thead>\n",
       "    <tr style=\"text-align: right;\">\n",
       "      <th></th>\n",
       "      <th>jp_sales</th>\n",
       "      <th>share</th>\n",
       "    </tr>\n",
       "    <tr>\n",
       "      <th>platform</th>\n",
       "      <th></th>\n",
       "      <th></th>\n",
       "    </tr>\n",
       "  </thead>\n",
       "  <tbody>\n",
       "    <tr>\n",
       "      <td>DS</td>\n",
       "      <td>171.35</td>\n",
       "      <td>27.8%</td>\n",
       "    </tr>\n",
       "    <tr>\n",
       "      <td>3DS</td>\n",
       "      <td>100.62</td>\n",
       "      <td>16.3%</td>\n",
       "    </tr>\n",
       "    <tr>\n",
       "      <td>PS3</td>\n",
       "      <td>79.41</td>\n",
       "      <td>12.9%</td>\n",
       "    </tr>\n",
       "    <tr>\n",
       "      <td>PSP</td>\n",
       "      <td>73.85</td>\n",
       "      <td>12.0%</td>\n",
       "    </tr>\n",
       "    <tr>\n",
       "      <td>Wii</td>\n",
       "      <td>68.28</td>\n",
       "      <td>11.1%</td>\n",
       "    </tr>\n",
       "  </tbody>\n",
       "</table>\n",
       "</div>"
      ],
      "text/plain": [
       "          jp_sales  share\n",
       "platform                 \n",
       "DS          171.35  27.8%\n",
       "3DS         100.62  16.3%\n",
       "PS3          79.41  12.9%\n",
       "PSP          73.85  12.0%\n",
       "Wii          68.28  11.1%"
      ]
     },
     "metadata": {},
     "output_type": "display_data"
    }
   ],
   "source": [
    "#Наиболее популярные платформы в регионе JP\n",
    "get_stat ('platform', 'jp_sales')"
   ]
  },
  {
   "cell_type": "markdown",
   "metadata": {},
   "source": [
    "<a id='Step_4_2'></a>\n",
    "#### 4.2 Топ-5 популярных жанров"
   ]
  },
  {
   "cell_type": "code",
   "execution_count": 49,
   "metadata": {},
   "outputs": [
    {
     "data": {
      "text/html": [
       "<div>\n",
       "<style scoped>\n",
       "    .dataframe tbody tr th:only-of-type {\n",
       "        vertical-align: middle;\n",
       "    }\n",
       "\n",
       "    .dataframe tbody tr th {\n",
       "        vertical-align: top;\n",
       "    }\n",
       "\n",
       "    .dataframe thead th {\n",
       "        text-align: right;\n",
       "    }\n",
       "</style>\n",
       "<table border=\"1\" class=\"dataframe\">\n",
       "  <thead>\n",
       "    <tr style=\"text-align: right;\">\n",
       "      <th></th>\n",
       "      <th>na_sales</th>\n",
       "      <th>share</th>\n",
       "    </tr>\n",
       "    <tr>\n",
       "      <th>genre</th>\n",
       "      <th></th>\n",
       "      <th></th>\n",
       "    </tr>\n",
       "  </thead>\n",
       "  <tbody>\n",
       "    <tr>\n",
       "      <td>Action</td>\n",
       "      <td>580.04</td>\n",
       "      <td>22.1%</td>\n",
       "    </tr>\n",
       "    <tr>\n",
       "      <td>Sports</td>\n",
       "      <td>432.70</td>\n",
       "      <td>16.5%</td>\n",
       "    </tr>\n",
       "    <tr>\n",
       "      <td>Shooter</td>\n",
       "      <td>400.96</td>\n",
       "      <td>15.3%</td>\n",
       "    </tr>\n",
       "    <tr>\n",
       "      <td>Misc</td>\n",
       "      <td>311.82</td>\n",
       "      <td>11.9%</td>\n",
       "    </tr>\n",
       "    <tr>\n",
       "      <td>Role-Playing</td>\n",
       "      <td>211.85</td>\n",
       "      <td>8.1%</td>\n",
       "    </tr>\n",
       "  </tbody>\n",
       "</table>\n",
       "</div>"
      ],
      "text/plain": [
       "              na_sales  share\n",
       "genre                        \n",
       "Action          580.04  22.1%\n",
       "Sports          432.70  16.5%\n",
       "Shooter         400.96  15.3%\n",
       "Misc            311.82  11.9%\n",
       "Role-Playing    211.85   8.1%"
      ]
     },
     "metadata": {},
     "output_type": "display_data"
    }
   ],
   "source": [
    "get_stat ('genre', 'na_sales')"
   ]
  },
  {
   "cell_type": "code",
   "execution_count": 50,
   "metadata": {},
   "outputs": [
    {
     "data": {
      "text/html": [
       "<div>\n",
       "<style scoped>\n",
       "    .dataframe tbody tr th:only-of-type {\n",
       "        vertical-align: middle;\n",
       "    }\n",
       "\n",
       "    .dataframe tbody tr th {\n",
       "        vertical-align: top;\n",
       "    }\n",
       "\n",
       "    .dataframe thead th {\n",
       "        text-align: right;\n",
       "    }\n",
       "</style>\n",
       "<table border=\"1\" class=\"dataframe\">\n",
       "  <thead>\n",
       "    <tr style=\"text-align: right;\">\n",
       "      <th></th>\n",
       "      <th>eu_sales</th>\n",
       "      <th>share</th>\n",
       "    </tr>\n",
       "    <tr>\n",
       "      <th>genre</th>\n",
       "      <th></th>\n",
       "      <th></th>\n",
       "    </tr>\n",
       "  </thead>\n",
       "  <tbody>\n",
       "    <tr>\n",
       "      <td>Action</td>\n",
       "      <td>372.58</td>\n",
       "      <td>23.0%</td>\n",
       "    </tr>\n",
       "    <tr>\n",
       "      <td>Sports</td>\n",
       "      <td>265.61</td>\n",
       "      <td>16.4%</td>\n",
       "    </tr>\n",
       "    <tr>\n",
       "      <td>Shooter</td>\n",
       "      <td>248.07</td>\n",
       "      <td>15.3%</td>\n",
       "    </tr>\n",
       "    <tr>\n",
       "      <td>Misc</td>\n",
       "      <td>167.09</td>\n",
       "      <td>10.3%</td>\n",
       "    </tr>\n",
       "    <tr>\n",
       "      <td>Racing</td>\n",
       "      <td>129.05</td>\n",
       "      <td>8.0%</td>\n",
       "    </tr>\n",
       "  </tbody>\n",
       "</table>\n",
       "</div>"
      ],
      "text/plain": [
       "         eu_sales  share\n",
       "genre                   \n",
       "Action     372.58  23.0%\n",
       "Sports     265.61  16.4%\n",
       "Shooter    248.07  15.3%\n",
       "Misc       167.09  10.3%\n",
       "Racing     129.05   8.0%"
      ]
     },
     "metadata": {},
     "output_type": "display_data"
    }
   ],
   "source": [
    "get_stat ('genre', 'eu_sales')"
   ]
  },
  {
   "cell_type": "code",
   "execution_count": 51,
   "metadata": {},
   "outputs": [
    {
     "data": {
      "text/html": [
       "<div>\n",
       "<style scoped>\n",
       "    .dataframe tbody tr th:only-of-type {\n",
       "        vertical-align: middle;\n",
       "    }\n",
       "\n",
       "    .dataframe tbody tr th {\n",
       "        vertical-align: top;\n",
       "    }\n",
       "\n",
       "    .dataframe thead th {\n",
       "        text-align: right;\n",
       "    }\n",
       "</style>\n",
       "<table border=\"1\" class=\"dataframe\">\n",
       "  <thead>\n",
       "    <tr style=\"text-align: right;\">\n",
       "      <th></th>\n",
       "      <th>jp_sales</th>\n",
       "      <th>share</th>\n",
       "    </tr>\n",
       "    <tr>\n",
       "      <th>genre</th>\n",
       "      <th></th>\n",
       "      <th></th>\n",
       "    </tr>\n",
       "  </thead>\n",
       "  <tbody>\n",
       "    <tr>\n",
       "      <td>Role-Playing</td>\n",
       "      <td>179.60</td>\n",
       "      <td>29.2%</td>\n",
       "    </tr>\n",
       "    <tr>\n",
       "      <td>Action</td>\n",
       "      <td>108.39</td>\n",
       "      <td>17.6%</td>\n",
       "    </tr>\n",
       "    <tr>\n",
       "      <td>Misc</td>\n",
       "      <td>72.49</td>\n",
       "      <td>11.8%</td>\n",
       "    </tr>\n",
       "    <tr>\n",
       "      <td>Sports</td>\n",
       "      <td>52.51</td>\n",
       "      <td>8.5%</td>\n",
       "    </tr>\n",
       "    <tr>\n",
       "      <td>Platform</td>\n",
       "      <td>36.32</td>\n",
       "      <td>5.9%</td>\n",
       "    </tr>\n",
       "  </tbody>\n",
       "</table>\n",
       "</div>"
      ],
      "text/plain": [
       "              jp_sales  share\n",
       "genre                        \n",
       "Role-Playing    179.60  29.2%\n",
       "Action          108.39  17.6%\n",
       "Misc             72.49  11.8%\n",
       "Sports           52.51   8.5%\n",
       "Platform         36.32   5.9%"
      ]
     },
     "metadata": {},
     "output_type": "display_data"
    }
   ],
   "source": [
    "get_stat ('genre', 'jp_sales')"
   ]
  },
  {
   "cell_type": "markdown",
   "metadata": {},
   "source": [
    "<a id='Step_4_3'></a>\n",
    "#### 4.3 Влияние рейтинга ESRB на продажи в регионах"
   ]
  },
  {
   "cell_type": "code",
   "execution_count": 52,
   "metadata": {},
   "outputs": [
    {
     "data": {
      "text/html": [
       "<div>\n",
       "<style scoped>\n",
       "    .dataframe tbody tr th:only-of-type {\n",
       "        vertical-align: middle;\n",
       "    }\n",
       "\n",
       "    .dataframe tbody tr th {\n",
       "        vertical-align: top;\n",
       "    }\n",
       "\n",
       "    .dataframe thead th {\n",
       "        text-align: right;\n",
       "    }\n",
       "</style>\n",
       "<table border=\"1\" class=\"dataframe\">\n",
       "  <thead>\n",
       "    <tr style=\"text-align: right;\">\n",
       "      <th></th>\n",
       "      <th>na_sales</th>\n",
       "      <th>share</th>\n",
       "    </tr>\n",
       "    <tr>\n",
       "      <th>rating</th>\n",
       "      <th></th>\n",
       "      <th></th>\n",
       "    </tr>\n",
       "  </thead>\n",
       "  <tbody>\n",
       "    <tr>\n",
       "      <td>E</td>\n",
       "      <td>873.10</td>\n",
       "      <td>33.2%</td>\n",
       "    </tr>\n",
       "    <tr>\n",
       "      <td>M</td>\n",
       "      <td>607.34</td>\n",
       "      <td>23.1%</td>\n",
       "    </tr>\n",
       "    <tr>\n",
       "      <td>T</td>\n",
       "      <td>479.08</td>\n",
       "      <td>18.2%</td>\n",
       "    </tr>\n",
       "    <tr>\n",
       "      <td>E10+</td>\n",
       "      <td>343.02</td>\n",
       "      <td>13.0%</td>\n",
       "    </tr>\n",
       "    <tr>\n",
       "      <td>EC</td>\n",
       "      <td>1.53</td>\n",
       "      <td>0.1%</td>\n",
       "    </tr>\n",
       "  </tbody>\n",
       "</table>\n",
       "</div>"
      ],
      "text/plain": [
       "        na_sales  share\n",
       "rating                 \n",
       "E         873.10  33.2%\n",
       "M         607.34  23.1%\n",
       "T         479.08  18.2%\n",
       "E10+      343.02  13.0%\n",
       "EC          1.53   0.1%"
      ]
     },
     "metadata": {},
     "output_type": "display_data"
    }
   ],
   "source": [
    "get_stat ('rating', 'na_sales')"
   ]
  },
  {
   "cell_type": "code",
   "execution_count": 53,
   "metadata": {},
   "outputs": [
    {
     "data": {
      "text/html": [
       "<div>\n",
       "<style scoped>\n",
       "    .dataframe tbody tr th:only-of-type {\n",
       "        vertical-align: middle;\n",
       "    }\n",
       "\n",
       "    .dataframe tbody tr th {\n",
       "        vertical-align: top;\n",
       "    }\n",
       "\n",
       "    .dataframe thead th {\n",
       "        text-align: right;\n",
       "    }\n",
       "</style>\n",
       "<table border=\"1\" class=\"dataframe\">\n",
       "  <thead>\n",
       "    <tr style=\"text-align: right;\">\n",
       "      <th></th>\n",
       "      <th>eu_sales</th>\n",
       "      <th>share</th>\n",
       "    </tr>\n",
       "    <tr>\n",
       "      <th>rating</th>\n",
       "      <th></th>\n",
       "      <th></th>\n",
       "    </tr>\n",
       "  </thead>\n",
       "  <tbody>\n",
       "    <tr>\n",
       "      <td>E</td>\n",
       "      <td>508.71</td>\n",
       "      <td>31.5%</td>\n",
       "    </tr>\n",
       "    <tr>\n",
       "      <td>M</td>\n",
       "      <td>414.11</td>\n",
       "      <td>25.6%</td>\n",
       "    </tr>\n",
       "    <tr>\n",
       "      <td>T</td>\n",
       "      <td>258.17</td>\n",
       "      <td>16.0%</td>\n",
       "    </tr>\n",
       "    <tr>\n",
       "      <td>E10+</td>\n",
       "      <td>181.92</td>\n",
       "      <td>11.2%</td>\n",
       "    </tr>\n",
       "    <tr>\n",
       "      <td>AO</td>\n",
       "      <td>0.61</td>\n",
       "      <td>0.0%</td>\n",
       "    </tr>\n",
       "  </tbody>\n",
       "</table>\n",
       "</div>"
      ],
      "text/plain": [
       "        eu_sales  share\n",
       "rating                 \n",
       "E         508.71  31.5%\n",
       "M         414.11  25.6%\n",
       "T         258.17  16.0%\n",
       "E10+      181.92  11.2%\n",
       "AO          0.61   0.0%"
      ]
     },
     "metadata": {},
     "output_type": "display_data"
    }
   ],
   "source": [
    "get_stat ('rating', 'eu_sales')"
   ]
  },
  {
   "cell_type": "code",
   "execution_count": 54,
   "metadata": {},
   "outputs": [
    {
     "data": {
      "text/html": [
       "<div>\n",
       "<style scoped>\n",
       "    .dataframe tbody tr th:only-of-type {\n",
       "        vertical-align: middle;\n",
       "    }\n",
       "\n",
       "    .dataframe tbody tr th {\n",
       "        vertical-align: top;\n",
       "    }\n",
       "\n",
       "    .dataframe thead th {\n",
       "        text-align: right;\n",
       "    }\n",
       "</style>\n",
       "<table border=\"1\" class=\"dataframe\">\n",
       "  <thead>\n",
       "    <tr style=\"text-align: right;\">\n",
       "      <th></th>\n",
       "      <th>jp_sales</th>\n",
       "      <th>share</th>\n",
       "    </tr>\n",
       "    <tr>\n",
       "      <th>rating</th>\n",
       "      <th></th>\n",
       "      <th></th>\n",
       "    </tr>\n",
       "  </thead>\n",
       "  <tbody>\n",
       "    <tr>\n",
       "      <td>E</td>\n",
       "      <td>147.33</td>\n",
       "      <td>23.9%</td>\n",
       "    </tr>\n",
       "    <tr>\n",
       "      <td>T</td>\n",
       "      <td>91.32</td>\n",
       "      <td>14.8%</td>\n",
       "    </tr>\n",
       "    <tr>\n",
       "      <td>M</td>\n",
       "      <td>46.23</td>\n",
       "      <td>7.5%</td>\n",
       "    </tr>\n",
       "    <tr>\n",
       "      <td>E10+</td>\n",
       "      <td>39.05</td>\n",
       "      <td>6.3%</td>\n",
       "    </tr>\n",
       "    <tr>\n",
       "      <td>AO</td>\n",
       "      <td>0.00</td>\n",
       "      <td>0.0%</td>\n",
       "    </tr>\n",
       "  </tbody>\n",
       "</table>\n",
       "</div>"
      ],
      "text/plain": [
       "        jp_sales  share\n",
       "rating                 \n",
       "E         147.33  23.9%\n",
       "T          91.32  14.8%\n",
       "M          46.23   7.5%\n",
       "E10+       39.05   6.3%\n",
       "AO          0.00   0.0%"
      ]
     },
     "metadata": {},
     "output_type": "display_data"
    }
   ],
   "source": [
    "get_stat ('rating', 'jp_sales')"
   ]
  },
  {
   "cell_type": "markdown",
   "metadata": {},
   "source": [
    "<a id='Step_4_conclusion'></a>\n",
    "### Вывод:\n",
    "#### Топ-5 популярных платформ\n",
    "1. Лидеры в регионе NA\n",
    "    - X360\n",
    "    - Wii\n",
    "    - PS3\n",
    "    - DS\n",
    "    - PS2\n",
    "2. Лидеры в регионе EU\n",
    "    - PS3\n",
    "    - X360\n",
    "    - Wii\n",
    "    - DS\n",
    "    - PS4\n",
    "3. Лидеры в регионе EU\n",
    "    - DS\n",
    "    - 3DS\n",
    "    - PS3\n",
    "    - PSP\n",
    "    - Wii\n",
    "4. Особенности:\n",
    "    - В каждом регионе свой лидер\n",
    "    - В регионах NA и EU топ-3 лидеров отличаются только позицией в рейтинге\n",
    "    - В регионе JP топ-3 лидеров полностью отличается от NA и EU\n",
    "\n",
    "#### Топ-5 популярных жанров\n",
    "1. Лидеры в регионе NA\n",
    "    - Action\n",
    "    - Sports\n",
    "    - Shooter\n",
    "    - Misc\n",
    "    - Role-Playing\n",
    "2. Лидеры в регионе EU\n",
    "    - Action\n",
    "    - Sports\n",
    "    - Shooter\n",
    "    - Misc\n",
    "    - Racing\n",
    "3. Лидеры в регионе EU\n",
    "    - Role-Playing\n",
    "    - Action\n",
    "    - Misc\n",
    "    - Sports\n",
    "    - Platform\n",
    "4. Особенности:\n",
    "    - В регионах NA и EU топ-3 полностью совпадают\n",
    " \n",
    "#### Влияние рейтинга ESRB на продажи в регионах\n",
    "1. Лидеры в регионе NA\n",
    "    - E\n",
    "    - M\n",
    "    - T\n",
    "    - E10+\n",
    "    - EC\n",
    "2. Лидеры в регионе EU\n",
    "    - E\n",
    "    - M\n",
    "    - T\n",
    "    - E10+\n",
    "    - AO\n",
    "3. Лидеры в регионе EU\n",
    "    - E\n",
    "    - T\n",
    "    - M\n",
    "    - E10+\n",
    "    - AO\n",
    "4. Особенности:\n",
    "    - Влияние рейтингов ESRB идентично во всех регионах"
   ]
  },
  {
   "cell_type": "markdown",
   "metadata": {},
   "source": [
    "**<a href='#top'>Вернуться в начало</a>**"
   ]
  },
  {
   "cell_type": "markdown",
   "metadata": {},
   "source": [
    "<a id='Step_5'></a>\n",
    "### Шаг 5. Проверка гипотез"
   ]
  },
  {
   "cell_type": "markdown",
   "metadata": {},
   "source": [
    "<a id='Step_5_1'></a>\n",
    "#### 5.1 Средние пользовательские рейтинги платформ Xbox One и PC одинаковые"
   ]
  },
  {
   "cell_type": "markdown",
   "metadata": {},
   "source": [
    "Нулевая гипотеза: \"Средние пользовательские рейтинги платформ Xbox One и PC одинаковые\""
   ]
  },
  {
   "cell_type": "markdown",
   "metadata": {},
   "source": [
    "Альтернативная гипотеза: \"Средние пользовательские рейтинги платформ Xbox One и PC отличаются\""
   ]
  },
  {
   "cell_type": "code",
   "execution_count": 55,
   "metadata": {},
   "outputs": [],
   "source": [
    "xbox = actual_df.query('platform == \"XOne\" and user_score != 0')\n",
    "xbox_user_ratings = xbox['user_score']"
   ]
  },
  {
   "cell_type": "code",
   "execution_count": 56,
   "metadata": {},
   "outputs": [
    {
     "data": {
      "text/plain": [
       "1.8965188383045526"
      ]
     },
     "execution_count": 56,
     "metadata": {},
     "output_type": "execute_result"
    }
   ],
   "source": [
    "np.var(xbox_user_ratings)"
   ]
  },
  {
   "cell_type": "code",
   "execution_count": 57,
   "metadata": {},
   "outputs": [
    {
     "data": {
      "text/plain": [
       "<matplotlib.axes._subplots.AxesSubplot at 0x7f59a2fb65d0>"
      ]
     },
     "execution_count": 57,
     "metadata": {},
     "output_type": "execute_result"
    },
    {
     "data": {
      "image/png": "[encoded data removed]",
      "text/plain": [
       "<Figure size 432x288 with 1 Axes>"
      ]
     },
     "metadata": {
      "needs_background": "light"
     },
     "output_type": "display_data"
    }
   ],
   "source": [
    "xbox_user_ratings.hist()"
   ]
  },
  {
   "cell_type": "code",
   "execution_count": 58,
   "metadata": {},
   "outputs": [],
   "source": [
    "pc = actual_df.query('platform == \"PC\" and user_score != 0')\n",
    "pc_user_ratings = pc['user_score'] \n"
   ]
  },
  {
   "cell_type": "code",
   "execution_count": 59,
   "metadata": {},
   "outputs": [
    {
     "data": {
      "text/plain": [
       "2.293981207322248"
      ]
     },
     "execution_count": 59,
     "metadata": {},
     "output_type": "execute_result"
    }
   ],
   "source": [
    "np.var(pc_user_ratings)"
   ]
  },
  {
   "cell_type": "code",
   "execution_count": 60,
   "metadata": {},
   "outputs": [
    {
     "data": {
      "text/plain": [
       "<matplotlib.axes._subplots.AxesSubplot at 0x7f59a2f1be90>"
      ]
     },
     "execution_count": 60,
     "metadata": {},
     "output_type": "execute_result"
    },
    {
     "data": {
      "image/png": "[encoded data removed]",
      "text/plain": [
       "<Figure size 432x288 with 1 Axes>"
      ]
     },
     "metadata": {
      "needs_background": "light"
     },
     "output_type": "display_data"
    }
   ],
   "source": [
    "pc_user_ratings.hist()"
   ]
  },
  {
   "cell_type": "code",
   "execution_count": 61,
   "metadata": {},
   "outputs": [
    {
     "name": "stdout",
     "output_type": "stream",
     "text": [
      "p-значение: 0.002348015535956376\n",
      "Отвергаем нулевую гипотезу\n"
     ]
    }
   ],
   "source": [
    "alpha = .05 \n",
    "\n",
    "results = st.ttest_ind(\n",
    "    xbox_user_ratings, \n",
    "    pc_user_ratings, \n",
    "    equal_var = False)\n",
    "\n",
    "print('p-значение:', results.pvalue)\n",
    "\n",
    "if results.pvalue < alpha:\n",
    "    print(\"Отвергаем нулевую гипотезу\")\n",
    "else:\n",
    "    print(\"Не получилось отвергнуть нулевую гипотезу\")"
   ]
  },
  {
   "cell_type": "markdown",
   "metadata": {},
   "source": [
    "<a id='Step_5_2'></a>\n",
    "#### 5.2 Средние пользовательские рейтинги жанров Action и Sports разные."
   ]
  },
  {
   "cell_type": "markdown",
   "metadata": {},
   "source": [
    "Нулевая гипотеза: \"Средние пользовательские рейтинги жанров Action и Sports одинаковые\""
   ]
  },
  {
   "cell_type": "markdown",
   "metadata": {},
   "source": [
    "Альтернативная гипотеза: \"Средние пользовательские рейтинги жанров Action и Sports отличаются\""
   ]
  },
  {
   "cell_type": "code",
   "execution_count": 62,
   "metadata": {},
   "outputs": [
    {
     "data": {
      "text/plain": [
       "array(['Sports', 'Racing', 'Platform', 'Misc', 'Simulation', 'Action',\n",
       "       'Role-Playing', 'Puzzle', 'Shooter', 'Fighting', 'Adventure',\n",
       "       'Strategy'], dtype=object)"
      ]
     },
     "execution_count": 62,
     "metadata": {},
     "output_type": "execute_result"
    }
   ],
   "source": [
    "actual_df.genre.unique()"
   ]
  },
  {
   "cell_type": "code",
   "execution_count": 63,
   "metadata": {},
   "outputs": [],
   "source": [
    "action = actual_df.query('genre == \"Action\" and user_score != 0')\n",
    "action_user_ratings = action['user_score']"
   ]
  },
  {
   "cell_type": "code",
   "execution_count": 64,
   "metadata": {},
   "outputs": [
    {
     "data": {
      "text/plain": [
       "1.8671391428300448"
      ]
     },
     "execution_count": 64,
     "metadata": {},
     "output_type": "execute_result"
    }
   ],
   "source": [
    "np.var(action_user_ratings)"
   ]
  },
  {
   "cell_type": "code",
   "execution_count": 65,
   "metadata": {},
   "outputs": [
    {
     "data": {
      "text/plain": [
       "<matplotlib.axes._subplots.AxesSubplot at 0x7f59a30d7f50>"
      ]
     },
     "execution_count": 65,
     "metadata": {},
     "output_type": "execute_result"
    },
    {
     "data": {
      "image/png": "[encoded data removed]",
      "text/plain": [
       "<Figure size 432x288 with 1 Axes>"
      ]
     },
     "metadata": {
      "needs_background": "light"
     },
     "output_type": "display_data"
    }
   ],
   "source": [
    "action_user_ratings.hist()"
   ]
  },
  {
   "cell_type": "code",
   "execution_count": 66,
   "metadata": {},
   "outputs": [],
   "source": [
    "sports = actual_df.query('genre == \"Sports\" and user_score != 0')\n",
    "sports_user_ratings = sports['user_score']"
   ]
  },
  {
   "cell_type": "code",
   "execution_count": 67,
   "metadata": {},
   "outputs": [
    {
     "data": {
      "text/plain": [
       "2.685982839163841"
      ]
     },
     "execution_count": 67,
     "metadata": {},
     "output_type": "execute_result"
    }
   ],
   "source": [
    "np.var(sports_user_ratings)"
   ]
  },
  {
   "cell_type": "code",
   "execution_count": 68,
   "metadata": {},
   "outputs": [
    {
     "data": {
      "text/plain": [
       "<matplotlib.axes._subplots.AxesSubplot at 0x7f59a342bfd0>"
      ]
     },
     "execution_count": 68,
     "metadata": {},
     "output_type": "execute_result"
    },
    {
     "data": {
      "image/png": "[encoded data removed]",
      "text/plain": [
       "<Figure size 432x288 with 1 Axes>"
      ]
     },
     "metadata": {
      "needs_background": "light"
     },
     "output_type": "display_data"
    }
   ],
   "source": [
    "sports_user_ratings.hist()"
   ]
  },
  {
   "cell_type": "code",
   "execution_count": 69,
   "metadata": {},
   "outputs": [
    {
     "name": "stdout",
     "output_type": "stream",
     "text": [
      "p-значение: 5.717661260563439e-09\n",
      "Отвергаем нулевую гипотезу\n"
     ]
    }
   ],
   "source": [
    "alpha = .05 \n",
    "\n",
    "results = st.ttest_ind(\n",
    "    action_user_ratings, \n",
    "    sports_user_ratings,\n",
    "    equal_var = False)\n",
    "\n",
    "print('p-значение:', results.pvalue)\n",
    "\n",
    "if results.pvalue < alpha:\n",
    "    print(\"Отвергаем нулевую гипотезу\")\n",
    "else:\n",
    "    print(\"Не получилось отвергнуть нулевую гипотезу\")"
   ]
  },
  {
   "cell_type": "markdown",
   "metadata": {},
   "source": [
    "<a id='Step_5_conclusion'></a>\n",
    "### Вывод:\n",
    "1. Мы отвергли нулевую гипотезу: \"Средние пользовательские рейтинги платформ Xbox One и PC одинаковые\"\n",
    "    - Рейтинги платформ отличаются\n",
    "\n",
    "2. Мы отвергли нулевую гипотезу: \"Средние пользовательские рейтинги жанров Action и Sports одинаковые\"\n",
    "    - Рейтинги жанров отличаются"
   ]
  },
  {
   "cell_type": "markdown",
   "metadata": {},
   "source": [
    "**<a href='#top'>Вернуться в начало</a>**"
   ]
  },
  {
   "cell_type": "markdown",
   "metadata": {},
   "source": [
    "<a id='Step_6'></a>\n",
    "## Общий вывод:\n",
    "1. Мы исследовали данные по релизам игр с 2005 по 2016. Был выбран период активности существующих на момент проведения исследования платформ.\n",
    "2. Был составлен топ Топ-5 платформ лидеров по выручке:\n",
    "    - X360\n",
    "    - Wii\n",
    "    - PS3\n",
    "    - PS4\n",
    "    - 3DS\n",
    "3. При этом положительная динамика по выручке обнаружена только у одной платформы:\n",
    "    - PS4\n",
    "4. При выборе платформы для релиза необходимо учитывать региональные особенности. Существенные особенности в регионе JP\n",
    "5. Обнаружено, что пользовательские рейтинги рейтинги критиков не оказывают существенного влияния на выручку от продажи игр.\n",
    "\n"
   ]
  },
  {
   "cell_type": "markdown",
   "metadata": {},
   "source": [
    "**<a href='#top'>Вернуться в начало</a>**"
   ]
  }
 ],
 "metadata": {
  "kernelspec": {
   "display_name": "Python 3",
   "language": "python",
   "name": "python3"
  },
  "language_info": {
   "codemirror_mode": {
    "name": "ipython",
    "version": 3
   },
   "file_extension": ".py",
   "mimetype": "text/x-python",
   "name": "python",
   "nbconvert_exporter": "python",
   "pygments_lexer": "ipython3",
   "version": "3.7.6"
  }
 },
 "nbformat": 4,
 "nbformat_minor": 2
}
