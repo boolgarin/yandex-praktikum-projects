{
 "cells": [
  {
   "cell_type": "markdown",
   "metadata": {},
   "source": [
    "<a id='top'></a>\n",
    "# План проекта:\n",
    "### <a href='#Step_1'>Шаг 1. Импорт файла с данными и изучение общей информации</a>\n",
    "#### <a href='#Step_1_conclusion'>Вывод</a>\n",
    "\n",
    "### <a href='#Step_2'>Шаг 2. Подготовка данных</a>\n",
    "\n",
    "#### <a href='#Step_2_1'>2.1 Переработка данных</a>\n",
    "##### <a href='#Step_2_1_1'>2.1.1 Изменение типов данных</a>\n",
    "##### <a href='#Step_2_1_2'>2.1.2 Исправление ошибок в данных</a>\n",
    "#### <a href='#Step_2_1_conclusion'>Вывод</a>\n",
    "\n",
    "#### <a href='#Step_2_2'>2.2 Посчитайте для каждого пользователя:</a>\n",
    "##### <a href='#Step_2_2_1'>2.2.1 количество сделанных звонков и израсходованных минут разговора по месяцам</a>\n",
    "##### <a href='#Step_2_2_2'>2.2.2 количество отправленных сообщений по месяцам</a>\n",
    "##### <a href='#Step_2_2_3'>2.2.3 объем израсходованного интернет-трафика по месяцам</a>\n",
    "##### <a href='#Step_2_2_3'>2.2.4 помесячную выручку с каждого пользователя</a>\n",
    "#### <a href='#Step_2_2_conclusion'>Вывод</a>\n",
    "\n",
    "### <a href='#Step_3'>Шаг 3. Анализ данных</a>\n",
    "#### <a href='#Step_3_1'>3.1 Исследование времени разговоров</a>\n",
    "#### <a href='#Step_3_2'>3.2 Исследование количества сообщений</a>\n",
    "#### <a href='#Step_3_3'>3.3 Исследование трафика</a>\n",
    "#### <a href='#Step_3_1_conclusion'>Вывод</a>\n",
    "\n",
    "### <a href='#Step_4'>Шаг 4. Проверка гипотез</a>\n",
    "#### <a href='#Step_4_1'>4.1 Средняя выручка пользователей тарифов «Ультра» и «Смарт» различается</a>\n",
    "#### <a href='#Step_4_2'>4.2 Средняя выручка пользователей из Москвы отличается от выручки пользователей из других регионов</a>\n",
    "#### <a href='#Step_4_conclusion'>4.2 Средняя выручка пользователей из Москвы отличается от выручки пользователей из других регионов</a>\n",
    "### <a href='#Step_5'>Общий вывод</a>"
   ]
  },
  {
   "cell_type": "markdown",
   "metadata": {},
   "source": [
    "<a id='Step_1'></a>\n",
    "### Шаг 1. Импорт файлов с данными и изучение общей информации"
   ]
  },
  {
   "cell_type": "code",
   "execution_count": 1,
   "metadata": {},
   "outputs": [],
   "source": [
    "#Импортируем необходимые библиотеки\n",
    "import pandas as pd\n",
    "import matplotlib.pyplot as plt\n",
    "import numpy as np\n",
    "from scipy import stats as st"
   ]
  },
  {
   "cell_type": "code",
   "execution_count": 2,
   "metadata": {},
   "outputs": [
    {
     "name": "stdout",
     "output_type": "stream",
     "text": [
      "<class 'pandas.core.frame.DataFrame'>\n",
      "RangeIndex: 202607 entries, 0 to 202606\n",
      "Data columns (total 4 columns):\n",
      "id           202607 non-null object\n",
      "call_date    202607 non-null object\n",
      "duration     202607 non-null float64\n",
      "user_id      202607 non-null int64\n",
      "dtypes: float64(1), int64(1), object(2)\n",
      "memory usage: 6.2+ MB\n"
     ]
    },
    {
     "data": {
      "text/html": [
       "<div>\n",
       "<style scoped>\n",
       "    .dataframe tbody tr th:only-of-type {\n",
       "        vertical-align: middle;\n",
       "    }\n",
       "\n",
       "    .dataframe tbody tr th {\n",
       "        vertical-align: top;\n",
       "    }\n",
       "\n",
       "    .dataframe thead th {\n",
       "        text-align: right;\n",
       "    }\n",
       "</style>\n",
       "<table border=\"1\" class=\"dataframe\">\n",
       "  <thead>\n",
       "    <tr style=\"text-align: right;\">\n",
       "      <th></th>\n",
       "      <th>id</th>\n",
       "      <th>call_date</th>\n",
       "      <th>duration</th>\n",
       "      <th>user_id</th>\n",
       "    </tr>\n",
       "  </thead>\n",
       "  <tbody>\n",
       "    <tr>\n",
       "      <td>180105</td>\n",
       "      <td>1450_123</td>\n",
       "      <td>2018-10-23</td>\n",
       "      <td>9.68</td>\n",
       "      <td>1450</td>\n",
       "    </tr>\n",
       "    <tr>\n",
       "      <td>43977</td>\n",
       "      <td>1110_259</td>\n",
       "      <td>2018-08-30</td>\n",
       "      <td>8.98</td>\n",
       "      <td>1110</td>\n",
       "    </tr>\n",
       "    <tr>\n",
       "      <td>140334</td>\n",
       "      <td>1358_96</td>\n",
       "      <td>2018-03-26</td>\n",
       "      <td>6.66</td>\n",
       "      <td>1358</td>\n",
       "    </tr>\n",
       "    <tr>\n",
       "      <td>43145</td>\n",
       "      <td>1109_120</td>\n",
       "      <td>2018-11-03</td>\n",
       "      <td>9.61</td>\n",
       "      <td>1109</td>\n",
       "    </tr>\n",
       "    <tr>\n",
       "      <td>17927</td>\n",
       "      <td>1049_282</td>\n",
       "      <td>2018-09-27</td>\n",
       "      <td>1.25</td>\n",
       "      <td>1049</td>\n",
       "    </tr>\n",
       "    <tr>\n",
       "      <td>52686</td>\n",
       "      <td>1132_279</td>\n",
       "      <td>2018-10-24</td>\n",
       "      <td>18.56</td>\n",
       "      <td>1132</td>\n",
       "    </tr>\n",
       "    <tr>\n",
       "      <td>27508</td>\n",
       "      <td>1067_418</td>\n",
       "      <td>2018-06-02</td>\n",
       "      <td>7.15</td>\n",
       "      <td>1067</td>\n",
       "    </tr>\n",
       "    <tr>\n",
       "      <td>50637</td>\n",
       "      <td>1126_200</td>\n",
       "      <td>2018-09-23</td>\n",
       "      <td>3.93</td>\n",
       "      <td>1126</td>\n",
       "    </tr>\n",
       "    <tr>\n",
       "      <td>40224</td>\n",
       "      <td>1099_597</td>\n",
       "      <td>2018-04-04</td>\n",
       "      <td>8.59</td>\n",
       "      <td>1099</td>\n",
       "    </tr>\n",
       "    <tr>\n",
       "      <td>9215</td>\n",
       "      <td>1024_246</td>\n",
       "      <td>2018-11-12</td>\n",
       "      <td>4.85</td>\n",
       "      <td>1024</td>\n",
       "    </tr>\n",
       "  </tbody>\n",
       "</table>\n",
       "</div>"
      ],
      "text/plain": [
       "              id   call_date  duration  user_id\n",
       "180105  1450_123  2018-10-23      9.68     1450\n",
       "43977   1110_259  2018-08-30      8.98     1110\n",
       "140334   1358_96  2018-03-26      6.66     1358\n",
       "43145   1109_120  2018-11-03      9.61     1109\n",
       "17927   1049_282  2018-09-27      1.25     1049\n",
       "52686   1132_279  2018-10-24     18.56     1132\n",
       "27508   1067_418  2018-06-02      7.15     1067\n",
       "50637   1126_200  2018-09-23      3.93     1126\n",
       "40224   1099_597  2018-04-04      8.59     1099\n",
       "9215    1024_246  2018-11-12      4.85     1024"
      ]
     },
     "execution_count": 2,
     "metadata": {},
     "output_type": "execute_result"
    }
   ],
   "source": [
    "#Импортируем файлы данных\n",
    "calls = pd.read_csv('/datasets/calls.csv', sep=',')\n",
    "calls.info()\n",
    "calls.sample(10)"
   ]
  },
  {
   "cell_type": "code",
   "execution_count": 3,
   "metadata": {},
   "outputs": [
    {
     "name": "stdout",
     "output_type": "stream",
     "text": [
      "<class 'pandas.core.frame.DataFrame'>\n",
      "Int64Index: 149396 entries, 0 to 149395\n",
      "Data columns (total 4 columns):\n",
      "id              149396 non-null object\n",
      "mb_used         149396 non-null float64\n",
      "session_date    149396 non-null object\n",
      "user_id         149396 non-null int64\n",
      "dtypes: float64(1), int64(1), object(2)\n",
      "memory usage: 5.7+ MB\n"
     ]
    },
    {
     "data": {
      "text/html": [
       "<div>\n",
       "<style scoped>\n",
       "    .dataframe tbody tr th:only-of-type {\n",
       "        vertical-align: middle;\n",
       "    }\n",
       "\n",
       "    .dataframe tbody tr th {\n",
       "        vertical-align: top;\n",
       "    }\n",
       "\n",
       "    .dataframe thead th {\n",
       "        text-align: right;\n",
       "    }\n",
       "</style>\n",
       "<table border=\"1\" class=\"dataframe\">\n",
       "  <thead>\n",
       "    <tr style=\"text-align: right;\">\n",
       "      <th></th>\n",
       "      <th>id</th>\n",
       "      <th>mb_used</th>\n",
       "      <th>session_date</th>\n",
       "      <th>user_id</th>\n",
       "    </tr>\n",
       "  </thead>\n",
       "  <tbody>\n",
       "    <tr>\n",
       "      <td>56676</td>\n",
       "      <td>1189_115</td>\n",
       "      <td>404.41</td>\n",
       "      <td>2018-07-02</td>\n",
       "      <td>1189</td>\n",
       "    </tr>\n",
       "    <tr>\n",
       "      <td>34990</td>\n",
       "      <td>1121_348</td>\n",
       "      <td>277.98</td>\n",
       "      <td>2018-08-30</td>\n",
       "      <td>1121</td>\n",
       "    </tr>\n",
       "    <tr>\n",
       "      <td>133387</td>\n",
       "      <td>1446_170</td>\n",
       "      <td>534.81</td>\n",
       "      <td>2018-09-02</td>\n",
       "      <td>1446</td>\n",
       "    </tr>\n",
       "    <tr>\n",
       "      <td>39780</td>\n",
       "      <td>1139_35</td>\n",
       "      <td>76.31</td>\n",
       "      <td>2018-12-15</td>\n",
       "      <td>1139</td>\n",
       "    </tr>\n",
       "    <tr>\n",
       "      <td>7350</td>\n",
       "      <td>1025_242</td>\n",
       "      <td>27.65</td>\n",
       "      <td>2018-10-26</td>\n",
       "      <td>1025</td>\n",
       "    </tr>\n",
       "    <tr>\n",
       "      <td>44565</td>\n",
       "      <td>1154_123</td>\n",
       "      <td>0.00</td>\n",
       "      <td>2018-10-12</td>\n",
       "      <td>1154</td>\n",
       "    </tr>\n",
       "    <tr>\n",
       "      <td>7488</td>\n",
       "      <td>1025_380</td>\n",
       "      <td>0.00</td>\n",
       "      <td>2018-05-30</td>\n",
       "      <td>1025</td>\n",
       "    </tr>\n",
       "    <tr>\n",
       "      <td>140277</td>\n",
       "      <td>1471_160</td>\n",
       "      <td>253.39</td>\n",
       "      <td>2018-05-05</td>\n",
       "      <td>1471</td>\n",
       "    </tr>\n",
       "    <tr>\n",
       "      <td>53865</td>\n",
       "      <td>1180_356</td>\n",
       "      <td>639.50</td>\n",
       "      <td>2018-05-07</td>\n",
       "      <td>1180</td>\n",
       "    </tr>\n",
       "    <tr>\n",
       "      <td>83980</td>\n",
       "      <td>1284_334</td>\n",
       "      <td>352.82</td>\n",
       "      <td>2018-05-27</td>\n",
       "      <td>1284</td>\n",
       "    </tr>\n",
       "  </tbody>\n",
       "</table>\n",
       "</div>"
      ],
      "text/plain": [
       "              id  mb_used session_date  user_id\n",
       "56676   1189_115   404.41   2018-07-02     1189\n",
       "34990   1121_348   277.98   2018-08-30     1121\n",
       "133387  1446_170   534.81   2018-09-02     1446\n",
       "39780    1139_35    76.31   2018-12-15     1139\n",
       "7350    1025_242    27.65   2018-10-26     1025\n",
       "44565   1154_123     0.00   2018-10-12     1154\n",
       "7488    1025_380     0.00   2018-05-30     1025\n",
       "140277  1471_160   253.39   2018-05-05     1471\n",
       "53865   1180_356   639.50   2018-05-07     1180\n",
       "83980   1284_334   352.82   2018-05-27     1284"
      ]
     },
     "execution_count": 3,
     "metadata": {},
     "output_type": "execute_result"
    }
   ],
   "source": [
    "internet = pd.read_csv('/datasets/internet.csv', sep=',', index_col=0)\n",
    "internet.info()\n",
    "internet.sample(10)"
   ]
  },
  {
   "cell_type": "code",
   "execution_count": 4,
   "metadata": {},
   "outputs": [
    {
     "name": "stdout",
     "output_type": "stream",
     "text": [
      "<class 'pandas.core.frame.DataFrame'>\n",
      "RangeIndex: 123036 entries, 0 to 123035\n",
      "Data columns (total 3 columns):\n",
      "id              123036 non-null object\n",
      "message_date    123036 non-null object\n",
      "user_id         123036 non-null int64\n",
      "dtypes: int64(1), object(2)\n",
      "memory usage: 2.8+ MB\n"
     ]
    },
    {
     "data": {
      "text/html": [
       "<div>\n",
       "<style scoped>\n",
       "    .dataframe tbody tr th:only-of-type {\n",
       "        vertical-align: middle;\n",
       "    }\n",
       "\n",
       "    .dataframe tbody tr th {\n",
       "        vertical-align: top;\n",
       "    }\n",
       "\n",
       "    .dataframe thead th {\n",
       "        text-align: right;\n",
       "    }\n",
       "</style>\n",
       "<table border=\"1\" class=\"dataframe\">\n",
       "  <thead>\n",
       "    <tr style=\"text-align: right;\">\n",
       "      <th></th>\n",
       "      <th>id</th>\n",
       "      <th>message_date</th>\n",
       "      <th>user_id</th>\n",
       "    </tr>\n",
       "  </thead>\n",
       "  <tbody>\n",
       "    <tr>\n",
       "      <td>60029</td>\n",
       "      <td>1264_87</td>\n",
       "      <td>2018-05-07</td>\n",
       "      <td>1264</td>\n",
       "    </tr>\n",
       "    <tr>\n",
       "      <td>90648</td>\n",
       "      <td>1375_448</td>\n",
       "      <td>2018-12-25</td>\n",
       "      <td>1375</td>\n",
       "    </tr>\n",
       "    <tr>\n",
       "      <td>43397</td>\n",
       "      <td>1187_150</td>\n",
       "      <td>2018-09-18</td>\n",
       "      <td>1187</td>\n",
       "    </tr>\n",
       "    <tr>\n",
       "      <td>102415</td>\n",
       "      <td>1417_277</td>\n",
       "      <td>2018-11-03</td>\n",
       "      <td>1417</td>\n",
       "    </tr>\n",
       "    <tr>\n",
       "      <td>116751</td>\n",
       "      <td>1474_137</td>\n",
       "      <td>2018-12-23</td>\n",
       "      <td>1474</td>\n",
       "    </tr>\n",
       "    <tr>\n",
       "      <td>95642</td>\n",
       "      <td>1393_216</td>\n",
       "      <td>2018-09-11</td>\n",
       "      <td>1393</td>\n",
       "    </tr>\n",
       "    <tr>\n",
       "      <td>75115</td>\n",
       "      <td>1318_144</td>\n",
       "      <td>2018-10-03</td>\n",
       "      <td>1318</td>\n",
       "    </tr>\n",
       "    <tr>\n",
       "      <td>87431</td>\n",
       "      <td>1364_165</td>\n",
       "      <td>2018-08-30</td>\n",
       "      <td>1364</td>\n",
       "    </tr>\n",
       "    <tr>\n",
       "      <td>114222</td>\n",
       "      <td>1465_114</td>\n",
       "      <td>2018-12-16</td>\n",
       "      <td>1465</td>\n",
       "    </tr>\n",
       "    <tr>\n",
       "      <td>69140</td>\n",
       "      <td>1295_234</td>\n",
       "      <td>2018-11-18</td>\n",
       "      <td>1295</td>\n",
       "    </tr>\n",
       "  </tbody>\n",
       "</table>\n",
       "</div>"
      ],
      "text/plain": [
       "              id message_date  user_id\n",
       "60029    1264_87   2018-05-07     1264\n",
       "90648   1375_448   2018-12-25     1375\n",
       "43397   1187_150   2018-09-18     1187\n",
       "102415  1417_277   2018-11-03     1417\n",
       "116751  1474_137   2018-12-23     1474\n",
       "95642   1393_216   2018-09-11     1393\n",
       "75115   1318_144   2018-10-03     1318\n",
       "87431   1364_165   2018-08-30     1364\n",
       "114222  1465_114   2018-12-16     1465\n",
       "69140   1295_234   2018-11-18     1295"
      ]
     },
     "execution_count": 4,
     "metadata": {},
     "output_type": "execute_result"
    }
   ],
   "source": [
    "messages = pd.read_csv('/datasets/messages.csv', sep=',')\n",
    "messages.info()\n",
    "messages.sample(10)"
   ]
  },
  {
   "cell_type": "code",
   "execution_count": 5,
   "metadata": {},
   "outputs": [
    {
     "name": "stdout",
     "output_type": "stream",
     "text": [
      "<class 'pandas.core.frame.DataFrame'>\n",
      "RangeIndex: 2 entries, 0 to 1\n",
      "Data columns (total 8 columns):\n",
      "messages_included        2 non-null int64\n",
      "mb_per_month_included    2 non-null int64\n",
      "minutes_included         2 non-null int64\n",
      "rub_monthly_fee          2 non-null int64\n",
      "rub_per_gb               2 non-null int64\n",
      "rub_per_message          2 non-null int64\n",
      "rub_per_minute           2 non-null int64\n",
      "tariff_name              2 non-null object\n",
      "dtypes: int64(7), object(1)\n",
      "memory usage: 256.0+ bytes\n"
     ]
    },
    {
     "data": {
      "text/html": [
       "<div>\n",
       "<style scoped>\n",
       "    .dataframe tbody tr th:only-of-type {\n",
       "        vertical-align: middle;\n",
       "    }\n",
       "\n",
       "    .dataframe tbody tr th {\n",
       "        vertical-align: top;\n",
       "    }\n",
       "\n",
       "    .dataframe thead th {\n",
       "        text-align: right;\n",
       "    }\n",
       "</style>\n",
       "<table border=\"1\" class=\"dataframe\">\n",
       "  <thead>\n",
       "    <tr style=\"text-align: right;\">\n",
       "      <th></th>\n",
       "      <th>messages_included</th>\n",
       "      <th>mb_per_month_included</th>\n",
       "      <th>minutes_included</th>\n",
       "      <th>rub_monthly_fee</th>\n",
       "      <th>rub_per_gb</th>\n",
       "      <th>rub_per_message</th>\n",
       "      <th>rub_per_minute</th>\n",
       "      <th>tariff_name</th>\n",
       "    </tr>\n",
       "  </thead>\n",
       "  <tbody>\n",
       "    <tr>\n",
       "      <td>0</td>\n",
       "      <td>50</td>\n",
       "      <td>15360</td>\n",
       "      <td>500</td>\n",
       "      <td>550</td>\n",
       "      <td>200</td>\n",
       "      <td>3</td>\n",
       "      <td>3</td>\n",
       "      <td>smart</td>\n",
       "    </tr>\n",
       "    <tr>\n",
       "      <td>1</td>\n",
       "      <td>1000</td>\n",
       "      <td>30720</td>\n",
       "      <td>3000</td>\n",
       "      <td>1950</td>\n",
       "      <td>150</td>\n",
       "      <td>1</td>\n",
       "      <td>1</td>\n",
       "      <td>ultra</td>\n",
       "    </tr>\n",
       "  </tbody>\n",
       "</table>\n",
       "</div>"
      ],
      "text/plain": [
       "   messages_included  mb_per_month_included  minutes_included  \\\n",
       "0                 50                  15360               500   \n",
       "1               1000                  30720              3000   \n",
       "\n",
       "   rub_monthly_fee  rub_per_gb  rub_per_message  rub_per_minute tariff_name  \n",
       "0              550         200                3               3       smart  \n",
       "1             1950         150                1               1       ultra  "
      ]
     },
     "execution_count": 5,
     "metadata": {},
     "output_type": "execute_result"
    }
   ],
   "source": [
    "tariffs = pd.read_csv('/datasets/tariffs.csv', sep=',')\n",
    "tariffs.info()\n",
    "tariffs"
   ]
  },
  {
   "cell_type": "code",
   "execution_count": 6,
   "metadata": {},
   "outputs": [
    {
     "name": "stdout",
     "output_type": "stream",
     "text": [
      "<class 'pandas.core.frame.DataFrame'>\n",
      "RangeIndex: 500 entries, 0 to 499\n",
      "Data columns (total 8 columns):\n",
      "user_id       500 non-null int64\n",
      "age           500 non-null int64\n",
      "churn_date    38 non-null object\n",
      "city          500 non-null object\n",
      "first_name    500 non-null object\n",
      "last_name     500 non-null object\n",
      "reg_date      500 non-null object\n",
      "tariff        500 non-null object\n",
      "dtypes: int64(2), object(6)\n",
      "memory usage: 31.4+ KB\n"
     ]
    },
    {
     "data": {
      "text/html": [
       "<div>\n",
       "<style scoped>\n",
       "    .dataframe tbody tr th:only-of-type {\n",
       "        vertical-align: middle;\n",
       "    }\n",
       "\n",
       "    .dataframe tbody tr th {\n",
       "        vertical-align: top;\n",
       "    }\n",
       "\n",
       "    .dataframe thead th {\n",
       "        text-align: right;\n",
       "    }\n",
       "</style>\n",
       "<table border=\"1\" class=\"dataframe\">\n",
       "  <thead>\n",
       "    <tr style=\"text-align: right;\">\n",
       "      <th></th>\n",
       "      <th>user_id</th>\n",
       "      <th>age</th>\n",
       "      <th>churn_date</th>\n",
       "      <th>city</th>\n",
       "      <th>first_name</th>\n",
       "      <th>last_name</th>\n",
       "      <th>reg_date</th>\n",
       "      <th>tariff</th>\n",
       "    </tr>\n",
       "  </thead>\n",
       "  <tbody>\n",
       "    <tr>\n",
       "      <td>120</td>\n",
       "      <td>1120</td>\n",
       "      <td>25</td>\n",
       "      <td>NaN</td>\n",
       "      <td>Краснодар</td>\n",
       "      <td>Агнесса</td>\n",
       "      <td>Абдулина</td>\n",
       "      <td>2018-01-24</td>\n",
       "      <td>ultra</td>\n",
       "    </tr>\n",
       "    <tr>\n",
       "      <td>181</td>\n",
       "      <td>1181</td>\n",
       "      <td>37</td>\n",
       "      <td>NaN</td>\n",
       "      <td>Омск</td>\n",
       "      <td>Рем</td>\n",
       "      <td>Аврорин</td>\n",
       "      <td>2018-11-23</td>\n",
       "      <td>smart</td>\n",
       "    </tr>\n",
       "    <tr>\n",
       "      <td>379</td>\n",
       "      <td>1379</td>\n",
       "      <td>39</td>\n",
       "      <td>NaN</td>\n",
       "      <td>Москва</td>\n",
       "      <td>Нелли</td>\n",
       "      <td>Кочергина</td>\n",
       "      <td>2018-08-09</td>\n",
       "      <td>ultra</td>\n",
       "    </tr>\n",
       "    <tr>\n",
       "      <td>22</td>\n",
       "      <td>1022</td>\n",
       "      <td>72</td>\n",
       "      <td>NaN</td>\n",
       "      <td>Санкт-Петербург</td>\n",
       "      <td>Василиса</td>\n",
       "      <td>Трофимова</td>\n",
       "      <td>2018-12-01</td>\n",
       "      <td>smart</td>\n",
       "    </tr>\n",
       "    <tr>\n",
       "      <td>187</td>\n",
       "      <td>1187</td>\n",
       "      <td>60</td>\n",
       "      <td>NaN</td>\n",
       "      <td>Рязань</td>\n",
       "      <td>Виталий</td>\n",
       "      <td>Овчинников</td>\n",
       "      <td>2018-08-22</td>\n",
       "      <td>smart</td>\n",
       "    </tr>\n",
       "    <tr>\n",
       "      <td>27</td>\n",
       "      <td>1027</td>\n",
       "      <td>62</td>\n",
       "      <td>NaN</td>\n",
       "      <td>Петрозаводск</td>\n",
       "      <td>Владислав</td>\n",
       "      <td>Авдеев</td>\n",
       "      <td>2018-04-10</td>\n",
       "      <td>smart</td>\n",
       "    </tr>\n",
       "    <tr>\n",
       "      <td>117</td>\n",
       "      <td>1117</td>\n",
       "      <td>42</td>\n",
       "      <td>NaN</td>\n",
       "      <td>Тюмень</td>\n",
       "      <td>Дана</td>\n",
       "      <td>Меркулова</td>\n",
       "      <td>2018-12-10</td>\n",
       "      <td>smart</td>\n",
       "    </tr>\n",
       "    <tr>\n",
       "      <td>412</td>\n",
       "      <td>1412</td>\n",
       "      <td>63</td>\n",
       "      <td>NaN</td>\n",
       "      <td>Волгоград</td>\n",
       "      <td>Геодар</td>\n",
       "      <td>Афонин</td>\n",
       "      <td>2018-06-05</td>\n",
       "      <td>ultra</td>\n",
       "    </tr>\n",
       "    <tr>\n",
       "      <td>83</td>\n",
       "      <td>1083</td>\n",
       "      <td>24</td>\n",
       "      <td>NaN</td>\n",
       "      <td>Сочи</td>\n",
       "      <td>Рустэм</td>\n",
       "      <td>Галкин</td>\n",
       "      <td>2018-04-24</td>\n",
       "      <td>smart</td>\n",
       "    </tr>\n",
       "    <tr>\n",
       "      <td>137</td>\n",
       "      <td>1137</td>\n",
       "      <td>64</td>\n",
       "      <td>NaN</td>\n",
       "      <td>Кемерово</td>\n",
       "      <td>Ким</td>\n",
       "      <td>Артёшин</td>\n",
       "      <td>2018-12-02</td>\n",
       "      <td>smart</td>\n",
       "    </tr>\n",
       "  </tbody>\n",
       "</table>\n",
       "</div>"
      ],
      "text/plain": [
       "     user_id  age churn_date             city first_name   last_name  \\\n",
       "120     1120   25        NaN        Краснодар    Агнесса    Абдулина   \n",
       "181     1181   37        NaN             Омск        Рем     Аврорин   \n",
       "379     1379   39        NaN           Москва      Нелли   Кочергина   \n",
       "22      1022   72        NaN  Санкт-Петербург   Василиса   Трофимова   \n",
       "187     1187   60        NaN           Рязань    Виталий  Овчинников   \n",
       "27      1027   62        NaN     Петрозаводск  Владислав      Авдеев   \n",
       "117     1117   42        NaN           Тюмень       Дана   Меркулова   \n",
       "412     1412   63        NaN        Волгоград     Геодар      Афонин   \n",
       "83      1083   24        NaN             Сочи     Рустэм      Галкин   \n",
       "137     1137   64        NaN         Кемерово        Ким     Артёшин   \n",
       "\n",
       "       reg_date tariff  \n",
       "120  2018-01-24  ultra  \n",
       "181  2018-11-23  smart  \n",
       "379  2018-08-09  ultra  \n",
       "22   2018-12-01  smart  \n",
       "187  2018-08-22  smart  \n",
       "27   2018-04-10  smart  \n",
       "117  2018-12-10  smart  \n",
       "412  2018-06-05  ultra  \n",
       "83   2018-04-24  smart  \n",
       "137  2018-12-02  smart  "
      ]
     },
     "execution_count": 6,
     "metadata": {},
     "output_type": "execute_result"
    }
   ],
   "source": [
    "users = pd.read_csv('/datasets/users.csv', sep=',')\n",
    "users.info()\n",
    "users.sample(10)"
   ]
  },
  {
   "cell_type": "markdown",
   "metadata": {},
   "source": [
    "<a id='Step_1_conclusion'></a>\n",
    "### Вывод:\n",
    "- calls - более 39000 строк со временем звонка 0. Предположительно, это значение появляется, когда абонент не дозвонился. По условиям обоих тарифов такие звонки не тарифицируются. Удалим эти строки.\n",
    "- tariffs - изменим название столбца tariff_name на tariff. Потребуется для объединения таблиц\n",
    "- во всех датафреймах даты в формате object заменим на datetime"
   ]
  },
  {
   "cell_type": "markdown",
   "metadata": {},
   "source": [
    "<a id='Step_2'></a>\n",
    "### Шаг 2. Подготовка данных"
   ]
  },
  {
   "cell_type": "markdown",
   "metadata": {},
   "source": [
    "<a id='Step_2_1'></a>\n",
    "### 2.1 Переработка данных"
   ]
  },
  {
   "cell_type": "markdown",
   "metadata": {},
   "source": [
    "<a id='Step_2_1_1'></a>\n",
    "#### 2.1.1 Изменение типов данных"
   ]
  },
  {
   "cell_type": "code",
   "execution_count": 7,
   "metadata": {},
   "outputs": [],
   "source": [
    "#список датафреймов, в которых нужно поменять тип данных на datetime\n",
    "date_df = [calls, internet, messages, users]"
   ]
  },
  {
   "cell_type": "code",
   "execution_count": 8,
   "metadata": {},
   "outputs": [],
   "source": [
    "#функция меняет тип данных на datetime\n",
    "def change_to_datetime (df):\n",
    "    for column in df.columns:\n",
    "        if 'date' in column:\n",
    "            df[column] = pd.to_datetime(df[column], format = '%Y-%m-%d')\n",
    "    return df"
   ]
  },
  {
   "cell_type": "code",
   "execution_count": 9,
   "metadata": {},
   "outputs": [
    {
     "name": "stdout",
     "output_type": "stream",
     "text": [
      "\n",
      "<class 'pandas.core.frame.DataFrame'>\n",
      "RangeIndex: 202607 entries, 0 to 202606\n",
      "Data columns (total 4 columns):\n",
      "id           202607 non-null object\n",
      "call_date    202607 non-null datetime64[ns]\n",
      "duration     202607 non-null float64\n",
      "user_id      202607 non-null int64\n",
      "dtypes: datetime64[ns](1), float64(1), int64(1), object(1)\n",
      "memory usage: 6.2+ MB\n",
      "\n",
      "<class 'pandas.core.frame.DataFrame'>\n",
      "Int64Index: 149396 entries, 0 to 149395\n",
      "Data columns (total 4 columns):\n",
      "id              149396 non-null object\n",
      "mb_used         149396 non-null float64\n",
      "session_date    149396 non-null datetime64[ns]\n",
      "user_id         149396 non-null int64\n",
      "dtypes: datetime64[ns](1), float64(1), int64(1), object(1)\n",
      "memory usage: 5.7+ MB\n",
      "\n",
      "<class 'pandas.core.frame.DataFrame'>\n",
      "RangeIndex: 123036 entries, 0 to 123035\n",
      "Data columns (total 3 columns):\n",
      "id              123036 non-null object\n",
      "message_date    123036 non-null datetime64[ns]\n",
      "user_id         123036 non-null int64\n",
      "dtypes: datetime64[ns](1), int64(1), object(1)\n",
      "memory usage: 2.8+ MB\n",
      "\n",
      "<class 'pandas.core.frame.DataFrame'>\n",
      "RangeIndex: 500 entries, 0 to 499\n",
      "Data columns (total 8 columns):\n",
      "user_id       500 non-null int64\n",
      "age           500 non-null int64\n",
      "churn_date    38 non-null datetime64[ns]\n",
      "city          500 non-null object\n",
      "first_name    500 non-null object\n",
      "last_name     500 non-null object\n",
      "reg_date      500 non-null datetime64[ns]\n",
      "tariff        500 non-null object\n",
      "dtypes: datetime64[ns](2), int64(2), object(4)\n",
      "memory usage: 31.4+ KB\n"
     ]
    }
   ],
   "source": [
    "#выполним функцию и проверим результат\n",
    "for dataframe in date_df:\n",
    "    dataframe = change_to_datetime(dataframe)\n",
    "    print()\n",
    "    dataframe.info()"
   ]
  },
  {
   "cell_type": "markdown",
   "metadata": {},
   "source": [
    "<a id='Step_2_1_2'></a>\n",
    "#### 2.1.2 Исправление ошибок в данных"
   ]
  },
  {
   "cell_type": "code",
   "execution_count": 10,
   "metadata": {},
   "outputs": [],
   "source": [
    "#удалим 0 значения в датафрейме calls\n",
    "calls = calls.query('duration > 0').reset_index(drop=True)"
   ]
  },
  {
   "cell_type": "code",
   "execution_count": 11,
   "metadata": {},
   "outputs": [
    {
     "name": "stdout",
     "output_type": "stream",
     "text": [
      "<class 'pandas.core.frame.DataFrame'>\n",
      "RangeIndex: 162994 entries, 0 to 162993\n",
      "Data columns (total 4 columns):\n",
      "id           162994 non-null object\n",
      "call_date    162994 non-null datetime64[ns]\n",
      "duration     162994 non-null float64\n",
      "user_id      162994 non-null int64\n",
      "dtypes: datetime64[ns](1), float64(1), int64(1), object(1)\n",
      "memory usage: 5.0+ MB\n"
     ]
    }
   ],
   "source": [
    "calls.info()"
   ]
  },
  {
   "cell_type": "code",
   "execution_count": 13,
   "metadata": {},
   "outputs": [
    {
     "name": "stdout",
     "output_type": "stream",
     "text": [
      "<class 'pandas.core.frame.DataFrame'>\n",
      "Int64Index: 149396 entries, 0 to 149395\n",
      "Data columns (total 4 columns):\n",
      "id              149396 non-null object\n",
      "mb_used         149396 non-null float64\n",
      "session_date    149396 non-null datetime64[ns]\n",
      "user_id         149396 non-null int64\n",
      "dtypes: datetime64[ns](1), float64(1), int64(1), object(1)\n",
      "memory usage: 5.7+ MB\n"
     ]
    }
   ],
   "source": [
    "internet.info()"
   ]
  },
  {
   "cell_type": "code",
   "execution_count": 14,
   "metadata": {},
   "outputs": [],
   "source": [
    "#Переименуем название столбца tariff_name на tariff в датафрейме tariffs\n",
    "tariffs = tariffs.rename(columns={\n",
    "    'messages_included': 'messages_included',\n",
    "    'mb_per_month_included': 'mb_per_month_included',\n",
    "    'minutes_included': 'minutes_included',\n",
    "    'rub_monthly_fee': 'rub_monthly_fee',\n",
    "    'rub_per_gb': 'rub_per_gb',\n",
    "    'rub_per_message': 'rub_per_message',\n",
    "    'rub_per_minute': 'rub_per_minute',\n",
    "    'tariff_name': 'tariff'\n",
    "    })"
   ]
  },
  {
   "cell_type": "code",
   "execution_count": 15,
   "metadata": {},
   "outputs": [
    {
     "name": "stdout",
     "output_type": "stream",
     "text": [
      "<class 'pandas.core.frame.DataFrame'>\n",
      "RangeIndex: 2 entries, 0 to 1\n",
      "Data columns (total 8 columns):\n",
      "messages_included        2 non-null int64\n",
      "mb_per_month_included    2 non-null int64\n",
      "minutes_included         2 non-null int64\n",
      "rub_monthly_fee          2 non-null int64\n",
      "rub_per_gb               2 non-null int64\n",
      "rub_per_message          2 non-null int64\n",
      "rub_per_minute           2 non-null int64\n",
      "tariff                   2 non-null object\n",
      "dtypes: int64(7), object(1)\n",
      "memory usage: 256.0+ bytes\n"
     ]
    }
   ],
   "source": [
    "tariffs.info()"
   ]
  },
  {
   "cell_type": "markdown",
   "metadata": {},
   "source": [
    "<a id='#Step_2_1_conclusion'></a>\n",
    "### Вывод:\n",
    "- В столбцах, содеращих информацию о датах, тип данных изменен на datetime. Необходимо для извлечения информации о месяце совершения операции\n",
    "- В датафрейме calls удалены звонки, продолжительностью 0 минут. Такие звонки не тарифицируются.\n",
    "- В датафрейме calls удален столбец Unnamed: 0. Информация в столбце дублирует индексы датафрейма.\n",
    "- В датафрейме tariffs изменено название столбца tariff_name на tariff. Необходимо для объединения датафреймов.\n",
    "- В датафрейме users churn_date пропуски заполнять не будем. Столбец в дальнейшем исследовании не задействован. "
   ]
  },
  {
   "cell_type": "markdown",
   "metadata": {},
   "source": [
    "<a id='Step_2_2'></a>\n",
    "### 2.2 Посчитайте для каждого пользователя:"
   ]
  },
  {
   "cell_type": "markdown",
   "metadata": {},
   "source": [
    "<a id='Step_2_2_1'></a>\n",
    "### 2.2.1 количество сделанных звонков и израсходованных минут разговора по месяцам"
   ]
  },
  {
   "cell_type": "code",
   "execution_count": 16,
   "metadata": {},
   "outputs": [],
   "source": [
    "#По условиям тарифа время разговора округляется в большу сторону\n",
    "calls['duration'] = np.ceil(calls['duration'])"
   ]
  },
  {
   "cell_type": "code",
   "execution_count": 17,
   "metadata": {},
   "outputs": [],
   "source": [
    "#Извлечем из столбца информацию о месяце, когда был совершен звонок\n",
    "calls['month'] = calls['call_date'].dt.month"
   ]
  },
  {
   "cell_type": "code",
   "execution_count": 18,
   "metadata": {},
   "outputs": [],
   "source": [
    "#Сгруппируем данные по столбцам 'user_id', 'month', посчитаем время разговоров в месяц и их количество\n",
    "calls_gb = calls.groupby(['user_id', 'month']).agg({'duration': 'sum', 'id': 'count'})"
   ]
  },
  {
   "cell_type": "code",
   "execution_count": 19,
   "metadata": {},
   "outputs": [],
   "source": [
    "#Переименуем столбцы для большей информативности\n",
    "calls_gb = calls_gb.rename(columns={\n",
    "    'user_id': 'user_id',\n",
    "    'month': 'month',\n",
    "    'duration': 'minutes',\n",
    "    'id': 'calls_count'\n",
    "    }) "
   ]
  },
  {
   "cell_type": "markdown",
   "metadata": {},
   "source": [
    "<a id='Step_2_2_2'></a>\n",
    "### 2.2.2 количество отправленных сообщений по месяцам"
   ]
  },
  {
   "cell_type": "code",
   "execution_count": 20,
   "metadata": {},
   "outputs": [],
   "source": [
    "#Извлечем из столбца информацию о месяце, когда было отправлено сообщение\n",
    "messages['month'] = messages['message_date'].dt.month"
   ]
  },
  {
   "cell_type": "code",
   "execution_count": 21,
   "metadata": {},
   "outputs": [],
   "source": [
    "#Сгруппируем данные по столбцам 'user_id', 'month', посчитаем количество сообщений в месяц\n",
    "messages_gb = messages.groupby(['user_id', 'month']).agg({'id': 'count'})"
   ]
  },
  {
   "cell_type": "code",
   "execution_count": 22,
   "metadata": {},
   "outputs": [],
   "source": [
    "#Переименуем столбцы для большей информативности\n",
    "messages_gb = messages_gb.rename(columns={\n",
    "    'user_id': 'user_id',\n",
    "    'month': 'month',\n",
    "    'id': 'messages'\n",
    "    }) "
   ]
  },
  {
   "cell_type": "markdown",
   "metadata": {},
   "source": [
    "<a id='Step_2_2_3'></a>\n",
    "### 2.2.3 объем израсходованного интернет-трафика по месяцам"
   ]
  },
  {
   "cell_type": "code",
   "execution_count": 23,
   "metadata": {},
   "outputs": [],
   "source": [
    "#По условиям тарифа трафик округляется в большую сторону\n",
    "internet['mb_used'] = np.ceil(internet['mb_used'])"
   ]
  },
  {
   "cell_type": "code",
   "execution_count": 24,
   "metadata": {},
   "outputs": [],
   "source": [
    "#Извлечем из столбца информацию о месяце, в котором была сделана запись о истраченном трафике\n",
    "internet['month'] = internet['session_date'].dt.month"
   ]
  },
  {
   "cell_type": "code",
   "execution_count": 25,
   "metadata": {},
   "outputs": [],
   "source": [
    "#Сгруппируем данные по столбцам 'user_id', 'month', посчитаем количество мегабайт потраченных в месяц\n",
    "internet_gb = internet.groupby(['user_id', 'month']).agg({'mb_used': 'sum'})"
   ]
  },
  {
   "cell_type": "markdown",
   "metadata": {},
   "source": [
    "<a id='Step_2_2_4'></a>\n",
    "### 2.2.4 помесячную выручку с каждого пользователя"
   ]
  },
  {
   "cell_type": "code",
   "execution_count": 26,
   "metadata": {},
   "outputs": [],
   "source": [
    "#Объединим датафреймы calls, internet, messages\n",
    "mobile_data = calls_gb.merge(\n",
    "    internet_gb, on=['user_id', 'month'], how='outer').merge(\n",
    "    messages_gb, on=['user_id', 'month'], how='outer')"
   ]
  },
  {
   "cell_type": "code",
   "execution_count": 27,
   "metadata": {},
   "outputs": [],
   "source": [
    "#Сбросим индекс во избежание ошибок при дальнейшем объединении\n",
    "mobile_data = mobile_data.reset_index()"
   ]
  },
  {
   "cell_type": "code",
   "execution_count": 28,
   "metadata": {},
   "outputs": [],
   "source": [
    "#Объединим датафрейм mobile_data с датафреймами users и tariffs \n",
    "data = mobile_data.merge(\n",
    "    users, on='user_id', how='left').merge(\n",
    "    tariffs, on='tariff', how='left')"
   ]
  },
  {
   "cell_type": "code",
   "execution_count": 29,
   "metadata": {},
   "outputs": [],
   "source": [
    "#Чтобы корректно посчитать выручку с каждого пользователя, нам необходимо убедиться, \n",
    "#чтобы в столбцах 'minutes', 'messages', 'mb_used' не было пропусков, заменим на 0\n",
    "values = {'minutes': 0, 'messages': 0, 'mb_used': 0}\n",
    "data = data.fillna(value = values)"
   ]
  },
  {
   "cell_type": "code",
   "execution_count": 30,
   "metadata": {},
   "outputs": [],
   "source": [
    "#Функция расчитывает сумму расходов по каждому пользователю в месяц\n",
    "def total_spend (row):\n",
    "    minutes = row['minutes']\n",
    "    mb_used = row['mb_used']\n",
    "    messages = row['messages']\n",
    "    minutes_included = row['minutes_included']\n",
    "    mb_per_month_included = row['mb_per_month_included']\n",
    "    messages_included = row['messages_included']\n",
    "    rub_monthly_fee = row['rub_monthly_fee']\n",
    "    rub_per_minute = row['rub_per_minute']\n",
    "    rub_per_gb = row['rub_per_gb']\n",
    "    rub_per_message = row['rub_per_message']\n",
    "    total_spend = rub_monthly_fee\n",
    "    if minutes > minutes_included:\n",
    "        total_spend += (minutes - minutes_included)*rub_per_minute\n",
    "    if mb_used > mb_per_month_included:\n",
    "        total_spend += np.ceil(((mb_used - mb_per_month_included)/1000)*rub_per_gb)\n",
    "    if messages > messages_included:\n",
    "        total_spend += (messages - messages_included)*rub_per_message\n",
    "    return total_spend     "
   ]
  },
  {
   "cell_type": "code",
   "execution_count": 31,
   "metadata": {},
   "outputs": [],
   "source": [
    "#Создадим новый столбец, применим формулу\n",
    "data['total_spend'] = data.apply(total_spend, axis=1)"
   ]
  },
  {
   "cell_type": "code",
   "execution_count": 32,
   "metadata": {},
   "outputs": [
    {
     "name": "stdout",
     "output_type": "stream",
     "text": [
      "<class 'pandas.core.frame.DataFrame'>\n",
      "Int64Index: 3214 entries, 0 to 3213\n",
      "Data columns (total 21 columns):\n",
      "user_id                  3214 non-null int64\n",
      "month                    3214 non-null int64\n",
      "minutes                  3214 non-null float64\n",
      "calls_count              3168 non-null float64\n",
      "mb_used                  3214 non-null float64\n",
      "messages                 3214 non-null float64\n",
      "age                      3214 non-null int64\n",
      "churn_date               187 non-null datetime64[ns]\n",
      "city                     3214 non-null object\n",
      "first_name               3214 non-null object\n",
      "last_name                3214 non-null object\n",
      "reg_date                 3214 non-null datetime64[ns]\n",
      "tariff                   3214 non-null object\n",
      "messages_included        3214 non-null int64\n",
      "mb_per_month_included    3214 non-null int64\n",
      "minutes_included         3214 non-null int64\n",
      "rub_monthly_fee          3214 non-null int64\n",
      "rub_per_gb               3214 non-null int64\n",
      "rub_per_message          3214 non-null int64\n",
      "rub_per_minute           3214 non-null int64\n",
      "total_spend              3214 non-null float64\n",
      "dtypes: datetime64[ns](2), float64(5), int64(10), object(4)\n",
      "memory usage: 552.4+ KB\n"
     ]
    }
   ],
   "source": [
    "data.info()"
   ]
  },
  {
   "cell_type": "markdown",
   "metadata": {},
   "source": [
    "<a id='Step_2_2_conclusion'></a>\n",
    "### Вывод:\n",
    "<p>1. Произведен расчет следующих метрик для каждого пользователя:</p>\n",
    "- суммарное время разговоров в месяц\n",
    "- суммарное количество сообщений в месяц\n",
    "- суммарный трафик в месяц\n",
    "- стоимость услуг в месяц\n",
    "<p>2. Для дальнейшего исследования для нас важно, чтобы в столбцах 'minutes', 'messages', 'mb_used' не было пропусков. Пропуски заменили на 0</p>"
   ]
  },
  {
   "cell_type": "markdown",
   "metadata": {},
   "source": [
    "**<a href='#top'>Вернуться в начало</a>**"
   ]
  },
  {
   "cell_type": "markdown",
   "metadata": {},
   "source": [
    "<a id='Step_3'></a>\n",
    "### Шаг 3. Анализ данных:"
   ]
  },
  {
   "cell_type": "code",
   "execution_count": 33,
   "metadata": {},
   "outputs": [],
   "source": [
    "#Подготовим необходимые срезы данных:\n",
    "#Срез по тарифу smart\n",
    "smart_data=data.query('tariff==\"smart\"')"
   ]
  },
  {
   "cell_type": "code",
   "execution_count": 34,
   "metadata": {},
   "outputs": [],
   "source": [
    "#Срез по тарифу ultra\n",
    "ultra_data=data.query('tariff==\"ultra\"')"
   ]
  },
  {
   "cell_type": "code",
   "execution_count": 35,
   "metadata": {},
   "outputs": [],
   "source": [
    "#Срез по Москве\n",
    "moscow_data = data.query('city==\"Москва\"')"
   ]
  },
  {
   "cell_type": "code",
   "execution_count": 36,
   "metadata": {},
   "outputs": [],
   "source": [
    "#Срез по регионам\n",
    "region_data = data.query('city!=\"Москва\"')"
   ]
  },
  {
   "cell_type": "code",
   "execution_count": 37,
   "metadata": {},
   "outputs": [],
   "source": [
    "#функция автоматизирует вывод необходимых статистик и построение графиков\n",
    "def display_statistics (column):\n",
    "    statistics = round(\n",
    "        data.groupby('tariff')[column].agg(\n",
    "        [np.mean, lambda x: np.std(x, ddof=1), lambda y: np.var(y, ddof=1)])\n",
    "    )\n",
    "    statistics.columns = ['mean', 'std', 'var']\n",
    "    \n",
    "    smart_data[column].hist(figsize=(10,8))\n",
    "    plt.xlabel('Тариф Smart')\n",
    "    plt.show()\n",
    "    \n",
    "    ultra_data[column].hist(figsize=(10,8))\n",
    "    plt.xlabel('Тариф Ultra')\n",
    "    plt.show()\n",
    "    print()\n",
    "    print(statistics)"
   ]
  },
  {
   "cell_type": "markdown",
   "metadata": {},
   "source": [
    "<a id='Step_3_1'></a>\n",
    "### 3.1 Исследование времени разговоров"
   ]
  },
  {
   "cell_type": "code",
   "execution_count": 38,
   "metadata": {},
   "outputs": [
    {
     "data": {
      "image/png": "[encoded data removed]",
      "text/plain": [
       "<Figure size 720x576 with 1 Axes>"
      ]
     },
     "metadata": {
      "needs_background": "light"
     },
     "output_type": "display_data"
    },
    {
     "data": {
      "image/png": "[encoded data removed]",
      "text/plain": [
       "<Figure size 720x576 with 1 Axes>"
      ]
     },
     "metadata": {
      "needs_background": "light"
     },
     "output_type": "display_data"
    },
    {
     "name": "stdout",
     "output_type": "stream",
     "text": [
      "\n",
      "         mean    std       var\n",
      "tariff                        \n",
      "smart   418.0  190.0   36219.0\n",
      "ultra   527.0  318.0  100874.0\n"
     ]
    }
   ],
   "source": [
    "#Посчитайте среднее количество, дисперсию и стандартное отклонение. Постройте гистограммы. Опишите распределения.\n",
    "display_statistics ('minutes')"
   ]
  },
  {
   "cell_type": "markdown",
   "metadata": {},
   "source": [
    "<a id='Step_3_2'></a>\n",
    "### 3.2 Исследование количества сообщений"
   ]
  },
  {
   "cell_type": "code",
   "execution_count": 39,
   "metadata": {},
   "outputs": [],
   "source": [
    "#Посчитайте среднее количество, дисперсию и стандартное отклонение. Постройте гистограммы. Опишите распределения."
   ]
  },
  {
   "cell_type": "code",
   "execution_count": 40,
   "metadata": {},
   "outputs": [
    {
     "data": {
      "image/png": "[encoded data removed]",
      "text/plain": [
       "<Figure size 720x576 with 1 Axes>"
      ]
     },
     "metadata": {
      "needs_background": "light"
     },
     "output_type": "display_data"
    },
    {
     "data": {
      "image/png": "[encoded data removed]",
      "text/plain": [
       "<Figure size 720x576 with 1 Axes>"
      ]
     },
     "metadata": {
      "needs_background": "light"
     },
     "output_type": "display_data"
    },
    {
     "name": "stdout",
     "output_type": "stream",
     "text": [
      "\n",
      "        mean   std     var\n",
      "tariff                    \n",
      "smart   33.0  28.0   797.0\n",
      "ultra   49.0  48.0  2285.0\n"
     ]
    }
   ],
   "source": [
    "display_statistics ('messages')"
   ]
  },
  {
   "cell_type": "markdown",
   "metadata": {},
   "source": [
    "<a id='Step_3_3'></a>\n",
    "### 3.3 Исследование трафика"
   ]
  },
  {
   "cell_type": "code",
   "execution_count": 41,
   "metadata": {},
   "outputs": [],
   "source": [
    "#Посчитайте среднее количество, дисперсию и стандартное отклонение. Постройте гистограммы. Опишите распределения."
   ]
  },
  {
   "cell_type": "code",
   "execution_count": 42,
   "metadata": {},
   "outputs": [
    {
     "data": {
      "image/png": "[encoded data removed]",
      "text/plain": [
       "<Figure size 720x576 with 1 Axes>"
      ]
     },
     "metadata": {
      "needs_background": "light"
     },
     "output_type": "display_data"
    },
    {
     "data": {
      "image/png": "[encoded data removed]",
      "text/plain": [
       "<Figure size 720x576 with 1 Axes>"
      ]
     },
     "metadata": {
      "needs_background": "light"
     },
     "output_type": "display_data"
    },
    {
     "name": "stdout",
     "output_type": "stream",
     "text": [
      "\n",
      "           mean      std          var\n",
      "tariff                               \n",
      "smart   16229.0   5878.0   34545911.0\n",
      "ultra   19487.0  10096.0  101935621.0\n"
     ]
    }
   ],
   "source": [
    "display_statistics ('mb_used')"
   ]
  },
  {
   "cell_type": "markdown",
   "metadata": {},
   "source": [
    "<a id='Step_3_conclusion'></a>\n",
    "### Вывод:\n",
    "#### Исследование времени разговоров:\n",
    "- Гистограммы скошенны вправо\n",
    "- Пользователям тарифа Smart в среднем необходимо 418 минут в месяц, что укладывается в лимиты тарифа\n",
    "- Пользователям тарифа Ultra в среднем необходимо 527 минут в месяц, что укладывается в лимиты тарифа\n",
    "#### Исследование количества сообщений:\n",
    "- Гистограммы скошенны вправо\n",
    "- Пользователям тарифа Smart в среднем необходимо 33 сообщений в месяц, что укладывается в лимиты тарифа\n",
    "- Пользователям тарифа Ultra в среднем необходимо 49 сообщение в месяц, что укладывается в лимиты тарифа\n",
    "#### Исследование трафика:\n",
    "- Гистограммы скошенны вправо\n",
    "- Пользователям тарифа Smart в среднем необходимо 16229 мегабайт в месяц, что не укладывается в лимиты тарифа\n",
    "- Пользователям тарифа Ultra в среднем необходимо 19487 мегабайт в месяц, что укладывается в лимиты тарифа\n",
    "- Пользователеи тарифа Smart вынуждены доплачивать за дополнительный трафик"
   ]
  },
  {
   "cell_type": "markdown",
   "metadata": {},
   "source": [
    "**<a href='#top'>Вернуться в начало</a>**"
   ]
  },
  {
   "cell_type": "markdown",
   "metadata": {},
   "source": [
    "<a id='Step_4'></a>\n",
    "### Шаг 4. Проверка гипотез:"
   ]
  },
  {
   "cell_type": "markdown",
   "metadata": {},
   "source": [
    "<a id='Step_4_1'></a>\n",
    "### 4.1 Средняя выручка пользователей тарифов «Ультра» и «Смарт» различается"
   ]
  },
  {
   "cell_type": "code",
   "execution_count": 43,
   "metadata": {},
   "outputs": [],
   "source": [
    "#выборка по тарифу smart\n",
    "total_spend_ultra = ultra_data['total_spend']"
   ]
  },
  {
   "cell_type": "code",
   "execution_count": 44,
   "metadata": {},
   "outputs": [],
   "source": [
    "#выборка по тарифу smart\n",
    "total_spend_smart = smart_data['total_spend']"
   ]
  },
  {
   "cell_type": "markdown",
   "metadata": {},
   "source": [
    "#### Нулевая гипотеза: Средняя выручка пользователей тарифов «Ультра» и «Смарт» равна"
   ]
  },
  {
   "cell_type": "code",
   "execution_count": 45,
   "metadata": {},
   "outputs": [
    {
     "name": "stdout",
     "output_type": "stream",
     "text": [
      "p-значение: 6.557718794845351e-180\n",
      "Отвергаем нулевую гипотезу\n"
     ]
    }
   ],
   "source": [
    "alpha = 0.05 \n",
    "\n",
    "results = st.ttest_ind(\n",
    "    total_spend_ultra,\n",
    "    total_spend_smart)    \n",
    "    \n",
    "    \n",
    "print('p-значение:', results.pvalue)\n",
    "\n",
    "if results.pvalue < alpha:\n",
    "    print(\"Отвергаем нулевую гипотезу\")\n",
    "else:\n",
    "    print(\"Не получилось отвергнуть нулевую гипотезу\")"
   ]
  },
  {
   "cell_type": "markdown",
   "metadata": {},
   "source": [
    "<p>Мы отвергли гипотезу \"Средняя выручка пользователей тарифов «Ультра» и «Смарт» равна\". Исследуем, какой тариф приносит больше выручки:</p>"
   ]
  },
  {
   "cell_type": "code",
   "execution_count": 46,
   "metadata": {},
   "outputs": [
    {
     "data": {
      "text/html": [
       "<div>\n",
       "<style scoped>\n",
       "    .dataframe tbody tr th:only-of-type {\n",
       "        vertical-align: middle;\n",
       "    }\n",
       "\n",
       "    .dataframe tbody tr th {\n",
       "        vertical-align: top;\n",
       "    }\n",
       "\n",
       "    .dataframe thead th {\n",
       "        text-align: right;\n",
       "    }\n",
       "</style>\n",
       "<table border=\"1\" class=\"dataframe\">\n",
       "  <thead>\n",
       "    <tr style=\"text-align: right;\">\n",
       "      <th></th>\n",
       "      <th>sum</th>\n",
       "      <th>count</th>\n",
       "      <th>sum_per_user</th>\n",
       "    </tr>\n",
       "    <tr>\n",
       "      <th>tariff</th>\n",
       "      <th></th>\n",
       "      <th></th>\n",
       "      <th></th>\n",
       "    </tr>\n",
       "  </thead>\n",
       "  <tbody>\n",
       "    <tr>\n",
       "      <td>smart</td>\n",
       "      <td>2778629.0</td>\n",
       "      <td>2229</td>\n",
       "      <td>1247.0</td>\n",
       "    </tr>\n",
       "    <tr>\n",
       "      <td>ultra</td>\n",
       "      <td>2032298.0</td>\n",
       "      <td>985</td>\n",
       "      <td>2063.0</td>\n",
       "    </tr>\n",
       "  </tbody>\n",
       "</table>\n",
       "</div>"
      ],
      "text/plain": [
       "              sum  count  sum_per_user\n",
       "tariff                                \n",
       "smart   2778629.0   2229        1247.0\n",
       "ultra   2032298.0    985        2063.0"
      ]
     },
     "execution_count": 46,
     "metadata": {},
     "output_type": "execute_result"
    }
   ],
   "source": [
    "revenue_by_tariff = round(data.groupby('tariff').agg({'total_spend': ['sum', 'count']}))\n",
    "revenue_by_tariff.columns = ['sum', 'count']\n",
    "revenue_by_tariff['sum_per_user'] = round(revenue_by_tariff['sum']/revenue_by_tariff['count'])\n",
    "revenue_by_tariff"
   ]
  },
  {
   "cell_type": "markdown",
   "metadata": {},
   "source": [
    "<a id='Step_4_2'></a>\n",
    "### 4.2 Средняя выручка пользователей из Москвы отличается от выручки пользователей из других регионов"
   ]
  },
  {
   "cell_type": "code",
   "execution_count": 47,
   "metadata": {},
   "outputs": [],
   "source": [
    "#выборка по Москве\n",
    "total_spend_moscow = moscow_data['total_spend']"
   ]
  },
  {
   "cell_type": "code",
   "execution_count": 48,
   "metadata": {},
   "outputs": [],
   "source": [
    "#Выборка по регионам\n",
    "total_spend_region = region_data['total_spend']"
   ]
  },
  {
   "cell_type": "markdown",
   "metadata": {},
   "source": [
    "#### Нулевая гипотеза: Средняя выручка пользователей из Москвы и регионов равна"
   ]
  },
  {
   "cell_type": "code",
   "execution_count": 49,
   "metadata": {},
   "outputs": [
    {
     "name": "stdout",
     "output_type": "stream",
     "text": [
      "p-значение: 0.5063671397731617\n",
      "Не получилось отвергнуть нулевую гипотезу\n"
     ]
    }
   ],
   "source": [
    "alpha = 0.05 \n",
    "\n",
    "results = st.ttest_ind(\n",
    "    total_spend_moscow,\n",
    "    total_spend_region)    \n",
    "    \n",
    "    \n",
    "print('p-значение:', results.pvalue)\n",
    "\n",
    "if results.pvalue < alpha:\n",
    "    print(\"Отвергаем нулевую гипотезу\")\n",
    "else:\n",
    "    print(\"Не получилось отвергнуть нулевую гипотезу\")"
   ]
  },
  {
   "cell_type": "markdown",
   "metadata": {},
   "source": [
    "<a id='Step_4_conclusion'></a>\n",
    "### Вывод:\n",
    "<p>Нулевая гипотеза: \"Средняя выручка пользователей тарифов «Ультра» и «Смарт» равна\" отвергнута. Один из тарифов приносит больше выручки, чем другой.</p>\n",
    "<p>Нулевая гипотеза: \"Нулевая гипотеза: Средняя выручка пользователей из Москвы и регионов равна\" не может быть отвергнута. Есть вероятность того, что в Москве и в регионах пользователи тратят на мобильную связь одинаково.</p>"
   ]
  },
  {
   "cell_type": "markdown",
   "metadata": {},
   "source": [
    "**<a href='#top'>Вернуться в начало</a>**"
   ]
  },
  {
   "cell_type": "markdown",
   "metadata": {},
   "source": [
    "<a id='Step_5'></a>\n",
    "### Шаг 4. Общий вывод"
   ]
  },
  {
   "cell_type": "markdown",
   "metadata": {},
   "source": [
    "<p>Мы отвергли гипотезу \"Средняя выручка пользователей тарифов «Ультра» и «Смарт» равна\". Больше выручки приносит более дешевый Smart за счет количества пользователей, но при этом пользователи тарифа ultra в среднем тратят на услуги связи больше.<p/>\n",
    "<p>Пользователи обоих тарифов в среднем укладываются в пакеты минут и сообщений, включенных в тарифы.<p/>\n",
    "<p>Пользователям тарифа Smart в среднем не хватает трафика включенного в тариф. При этом пользователи тарифа Ultra в среднем укладываются во включенный трафик.<p/>\n",
    "<p>Мы не отвергли гипотезу Средняя выручка пользователей из Москвы и регионов равна\". Это может говорить о том, что поведение пользователей в регионах и в Москве не сильно различается, что выражается в тратах на мобильную связь<p/>\n",
    "<p>Было бы полезным отдельно исследовать сколько тратят пользователи каждого тарифа сверх абонентской платы.<p/>"
   ]
  },
  {
   "cell_type": "markdown",
   "metadata": {},
   "source": [
    "**<a href='#top'>Вернуться в начало</a>**"
   ]
  }
 ],
 "metadata": {
  "kernelspec": {
   "display_name": "Python 3",
   "language": "python",
   "name": "python3"
  },
  "language_info": {
   "codemirror_mode": {
    "name": "ipython",
    "version": 3
   },
   "file_extension": ".py",
   "mimetype": "text/x-python",
   "name": "python",
   "nbconvert_exporter": "python",
   "pygments_lexer": "ipython3",
   "version": "3.7.6"
  }
 },
 "nbformat": 4,
 "nbformat_minor": 2
}
