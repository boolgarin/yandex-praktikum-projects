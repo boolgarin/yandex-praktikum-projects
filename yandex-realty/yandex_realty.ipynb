{
 "cells": [
  {
   "cell_type": "markdown",
   "metadata": {},
   "source": [
    "# Исследование объявлений о продаже квартир\n",
    "\n",
    "В вашем распоряжении данные сервиса Яндекс.Недвижимость — архив объявлений о продаже квартир в Санкт-Петербурге и соседних населённых пунктов за несколько лет. Нужно научиться определять рыночную стоимость объектов недвижимости. Ваша задача — установить параметры. Это позволит построить автоматизированную систему: она отследит аномалии и мошенническую деятельность. \n",
    "\n",
    "По каждой квартире на продажу доступны два вида данных. Первые вписаны пользователем, вторые — получены автоматически на основе картографических данных. Например, расстояние до центра, аэропорта, ближайшего парка и водоёма. "
   ]
  },
  {
   "cell_type": "markdown",
   "metadata": {},
   "source": [
    "<a id='top'></a>\n",
    "# План проекта:\n",
    "### <a href='#Step_1'>Шаг 1. Импорт файла с данными и изучение общей информации</a>\n",
    "\n",
    "### <a href='#Step_2'>Шаг 2. Предобработка данных</a>\n",
    "#### <a href='#Step_2_1'>2.1 Преобразование названий столбцов</a>\n",
    "#### <a href='#Step_2_2'>2.2 Преобразование типов данных</a>\n",
    "#### <a href='#Step_2_3'>2.3 Устранение пропусков в столбце 'locality_name'</a>\n",
    "#### <a href='#Step_2_4'>2.4 Устранение пропусков в столбце 'floors_total'</a>\n",
    "#### <a href='#Step_2_5'>2.5 Устранение пропусков в столбце 'living_area'</a>\n",
    "#### <a href='#Step_2_6'>2.6 Устранение пропусков в столбце 'kitchen_area'</a>\n",
    "#### <a href='#Step_2_7'>2.7 Устранение пропусков в столбце 'ceiling_height'</a>\n",
    "#### <a href='#Step_2_8'>2.8 Исследование столбцов distance_to_airport и distance_to_center</a>\n",
    "#### <a href='#Step_2_9'>2.9 Исследование столбцов parks_around, distance_to_park, ponds_around, distance_to_pond</a>\n",
    "#### <a href='#Step_2_9'>2.10 Исследование столбца days_in_exposition</a>\n",
    " \n",
    "\n",
    "### <a href='#Step_3'>Шаг 3. Посчитайте и добавьте в таблицу:</a>\n",
    "#### <a href='#Step_3_1'>3.1 Цена квадратного метра</a>\n",
    "#### <a href='#Step_3_2'>3.2 День недели, месяц и год публикации объявления</a>\n",
    "#### <a href='#Step_3_3'>3.3 Этаж квартиры</a>\n",
    "#### <a href='#Step_3_4'>3.4 Соотношение жилой и общей площади</a>\n",
    "#### <a href='#Step_3_5'>3.5 Соотношение площади кухни к общей</a>\n",
    "#### <a href='#Step_3_6'>3.6 Расстояние до центра в км</a>\n",
    "\n",
    "### <a href='#Step_4'>Шаг 4. Проведите исследовательский анализ данных и выполните инструкции</a>\n",
    "#### <a href='#Step_4_1'>4.1 Гистограммы: площадь, цена, число комнат, высота потолков</a>\n",
    "#### <a href='#Step_4_2'>4.2 Исследование времени продажи квартиры</a>\n",
    "#### <a href='#Step_4_3'>4.3 Исследование выбросов</a>\n",
    "#### <a href='#Step_4_4'>4.4 Зависимость цены от площади</a>\n",
    "#### <a href='#Step_4_5'>4.5 Зависимость цены от числа комнат</a>\n",
    "#### <a href='#Step_4_6'>4.6 Зависимость цены от удаленности от центра</a>\n",
    "#### <a href='#Step_4_7'>4.7 Зависимость цены от этажа</a>\n",
    "#### <a href='#Step_4_8'>4.8 Зависимость цены от этажа4.7 Зависимость цены от даты размещения</a>\n",
    "#### <a href='#Step_4_9'>4.9 Исследование топ-10 населенных пунктов по количеству объявлений</a>\n",
    "#### <a href='#Step_4_10'>4.10 Исследование квартир в центре Санкт-Петербурга</a>\n",
    "\n",
    "### <a href='#Step_5'>Шаг 5. Общий вывод</a>"
   ]
  },
  {
   "cell_type": "markdown",
   "metadata": {},
   "source": [
    "<a id='Step_1'></a>\n",
    "### Шаг 1. Импорт файла с данными и изучение общей информации"
   ]
  },
  {
   "cell_type": "code",
   "execution_count": 1,
   "metadata": {},
   "outputs": [],
   "source": [
    "#Импортируем необходимые библиотеки\n",
    "import pandas as pd\n",
    "import matplotlib.pyplot as plt"
   ]
  },
  {
   "cell_type": "code",
   "execution_count": 2,
   "metadata": {},
   "outputs": [],
   "source": [
    "data = pd.read_csv('/datasets/real_estate_data.csv', sep='\\t')"
   ]
  },
  {
   "cell_type": "code",
   "execution_count": 3,
   "metadata": {
    "scrolled": true
   },
   "outputs": [
    {
     "name": "stdout",
     "output_type": "stream",
     "text": [
      "<class 'pandas.core.frame.DataFrame'>\n",
      "RangeIndex: 23699 entries, 0 to 23698\n",
      "Data columns (total 22 columns):\n",
      "total_images            23699 non-null int64\n",
      "last_price              23699 non-null float64\n",
      "total_area              23699 non-null float64\n",
      "first_day_exposition    23699 non-null object\n",
      "rooms                   23699 non-null int64\n",
      "ceiling_height          14504 non-null float64\n",
      "floors_total            23613 non-null float64\n",
      "living_area             21796 non-null float64\n",
      "floor                   23699 non-null int64\n",
      "is_apartment            2775 non-null object\n",
      "studio                  23699 non-null bool\n",
      "open_plan               23699 non-null bool\n",
      "kitchen_area            21421 non-null float64\n",
      "balcony                 12180 non-null float64\n",
      "locality_name           23650 non-null object\n",
      "airports_nearest        18157 non-null float64\n",
      "cityCenters_nearest     18180 non-null float64\n",
      "parks_around3000        18181 non-null float64\n",
      "parks_nearest           8079 non-null float64\n",
      "ponds_around3000        18181 non-null float64\n",
      "ponds_nearest           9110 non-null float64\n",
      "days_exposition         20518 non-null float64\n",
      "dtypes: bool(2), float64(14), int64(3), object(3)\n",
      "memory usage: 3.7+ MB\n"
     ]
    }
   ],
   "source": [
    "data.info()"
   ]
  },
  {
   "cell_type": "code",
   "execution_count": 4,
   "metadata": {
    "scrolled": true
   },
   "outputs": [
    {
     "data": {
      "text/html": [
       "<div>\n",
       "<style scoped>\n",
       "    .dataframe tbody tr th:only-of-type {\n",
       "        vertical-align: middle;\n",
       "    }\n",
       "\n",
       "    .dataframe tbody tr th {\n",
       "        vertical-align: top;\n",
       "    }\n",
       "\n",
       "    .dataframe thead th {\n",
       "        text-align: right;\n",
       "    }\n",
       "</style>\n",
       "<table border=\"1\" class=\"dataframe\">\n",
       "  <thead>\n",
       "    <tr style=\"text-align: right;\">\n",
       "      <th></th>\n",
       "      <th>total_images</th>\n",
       "      <th>last_price</th>\n",
       "      <th>total_area</th>\n",
       "      <th>first_day_exposition</th>\n",
       "      <th>rooms</th>\n",
       "      <th>ceiling_height</th>\n",
       "      <th>floors_total</th>\n",
       "      <th>living_area</th>\n",
       "      <th>floor</th>\n",
       "      <th>is_apartment</th>\n",
       "      <th>...</th>\n",
       "      <th>kitchen_area</th>\n",
       "      <th>balcony</th>\n",
       "      <th>locality_name</th>\n",
       "      <th>airports_nearest</th>\n",
       "      <th>cityCenters_nearest</th>\n",
       "      <th>parks_around3000</th>\n",
       "      <th>parks_nearest</th>\n",
       "      <th>ponds_around3000</th>\n",
       "      <th>ponds_nearest</th>\n",
       "      <th>days_exposition</th>\n",
       "    </tr>\n",
       "  </thead>\n",
       "  <tbody>\n",
       "    <tr>\n",
       "      <td>16656</td>\n",
       "      <td>19</td>\n",
       "      <td>20000000.0</td>\n",
       "      <td>198.1</td>\n",
       "      <td>2018-05-05T00:00:00</td>\n",
       "      <td>6</td>\n",
       "      <td>2.80</td>\n",
       "      <td>12.0</td>\n",
       "      <td>118.4</td>\n",
       "      <td>11</td>\n",
       "      <td>NaN</td>\n",
       "      <td>...</td>\n",
       "      <td>13.8</td>\n",
       "      <td>NaN</td>\n",
       "      <td>Санкт-Петербург</td>\n",
       "      <td>50795.0</td>\n",
       "      <td>14760.0</td>\n",
       "      <td>0.0</td>\n",
       "      <td>NaN</td>\n",
       "      <td>0.0</td>\n",
       "      <td>NaN</td>\n",
       "      <td>NaN</td>\n",
       "    </tr>\n",
       "    <tr>\n",
       "      <td>19457</td>\n",
       "      <td>20</td>\n",
       "      <td>5500000.0</td>\n",
       "      <td>68.0</td>\n",
       "      <td>2017-08-14T00:00:00</td>\n",
       "      <td>3</td>\n",
       "      <td>2.90</td>\n",
       "      <td>6.0</td>\n",
       "      <td>45.0</td>\n",
       "      <td>5</td>\n",
       "      <td>NaN</td>\n",
       "      <td>...</td>\n",
       "      <td>9.0</td>\n",
       "      <td>NaN</td>\n",
       "      <td>Санкт-Петербург</td>\n",
       "      <td>19479.0</td>\n",
       "      <td>4234.0</td>\n",
       "      <td>1.0</td>\n",
       "      <td>316.0</td>\n",
       "      <td>1.0</td>\n",
       "      <td>183.0</td>\n",
       "      <td>385.0</td>\n",
       "    </tr>\n",
       "    <tr>\n",
       "      <td>19876</td>\n",
       "      <td>2</td>\n",
       "      <td>3570000.0</td>\n",
       "      <td>41.0</td>\n",
       "      <td>2017-09-27T00:00:00</td>\n",
       "      <td>1</td>\n",
       "      <td>NaN</td>\n",
       "      <td>26.0</td>\n",
       "      <td>17.0</td>\n",
       "      <td>12</td>\n",
       "      <td>NaN</td>\n",
       "      <td>...</td>\n",
       "      <td>10.0</td>\n",
       "      <td>2.0</td>\n",
       "      <td>посёлок Парголово</td>\n",
       "      <td>53788.0</td>\n",
       "      <td>18014.0</td>\n",
       "      <td>0.0</td>\n",
       "      <td>NaN</td>\n",
       "      <td>2.0</td>\n",
       "      <td>978.0</td>\n",
       "      <td>253.0</td>\n",
       "    </tr>\n",
       "    <tr>\n",
       "      <td>4481</td>\n",
       "      <td>17</td>\n",
       "      <td>3400000.0</td>\n",
       "      <td>32.4</td>\n",
       "      <td>2018-12-31T00:00:00</td>\n",
       "      <td>1</td>\n",
       "      <td>2.50</td>\n",
       "      <td>16.0</td>\n",
       "      <td>17.5</td>\n",
       "      <td>10</td>\n",
       "      <td>NaN</td>\n",
       "      <td>...</td>\n",
       "      <td>6.2</td>\n",
       "      <td>2.0</td>\n",
       "      <td>Санкт-Петербург</td>\n",
       "      <td>49169.0</td>\n",
       "      <td>16096.0</td>\n",
       "      <td>0.0</td>\n",
       "      <td>NaN</td>\n",
       "      <td>0.0</td>\n",
       "      <td>NaN</td>\n",
       "      <td>31.0</td>\n",
       "    </tr>\n",
       "    <tr>\n",
       "      <td>21122</td>\n",
       "      <td>9</td>\n",
       "      <td>2800000.0</td>\n",
       "      <td>31.3</td>\n",
       "      <td>2017-05-16T00:00:00</td>\n",
       "      <td>1</td>\n",
       "      <td>2.54</td>\n",
       "      <td>7.0</td>\n",
       "      <td>17.8</td>\n",
       "      <td>2</td>\n",
       "      <td>False</td>\n",
       "      <td>...</td>\n",
       "      <td>5.8</td>\n",
       "      <td>1.0</td>\n",
       "      <td>Санкт-Петербург</td>\n",
       "      <td>18886.0</td>\n",
       "      <td>15274.0</td>\n",
       "      <td>2.0</td>\n",
       "      <td>442.0</td>\n",
       "      <td>1.0</td>\n",
       "      <td>391.0</td>\n",
       "      <td>46.0</td>\n",
       "    </tr>\n",
       "    <tr>\n",
       "      <td>23575</td>\n",
       "      <td>15</td>\n",
       "      <td>5750000.0</td>\n",
       "      <td>65.0</td>\n",
       "      <td>2015-07-02T00:00:00</td>\n",
       "      <td>3</td>\n",
       "      <td>2.60</td>\n",
       "      <td>9.0</td>\n",
       "      <td>42.0</td>\n",
       "      <td>1</td>\n",
       "      <td>NaN</td>\n",
       "      <td>...</td>\n",
       "      <td>10.0</td>\n",
       "      <td>0.0</td>\n",
       "      <td>Санкт-Петербург</td>\n",
       "      <td>15871.0</td>\n",
       "      <td>14807.0</td>\n",
       "      <td>1.0</td>\n",
       "      <td>555.0</td>\n",
       "      <td>0.0</td>\n",
       "      <td>NaN</td>\n",
       "      <td>546.0</td>\n",
       "    </tr>\n",
       "    <tr>\n",
       "      <td>10039</td>\n",
       "      <td>16</td>\n",
       "      <td>11490000.0</td>\n",
       "      <td>122.1</td>\n",
       "      <td>2018-02-01T00:00:00</td>\n",
       "      <td>5</td>\n",
       "      <td>3.08</td>\n",
       "      <td>6.0</td>\n",
       "      <td>66.6</td>\n",
       "      <td>3</td>\n",
       "      <td>NaN</td>\n",
       "      <td>...</td>\n",
       "      <td>17.1</td>\n",
       "      <td>NaN</td>\n",
       "      <td>Санкт-Петербург</td>\n",
       "      <td>22464.0</td>\n",
       "      <td>4184.0</td>\n",
       "      <td>1.0</td>\n",
       "      <td>465.0</td>\n",
       "      <td>0.0</td>\n",
       "      <td>NaN</td>\n",
       "      <td>NaN</td>\n",
       "    </tr>\n",
       "    <tr>\n",
       "      <td>21673</td>\n",
       "      <td>6</td>\n",
       "      <td>2600000.0</td>\n",
       "      <td>36.0</td>\n",
       "      <td>2017-11-12T00:00:00</td>\n",
       "      <td>1</td>\n",
       "      <td>NaN</td>\n",
       "      <td>5.0</td>\n",
       "      <td>17.5</td>\n",
       "      <td>3</td>\n",
       "      <td>NaN</td>\n",
       "      <td>...</td>\n",
       "      <td>8.5</td>\n",
       "      <td>2.0</td>\n",
       "      <td>Гатчина</td>\n",
       "      <td>NaN</td>\n",
       "      <td>NaN</td>\n",
       "      <td>NaN</td>\n",
       "      <td>NaN</td>\n",
       "      <td>NaN</td>\n",
       "      <td>NaN</td>\n",
       "      <td>390.0</td>\n",
       "    </tr>\n",
       "    <tr>\n",
       "      <td>19781</td>\n",
       "      <td>20</td>\n",
       "      <td>8400000.0</td>\n",
       "      <td>59.0</td>\n",
       "      <td>2017-04-28T00:00:00</td>\n",
       "      <td>2</td>\n",
       "      <td>NaN</td>\n",
       "      <td>14.0</td>\n",
       "      <td>36.0</td>\n",
       "      <td>8</td>\n",
       "      <td>NaN</td>\n",
       "      <td>...</td>\n",
       "      <td>10.0</td>\n",
       "      <td>0.0</td>\n",
       "      <td>Санкт-Петербург</td>\n",
       "      <td>12698.0</td>\n",
       "      <td>15290.0</td>\n",
       "      <td>0.0</td>\n",
       "      <td>NaN</td>\n",
       "      <td>2.0</td>\n",
       "      <td>353.0</td>\n",
       "      <td>7.0</td>\n",
       "    </tr>\n",
       "    <tr>\n",
       "      <td>4494</td>\n",
       "      <td>5</td>\n",
       "      <td>3500000.0</td>\n",
       "      <td>40.0</td>\n",
       "      <td>2017-09-25T00:00:00</td>\n",
       "      <td>1</td>\n",
       "      <td>2.70</td>\n",
       "      <td>20.0</td>\n",
       "      <td>15.4</td>\n",
       "      <td>12</td>\n",
       "      <td>NaN</td>\n",
       "      <td>...</td>\n",
       "      <td>11.1</td>\n",
       "      <td>1.0</td>\n",
       "      <td>посёлок Мурино</td>\n",
       "      <td>NaN</td>\n",
       "      <td>NaN</td>\n",
       "      <td>NaN</td>\n",
       "      <td>NaN</td>\n",
       "      <td>NaN</td>\n",
       "      <td>NaN</td>\n",
       "      <td>72.0</td>\n",
       "    </tr>\n",
       "  </tbody>\n",
       "</table>\n",
       "<p>10 rows × 22 columns</p>\n",
       "</div>"
      ],
      "text/plain": [
       "       total_images  last_price  total_area first_day_exposition  rooms  \\\n",
       "16656            19  20000000.0       198.1  2018-05-05T00:00:00      6   \n",
       "19457            20   5500000.0        68.0  2017-08-14T00:00:00      3   \n",
       "19876             2   3570000.0        41.0  2017-09-27T00:00:00      1   \n",
       "4481             17   3400000.0        32.4  2018-12-31T00:00:00      1   \n",
       "21122             9   2800000.0        31.3  2017-05-16T00:00:00      1   \n",
       "23575            15   5750000.0        65.0  2015-07-02T00:00:00      3   \n",
       "10039            16  11490000.0       122.1  2018-02-01T00:00:00      5   \n",
       "21673             6   2600000.0        36.0  2017-11-12T00:00:00      1   \n",
       "19781            20   8400000.0        59.0  2017-04-28T00:00:00      2   \n",
       "4494              5   3500000.0        40.0  2017-09-25T00:00:00      1   \n",
       "\n",
       "       ceiling_height  floors_total  living_area  floor is_apartment  ...  \\\n",
       "16656            2.80          12.0        118.4     11          NaN  ...   \n",
       "19457            2.90           6.0         45.0      5          NaN  ...   \n",
       "19876             NaN          26.0         17.0     12          NaN  ...   \n",
       "4481             2.50          16.0         17.5     10          NaN  ...   \n",
       "21122            2.54           7.0         17.8      2        False  ...   \n",
       "23575            2.60           9.0         42.0      1          NaN  ...   \n",
       "10039            3.08           6.0         66.6      3          NaN  ...   \n",
       "21673             NaN           5.0         17.5      3          NaN  ...   \n",
       "19781             NaN          14.0         36.0      8          NaN  ...   \n",
       "4494             2.70          20.0         15.4     12          NaN  ...   \n",
       "\n",
       "       kitchen_area  balcony      locality_name  airports_nearest  \\\n",
       "16656          13.8      NaN    Санкт-Петербург           50795.0   \n",
       "19457           9.0      NaN    Санкт-Петербург           19479.0   \n",
       "19876          10.0      2.0  посёлок Парголово           53788.0   \n",
       "4481            6.2      2.0    Санкт-Петербург           49169.0   \n",
       "21122           5.8      1.0    Санкт-Петербург           18886.0   \n",
       "23575          10.0      0.0    Санкт-Петербург           15871.0   \n",
       "10039          17.1      NaN    Санкт-Петербург           22464.0   \n",
       "21673           8.5      2.0            Гатчина               NaN   \n",
       "19781          10.0      0.0    Санкт-Петербург           12698.0   \n",
       "4494           11.1      1.0     посёлок Мурино               NaN   \n",
       "\n",
       "      cityCenters_nearest  parks_around3000  parks_nearest  ponds_around3000  \\\n",
       "16656             14760.0               0.0            NaN               0.0   \n",
       "19457              4234.0               1.0          316.0               1.0   \n",
       "19876             18014.0               0.0            NaN               2.0   \n",
       "4481              16096.0               0.0            NaN               0.0   \n",
       "21122             15274.0               2.0          442.0               1.0   \n",
       "23575             14807.0               1.0          555.0               0.0   \n",
       "10039              4184.0               1.0          465.0               0.0   \n",
       "21673                 NaN               NaN            NaN               NaN   \n",
       "19781             15290.0               0.0            NaN               2.0   \n",
       "4494                  NaN               NaN            NaN               NaN   \n",
       "\n",
       "       ponds_nearest  days_exposition  \n",
       "16656            NaN              NaN  \n",
       "19457          183.0            385.0  \n",
       "19876          978.0            253.0  \n",
       "4481             NaN             31.0  \n",
       "21122          391.0             46.0  \n",
       "23575            NaN            546.0  \n",
       "10039            NaN              NaN  \n",
       "21673            NaN            390.0  \n",
       "19781          353.0              7.0  \n",
       "4494             NaN             72.0  \n",
       "\n",
       "[10 rows x 22 columns]"
      ]
     },
     "execution_count": 4,
     "metadata": {},
     "output_type": "execute_result"
    }
   ],
   "source": [
    "data.sample(10)"
   ]
  },
  {
   "cell_type": "markdown",
   "metadata": {},
   "source": [
    "### Вывод:"
   ]
  },
  {
   "cell_type": "markdown",
   "metadata": {},
   "source": [
    "#### Наименование столбцов:\n",
    "- airports_nearest - исправим на distance_to_airport\n",
    "- cityCenters_nearest - исправим на distance_to_center\n",
    "\n",
    "#### Тип данных:\n",
    "- last_price - копейки в цене квартиры не важны, переведем в int64?\n",
    "- first_day_exposition - переведем в datetime\n",
    "- floors_total - количество этажей может быть целым числом, переведем в int64?\n",
    "- is_apartment - переведем в bool\n",
    "- balcony - может быть только целое число, переведем в int64\n",
    "- parks_around3000 - может быть только целое число, переведем в int64\n",
    "- ponds_around3000 - может быть только целое число, переведем в int64\n",
    "- days_exposition - для удобства хранения и обработки переведем в int64\n",
    "\n",
    "#### Пропуски:\n",
    "- ceiling_height - проверить, нужен ли параметр для целей исследования?\n",
    "- floors_total - \n",
    "- living_area - возможно, не указана для студий\n",
    "- is_apartment - возможно, устраним проблему, если переведем в bool\n",
    "- kitchen_area - возможно, площадь не указана для студий\n",
    "- balcony - возможно, пропуски связаны с отсутсвием балконов\n",
    "- locality_name - \n",
    "- airports_nearest\n",
    "- cityCenters_nearest\n",
    "- parks_around3000, ponds_around3000 - предположим, что нет парков и озер, там где пропуски\n",
    "- parks_nearest, ponds_nearest - параметр связан с предыдущим, возможно, расстояние до парков и прудов слишком велико. \n",
    "\n",
    "#### Проверить на дубликаты"
   ]
  },
  {
   "cell_type": "markdown",
   "metadata": {},
   "source": [
    "***<a href='#top'>Вернуться в начало</a>***"
   ]
  },
  {
   "cell_type": "markdown",
   "metadata": {},
   "source": [
    "<a id='Step_2'></a>\n",
    "### Шаг 2. Предобработка данных"
   ]
  },
  {
   "cell_type": "markdown",
   "metadata": {},
   "source": [
    "<a id='Step_2_1'></a>\n",
    "#### 2.1 Преобразование названий столбцов"
   ]
  },
  {
   "cell_type": "code",
   "execution_count": 5,
   "metadata": {},
   "outputs": [
    {
     "data": {
      "text/plain": [
       "Index(['total_images', 'last_price', 'total_area', 'first_day_exposition',\n",
       "       'rooms', 'ceiling_height', 'floors_total', 'living_area', 'floor',\n",
       "       'is_apartment', 'studio', 'open_plan', 'kitchen_area', 'balcony',\n",
       "       'locality_name', 'airports_nearest', 'cityCenters_nearest',\n",
       "       'parks_around3000', 'parks_nearest', 'ponds_around3000',\n",
       "       'ponds_nearest', 'days_exposition'],\n",
       "      dtype='object')"
      ]
     },
     "execution_count": 5,
     "metadata": {},
     "output_type": "execute_result"
    }
   ],
   "source": [
    "data.columns"
   ]
  },
  {
   "cell_type": "code",
   "execution_count": 6,
   "metadata": {},
   "outputs": [],
   "source": [
    "data = data.rename(columns={\n",
    "    'total_images':'total_images',\n",
    "    'last_price':'last_price', \n",
    "    'total_area':'total_area', \n",
    "    'first_day_exposition':'exposition_start',\n",
    "    'rooms':'rooms', \n",
    "    'ceiling_height':'ceiling_height', \n",
    "    'floors_total':'floors_total', \n",
    "    'living_area':'living_area', \n",
    "    'floor':'floor',\n",
    "    'is_apartment':'is_apartment', \n",
    "    'studio':'is_studio', \n",
    "    'open_plan':'is_open_plan', \n",
    "    'kitchen_area':'kitchen_area', \n",
    "    'balcony':'balcony',\n",
    "    'locality_name':'locality_name', \n",
    "    'airports_nearest':'distance_to_airport', \n",
    "    'cityCenters_nearest':'distance_to_center',\n",
    "    'parks_around3000':'parks_around', \n",
    "    'parks_nearest':'distance_to_park', \n",
    "    'ponds_around3000':'ponds_around',\n",
    "    'ponds_nearest':'distance_to_pond', \n",
    "    'days_exposition':'days_in_exposition'\n",
    "  })"
   ]
  },
  {
   "cell_type": "markdown",
   "metadata": {},
   "source": [
    "<a id='Step_2_2'></a>\n",
    "#### 2.2 Преобразование типов данных"
   ]
  },
  {
   "cell_type": "code",
   "execution_count": 7,
   "metadata": {},
   "outputs": [
    {
     "data": {
      "text/plain": [
       "False    2725\n",
       "True       50\n",
       "Name: is_apartment, dtype: int64"
      ]
     },
     "execution_count": 7,
     "metadata": {},
     "output_type": "execute_result"
    }
   ],
   "source": [
    "#В столбце is_apartment тип данных object. Определим, какие значения там есть.\n",
    "data['is_apartment'].value_counts()"
   ]
  },
  {
   "cell_type": "code",
   "execution_count": 8,
   "metadata": {},
   "outputs": [],
   "source": [
    "#Предположим, что пропуски возникли там, где пользователь не дал положительного ответа. Заменим пропуски на 0\n",
    "values = {'is_apartment': 0, 'is_studio': 0, 'is_open_plan': 0, 'balcony': 0}\n",
    "data = data.fillna(value = values)"
   ]
  },
  {
   "cell_type": "code",
   "execution_count": 9,
   "metadata": {},
   "outputs": [],
   "source": [
    "#Заменим False на 0, True на 1\n",
    "data.loc[data['is_apartment']] = data.loc[data['is_apartment']].replace('False', 0)\n",
    "data.loc[data['is_apartment']] = data.loc[data['is_apartment']].replace('True', 1)"
   ]
  },
  {
   "cell_type": "code",
   "execution_count": 10,
   "metadata": {},
   "outputs": [],
   "source": [
    "#Для удобства обработки информации заменим тип данных на int\n",
    "dtype_values = {'is_apartment': int, 'is_studio': int, 'is_open_plan': int, 'balcony': int}\n",
    "data = data.astype(dtype_values)"
   ]
  },
  {
   "cell_type": "code",
   "execution_count": 11,
   "metadata": {},
   "outputs": [],
   "source": [
    "#Переведем типданных в столбце exposition_start в формат datetime64 \n",
    "data['exposition_start'] = pd.to_datetime(data['exposition_start'], format = '%Y.%m.%dT%H:%M:%S')"
   ]
  },
  {
   "cell_type": "code",
   "execution_count": 12,
   "metadata": {},
   "outputs": [
    {
     "name": "stdout",
     "output_type": "stream",
     "text": [
      "<class 'pandas.core.frame.DataFrame'>\n",
      "RangeIndex: 23699 entries, 0 to 23698\n",
      "Data columns (total 22 columns):\n",
      "total_images           23699 non-null int64\n",
      "last_price             23699 non-null float64\n",
      "total_area             23699 non-null float64\n",
      "exposition_start       23699 non-null datetime64[ns]\n",
      "rooms                  23699 non-null int64\n",
      "ceiling_height         14504 non-null float64\n",
      "floors_total           23613 non-null float64\n",
      "living_area            21796 non-null float64\n",
      "floor                  23699 non-null int64\n",
      "is_apartment           23699 non-null int64\n",
      "is_studio              23699 non-null int64\n",
      "is_open_plan           23699 non-null int64\n",
      "kitchen_area           21421 non-null float64\n",
      "balcony                23699 non-null int64\n",
      "locality_name          23650 non-null object\n",
      "distance_to_airport    18157 non-null float64\n",
      "distance_to_center     18180 non-null float64\n",
      "parks_around           18181 non-null float64\n",
      "distance_to_park       8079 non-null float64\n",
      "ponds_around           18181 non-null float64\n",
      "distance_to_pond       9110 non-null float64\n",
      "days_in_exposition     20518 non-null float64\n",
      "dtypes: datetime64[ns](1), float64(13), int64(7), object(1)\n",
      "memory usage: 4.0+ MB\n"
     ]
    }
   ],
   "source": [
    "#Проверим результат преобразований\n",
    "data.info()"
   ]
  },
  {
   "cell_type": "markdown",
   "metadata": {},
   "source": [
    "#### Вывод:\n",
    "<p>Пропуски в столбцах 'is_apartment', 'is_studio', 'is_open_plan', 'balcony', вероятно, возникли там, где пользователь дал отрицательный ответ или не заполнил поле в форме. Замена типа данных на Int решила проблему.</p>\n",
    "<p>Тип данных в столбце 'exposition_start' необходимо было заменить на datetime для дальнейшей работы над проектом.</p>"
   ]
  },
  {
   "cell_type": "markdown",
   "metadata": {},
   "source": [
    "<a id='Step_2_3'></a>\n",
    "#### 2.3 Устранение пропусков в столбце 'locality_name'"
   ]
  },
  {
   "cell_type": "code",
   "execution_count": 13,
   "metadata": {},
   "outputs": [],
   "source": [
    "#Избавимся от дубликатов, которые возникают из-за букв е и ё\n",
    "data['locality_name'] = data['locality_name'].str.replace('ё','е')"
   ]
  },
  {
   "cell_type": "code",
   "execution_count": 14,
   "metadata": {},
   "outputs": [
    {
     "data": {
      "text/plain": [
       "49"
      ]
     },
     "execution_count": 14,
     "metadata": {},
     "output_type": "execute_result"
    }
   ],
   "source": [
    "#Посчитаем количество пропусков\n",
    "data['locality_name'].isnull().sum()"
   ]
  },
  {
   "cell_type": "code",
   "execution_count": 15,
   "metadata": {},
   "outputs": [
    {
     "data": {
      "text/plain": [
       "count    18180.000000\n",
       "mean     14191.277833\n",
       "std       8608.386210\n",
       "min        181.000000\n",
       "25%       9238.000000\n",
       "50%      13098.500000\n",
       "75%      16293.000000\n",
       "max      65968.000000\n",
       "Name: distance_to_center, dtype: float64"
      ]
     },
     "execution_count": 15,
     "metadata": {},
     "output_type": "execute_result"
    }
   ],
   "source": [
    "#Попробуем определить название населенного пункта по расстоянию от центра\n",
    "data['distance_to_center'].describe()"
   ]
  },
  {
   "cell_type": "markdown",
   "metadata": {},
   "source": [
    "Предположим, что любой объект, который находится на расстоянии менее 13098 м от центра Санкт-Петербурга, находится в Санкт-Петербурге, всем остальным объектам присвоим значение Иное. "
   ]
  },
  {
   "cell_type": "code",
   "execution_count": 16,
   "metadata": {},
   "outputs": [],
   "source": [
    "data.loc[(data['distance_to_center'] <= 13098), ['locality_name']] = (\n",
    "        data.loc[(data['distance_to_center'] <= 13098), ['locality_name']]\n",
    "        .fillna('Санкт-Петербург')\n",
    ")"
   ]
  },
  {
   "cell_type": "code",
   "execution_count": 17,
   "metadata": {},
   "outputs": [],
   "source": [
    "data['locality_name'] = data['locality_name'].fillna('Иное')"
   ]
  },
  {
   "cell_type": "code",
   "execution_count": 18,
   "metadata": {
    "scrolled": true
   },
   "outputs": [
    {
     "data": {
      "text/plain": [
       "0"
      ]
     },
     "execution_count": 18,
     "metadata": {},
     "output_type": "execute_result"
    }
   ],
   "source": [
    "data['locality_name'].isnull().sum()"
   ]
  },
  {
   "cell_type": "markdown",
   "metadata": {},
   "source": [
    "<a id='Step_2_4'></a>\n",
    "#### 2.4 Устранение пропусков в столбце 'floors_total'"
   ]
  },
  {
   "cell_type": "code",
   "execution_count": 19,
   "metadata": {},
   "outputs": [
    {
     "data": {
      "text/plain": [
       "86"
      ]
     },
     "execution_count": 19,
     "metadata": {},
     "output_type": "execute_result"
    }
   ],
   "source": [
    "data['floors_total'].isnull().sum()"
   ]
  },
  {
   "cell_type": "code",
   "execution_count": 20,
   "metadata": {},
   "outputs": [],
   "source": [
    "#функция заменяет пропуски в столбце на медианные значения, характерные для района. \n",
    "def replace_to_median(locality_name, column):\n",
    "    median = (\n",
    "        data.loc[data['locality_name'] == locality_name, column]\n",
    "        .median()\n",
    "    )\n",
    "    \n",
    "    data.loc[(data['locality_name'] == locality_name) & (data['floor'] <= median ), column] = (\n",
    "        data.loc[(data['locality_name'] == locality_name) & (data['floor'] <= median ), column]\n",
    "        .fillna(median)\n",
    "    )\n",
    "    data.loc[(data['locality_name'] == locality_name) & (data['floor'] > median), column] = (\n",
    "        data.loc[(data['locality_name'] == locality_name) & (data['floor'] > median), column]\n",
    "        .fillna(data['floor'])\n",
    "    )"
   ]
  },
  {
   "cell_type": "code",
   "execution_count": 21,
   "metadata": {},
   "outputs": [],
   "source": [
    "#Создадим список значений, которые принимает переменная 'locality_name'\n",
    "locality_name_values = list(data['locality_name'])"
   ]
  },
  {
   "cell_type": "code",
   "execution_count": 22,
   "metadata": {},
   "outputs": [],
   "source": [
    "replace_to_median(locality_name_values, 'floors_total')"
   ]
  },
  {
   "cell_type": "code",
   "execution_count": 23,
   "metadata": {},
   "outputs": [
    {
     "data": {
      "text/plain": [
       "0"
      ]
     },
     "execution_count": 23,
     "metadata": {},
     "output_type": "execute_result"
    }
   ],
   "source": [
    "#Проверим результат проведенных преобразований\n",
    "data['floors_total'].isnull().sum()"
   ]
  },
  {
   "cell_type": "code",
   "execution_count": 24,
   "metadata": {},
   "outputs": [
    {
     "data": {
      "text/plain": [
       "5.0     5788\n",
       "9.0     3810\n",
       "16.0    1376\n",
       "12.0    1368\n",
       "4.0     1200\n",
       "10.0    1177\n",
       "25.0    1075\n",
       "6.0      914\n",
       "17.0     834\n",
       "3.0      668\n",
       "7.0      592\n",
       "14.0     555\n",
       "18.0     508\n",
       "24.0     471\n",
       "8.0      390\n",
       "2.0      383\n",
       "15.0     368\n",
       "23.0     353\n",
       "19.0     342\n",
       "22.0     287\n",
       "20.0     273\n",
       "13.0     232\n",
       "11.0     206\n",
       "27.0     164\n",
       "21.0     162\n",
       "26.0     124\n",
       "1.0       25\n",
       "35.0      24\n",
       "28.0      21\n",
       "36.0       3\n",
       "29.0       1\n",
       "60.0       1\n",
       "33.0       1\n",
       "52.0       1\n",
       "37.0       1\n",
       "34.0       1\n",
       "Name: floors_total, dtype: int64"
      ]
     },
     "execution_count": 24,
     "metadata": {},
     "output_type": "execute_result"
    }
   ],
   "source": [
    "#Посмотрим, какие значения принимает переменная 'floors_total' \n",
    "data['floors_total'].sort_values().value_counts()"
   ]
  },
  {
   "cell_type": "markdown",
   "metadata": {},
   "source": [
    "Чаще всего встречаются 5-этажки, 9-этажки, 18-этажки - все выглядит правдоподобно. Есть несколько аномально высоких зданий. Посмотрим на них:"
   ]
  },
  {
   "cell_type": "code",
   "execution_count": 25,
   "metadata": {},
   "outputs": [
    {
     "data": {
      "text/html": [
       "<div>\n",
       "<style scoped>\n",
       "    .dataframe tbody tr th:only-of-type {\n",
       "        vertical-align: middle;\n",
       "    }\n",
       "\n",
       "    .dataframe tbody tr th {\n",
       "        vertical-align: top;\n",
       "    }\n",
       "\n",
       "    .dataframe thead th {\n",
       "        text-align: right;\n",
       "    }\n",
       "</style>\n",
       "<table border=\"1\" class=\"dataframe\">\n",
       "  <thead>\n",
       "    <tr style=\"text-align: right;\">\n",
       "      <th></th>\n",
       "      <th>total_images</th>\n",
       "      <th>last_price</th>\n",
       "      <th>total_area</th>\n",
       "      <th>exposition_start</th>\n",
       "      <th>rooms</th>\n",
       "      <th>ceiling_height</th>\n",
       "      <th>floors_total</th>\n",
       "      <th>living_area</th>\n",
       "      <th>floor</th>\n",
       "      <th>is_apartment</th>\n",
       "      <th>...</th>\n",
       "      <th>kitchen_area</th>\n",
       "      <th>balcony</th>\n",
       "      <th>locality_name</th>\n",
       "      <th>distance_to_airport</th>\n",
       "      <th>distance_to_center</th>\n",
       "      <th>parks_around</th>\n",
       "      <th>distance_to_park</th>\n",
       "      <th>ponds_around</th>\n",
       "      <th>distance_to_pond</th>\n",
       "      <th>days_in_exposition</th>\n",
       "    </tr>\n",
       "  </thead>\n",
       "  <tbody>\n",
       "    <tr>\n",
       "      <td>397</td>\n",
       "      <td>15</td>\n",
       "      <td>5990000.0</td>\n",
       "      <td>54.0</td>\n",
       "      <td>2018-03-22</td>\n",
       "      <td>2</td>\n",
       "      <td>NaN</td>\n",
       "      <td>36.0</td>\n",
       "      <td>21.4</td>\n",
       "      <td>28</td>\n",
       "      <td>0</td>\n",
       "      <td>...</td>\n",
       "      <td>18.70</td>\n",
       "      <td>1</td>\n",
       "      <td>Санкт-Петербург</td>\n",
       "      <td>18732.0</td>\n",
       "      <td>20444.0</td>\n",
       "      <td>0.0</td>\n",
       "      <td>NaN</td>\n",
       "      <td>3.0</td>\n",
       "      <td>80.0</td>\n",
       "      <td>11.0</td>\n",
       "    </tr>\n",
       "    <tr>\n",
       "      <td>871</td>\n",
       "      <td>14</td>\n",
       "      <td>7777777.0</td>\n",
       "      <td>75.0</td>\n",
       "      <td>2017-11-16</td>\n",
       "      <td>2</td>\n",
       "      <td>NaN</td>\n",
       "      <td>35.0</td>\n",
       "      <td>40.5</td>\n",
       "      <td>23</td>\n",
       "      <td>0</td>\n",
       "      <td>...</td>\n",
       "      <td>11.70</td>\n",
       "      <td>0</td>\n",
       "      <td>Санкт-Петербург</td>\n",
       "      <td>18732.0</td>\n",
       "      <td>20444.0</td>\n",
       "      <td>0.0</td>\n",
       "      <td>NaN</td>\n",
       "      <td>3.0</td>\n",
       "      <td>80.0</td>\n",
       "      <td>169.0</td>\n",
       "    </tr>\n",
       "    <tr>\n",
       "      <td>1060</td>\n",
       "      <td>10</td>\n",
       "      <td>5200000.0</td>\n",
       "      <td>50.0</td>\n",
       "      <td>2015-11-06</td>\n",
       "      <td>2</td>\n",
       "      <td>NaN</td>\n",
       "      <td>35.0</td>\n",
       "      <td>39.0</td>\n",
       "      <td>15</td>\n",
       "      <td>0</td>\n",
       "      <td>...</td>\n",
       "      <td>20.50</td>\n",
       "      <td>2</td>\n",
       "      <td>Санкт-Петербург</td>\n",
       "      <td>18732.0</td>\n",
       "      <td>20444.0</td>\n",
       "      <td>0.0</td>\n",
       "      <td>NaN</td>\n",
       "      <td>3.0</td>\n",
       "      <td>80.0</td>\n",
       "      <td>281.0</td>\n",
       "    </tr>\n",
       "    <tr>\n",
       "      <td>1697</td>\n",
       "      <td>11</td>\n",
       "      <td>3550000.0</td>\n",
       "      <td>28.0</td>\n",
       "      <td>2018-02-08</td>\n",
       "      <td>1</td>\n",
       "      <td>2.65</td>\n",
       "      <td>34.0</td>\n",
       "      <td>18.0</td>\n",
       "      <td>23</td>\n",
       "      <td>0</td>\n",
       "      <td>...</td>\n",
       "      <td>NaN</td>\n",
       "      <td>0</td>\n",
       "      <td>Санкт-Петербург</td>\n",
       "      <td>18732.0</td>\n",
       "      <td>20444.0</td>\n",
       "      <td>0.0</td>\n",
       "      <td>NaN</td>\n",
       "      <td>3.0</td>\n",
       "      <td>80.0</td>\n",
       "      <td>410.0</td>\n",
       "    </tr>\n",
       "    <tr>\n",
       "      <td>1917</td>\n",
       "      <td>13</td>\n",
       "      <td>10150000.0</td>\n",
       "      <td>74.0</td>\n",
       "      <td>2017-11-17</td>\n",
       "      <td>2</td>\n",
       "      <td>2.80</td>\n",
       "      <td>35.0</td>\n",
       "      <td>34.4</td>\n",
       "      <td>30</td>\n",
       "      <td>0</td>\n",
       "      <td>...</td>\n",
       "      <td>13.00</td>\n",
       "      <td>0</td>\n",
       "      <td>Санкт-Петербург</td>\n",
       "      <td>18732.0</td>\n",
       "      <td>20444.0</td>\n",
       "      <td>0.0</td>\n",
       "      <td>NaN</td>\n",
       "      <td>3.0</td>\n",
       "      <td>80.0</td>\n",
       "      <td>NaN</td>\n",
       "    </tr>\n",
       "    <tr>\n",
       "      <td>2253</td>\n",
       "      <td>12</td>\n",
       "      <td>3800000.0</td>\n",
       "      <td>45.5</td>\n",
       "      <td>2018-06-28</td>\n",
       "      <td>2</td>\n",
       "      <td>2.88</td>\n",
       "      <td>60.0</td>\n",
       "      <td>27.4</td>\n",
       "      <td>4</td>\n",
       "      <td>0</td>\n",
       "      <td>...</td>\n",
       "      <td>7.40</td>\n",
       "      <td>0</td>\n",
       "      <td>Кронштадт</td>\n",
       "      <td>67763.0</td>\n",
       "      <td>49488.0</td>\n",
       "      <td>2.0</td>\n",
       "      <td>342.0</td>\n",
       "      <td>3.0</td>\n",
       "      <td>614.0</td>\n",
       "      <td>166.0</td>\n",
       "    </tr>\n",
       "    <tr>\n",
       "      <td>2966</td>\n",
       "      <td>9</td>\n",
       "      <td>4300000.0</td>\n",
       "      <td>37.0</td>\n",
       "      <td>2017-08-08</td>\n",
       "      <td>1</td>\n",
       "      <td>NaN</td>\n",
       "      <td>35.0</td>\n",
       "      <td>14.0</td>\n",
       "      <td>15</td>\n",
       "      <td>0</td>\n",
       "      <td>...</td>\n",
       "      <td>10.40</td>\n",
       "      <td>0</td>\n",
       "      <td>Санкт-Петербург</td>\n",
       "      <td>18732.0</td>\n",
       "      <td>20444.0</td>\n",
       "      <td>0.0</td>\n",
       "      <td>NaN</td>\n",
       "      <td>3.0</td>\n",
       "      <td>80.0</td>\n",
       "      <td>50.0</td>\n",
       "    </tr>\n",
       "    <tr>\n",
       "      <td>4855</td>\n",
       "      <td>12</td>\n",
       "      <td>5500000.0</td>\n",
       "      <td>50.0</td>\n",
       "      <td>2017-06-22</td>\n",
       "      <td>1</td>\n",
       "      <td>2.80</td>\n",
       "      <td>35.0</td>\n",
       "      <td>22.0</td>\n",
       "      <td>4</td>\n",
       "      <td>0</td>\n",
       "      <td>...</td>\n",
       "      <td>13.00</td>\n",
       "      <td>0</td>\n",
       "      <td>Санкт-Петербург</td>\n",
       "      <td>18627.0</td>\n",
       "      <td>20339.0</td>\n",
       "      <td>1.0</td>\n",
       "      <td>609.0</td>\n",
       "      <td>3.0</td>\n",
       "      <td>145.0</td>\n",
       "      <td>537.0</td>\n",
       "    </tr>\n",
       "    <tr>\n",
       "      <td>5749</td>\n",
       "      <td>20</td>\n",
       "      <td>3590000.0</td>\n",
       "      <td>25.0</td>\n",
       "      <td>2017-08-30</td>\n",
       "      <td>0</td>\n",
       "      <td>2.80</td>\n",
       "      <td>35.0</td>\n",
       "      <td>NaN</td>\n",
       "      <td>26</td>\n",
       "      <td>0</td>\n",
       "      <td>...</td>\n",
       "      <td>NaN</td>\n",
       "      <td>2</td>\n",
       "      <td>Санкт-Петербург</td>\n",
       "      <td>18732.0</td>\n",
       "      <td>20444.0</td>\n",
       "      <td>0.0</td>\n",
       "      <td>NaN</td>\n",
       "      <td>3.0</td>\n",
       "      <td>80.0</td>\n",
       "      <td>198.0</td>\n",
       "    </tr>\n",
       "    <tr>\n",
       "      <td>5807</td>\n",
       "      <td>17</td>\n",
       "      <td>8150000.0</td>\n",
       "      <td>80.0</td>\n",
       "      <td>2019-01-09</td>\n",
       "      <td>2</td>\n",
       "      <td>27.00</td>\n",
       "      <td>36.0</td>\n",
       "      <td>41.0</td>\n",
       "      <td>13</td>\n",
       "      <td>0</td>\n",
       "      <td>...</td>\n",
       "      <td>12.00</td>\n",
       "      <td>5</td>\n",
       "      <td>Санкт-Петербург</td>\n",
       "      <td>18732.0</td>\n",
       "      <td>20444.0</td>\n",
       "      <td>0.0</td>\n",
       "      <td>NaN</td>\n",
       "      <td>3.0</td>\n",
       "      <td>80.0</td>\n",
       "      <td>38.0</td>\n",
       "    </tr>\n",
       "    <tr>\n",
       "      <td>5808</td>\n",
       "      <td>12</td>\n",
       "      <td>4590000.0</td>\n",
       "      <td>43.0</td>\n",
       "      <td>2018-10-19</td>\n",
       "      <td>1</td>\n",
       "      <td>NaN</td>\n",
       "      <td>35.0</td>\n",
       "      <td>14.0</td>\n",
       "      <td>11</td>\n",
       "      <td>0</td>\n",
       "      <td>...</td>\n",
       "      <td>15.00</td>\n",
       "      <td>0</td>\n",
       "      <td>Санкт-Петербург</td>\n",
       "      <td>18732.0</td>\n",
       "      <td>20444.0</td>\n",
       "      <td>0.0</td>\n",
       "      <td>NaN</td>\n",
       "      <td>3.0</td>\n",
       "      <td>80.0</td>\n",
       "      <td>82.0</td>\n",
       "    </tr>\n",
       "    <tr>\n",
       "      <td>7236</td>\n",
       "      <td>10</td>\n",
       "      <td>4599000.0</td>\n",
       "      <td>42.0</td>\n",
       "      <td>2019-01-10</td>\n",
       "      <td>1</td>\n",
       "      <td>NaN</td>\n",
       "      <td>35.0</td>\n",
       "      <td>15.0</td>\n",
       "      <td>12</td>\n",
       "      <td>0</td>\n",
       "      <td>...</td>\n",
       "      <td>11.00</td>\n",
       "      <td>2</td>\n",
       "      <td>Санкт-Петербург</td>\n",
       "      <td>18732.0</td>\n",
       "      <td>20444.0</td>\n",
       "      <td>0.0</td>\n",
       "      <td>NaN</td>\n",
       "      <td>3.0</td>\n",
       "      <td>80.0</td>\n",
       "      <td>72.0</td>\n",
       "    </tr>\n",
       "    <tr>\n",
       "      <td>8496</td>\n",
       "      <td>20</td>\n",
       "      <td>7500000.0</td>\n",
       "      <td>73.3</td>\n",
       "      <td>2017-05-18</td>\n",
       "      <td>3</td>\n",
       "      <td>NaN</td>\n",
       "      <td>35.0</td>\n",
       "      <td>28.0</td>\n",
       "      <td>27</td>\n",
       "      <td>0</td>\n",
       "      <td>...</td>\n",
       "      <td>23.10</td>\n",
       "      <td>0</td>\n",
       "      <td>Санкт-Петербург</td>\n",
       "      <td>18732.0</td>\n",
       "      <td>20444.0</td>\n",
       "      <td>0.0</td>\n",
       "      <td>NaN</td>\n",
       "      <td>3.0</td>\n",
       "      <td>80.0</td>\n",
       "      <td>250.0</td>\n",
       "    </tr>\n",
       "    <tr>\n",
       "      <td>9186</td>\n",
       "      <td>7</td>\n",
       "      <td>6500000.0</td>\n",
       "      <td>49.1</td>\n",
       "      <td>2019-04-12</td>\n",
       "      <td>1</td>\n",
       "      <td>2.50</td>\n",
       "      <td>35.0</td>\n",
       "      <td>31.0</td>\n",
       "      <td>3</td>\n",
       "      <td>0</td>\n",
       "      <td>...</td>\n",
       "      <td>7.00</td>\n",
       "      <td>0</td>\n",
       "      <td>Санкт-Петербург</td>\n",
       "      <td>18732.0</td>\n",
       "      <td>20444.0</td>\n",
       "      <td>0.0</td>\n",
       "      <td>NaN</td>\n",
       "      <td>3.0</td>\n",
       "      <td>80.0</td>\n",
       "      <td>3.0</td>\n",
       "    </tr>\n",
       "    <tr>\n",
       "      <td>9370</td>\n",
       "      <td>12</td>\n",
       "      <td>7390000.0</td>\n",
       "      <td>70.0</td>\n",
       "      <td>2017-02-21</td>\n",
       "      <td>2</td>\n",
       "      <td>2.70</td>\n",
       "      <td>35.0</td>\n",
       "      <td>28.0</td>\n",
       "      <td>3</td>\n",
       "      <td>0</td>\n",
       "      <td>...</td>\n",
       "      <td>23.00</td>\n",
       "      <td>2</td>\n",
       "      <td>Санкт-Петербург</td>\n",
       "      <td>18732.0</td>\n",
       "      <td>20444.0</td>\n",
       "      <td>0.0</td>\n",
       "      <td>NaN</td>\n",
       "      <td>3.0</td>\n",
       "      <td>80.0</td>\n",
       "      <td>236.0</td>\n",
       "    </tr>\n",
       "    <tr>\n",
       "      <td>9579</td>\n",
       "      <td>9</td>\n",
       "      <td>3450000.0</td>\n",
       "      <td>24.8</td>\n",
       "      <td>2019-02-01</td>\n",
       "      <td>0</td>\n",
       "      <td>2.68</td>\n",
       "      <td>35.0</td>\n",
       "      <td>16.0</td>\n",
       "      <td>17</td>\n",
       "      <td>0</td>\n",
       "      <td>...</td>\n",
       "      <td>NaN</td>\n",
       "      <td>2</td>\n",
       "      <td>Санкт-Петербург</td>\n",
       "      <td>18732.0</td>\n",
       "      <td>20444.0</td>\n",
       "      <td>0.0</td>\n",
       "      <td>NaN</td>\n",
       "      <td>3.0</td>\n",
       "      <td>80.0</td>\n",
       "      <td>45.0</td>\n",
       "    </tr>\n",
       "    <tr>\n",
       "      <td>11079</td>\n",
       "      <td>16</td>\n",
       "      <td>9200000.0</td>\n",
       "      <td>75.0</td>\n",
       "      <td>2019-02-22</td>\n",
       "      <td>2</td>\n",
       "      <td>2.70</td>\n",
       "      <td>36.0</td>\n",
       "      <td>40.0</td>\n",
       "      <td>29</td>\n",
       "      <td>0</td>\n",
       "      <td>...</td>\n",
       "      <td>12.00</td>\n",
       "      <td>2</td>\n",
       "      <td>Санкт-Петербург</td>\n",
       "      <td>18732.0</td>\n",
       "      <td>20444.0</td>\n",
       "      <td>0.0</td>\n",
       "      <td>NaN</td>\n",
       "      <td>3.0</td>\n",
       "      <td>80.0</td>\n",
       "      <td>NaN</td>\n",
       "    </tr>\n",
       "    <tr>\n",
       "      <td>11575</td>\n",
       "      <td>9</td>\n",
       "      <td>9900000.0</td>\n",
       "      <td>101.0</td>\n",
       "      <td>2016-04-28</td>\n",
       "      <td>3</td>\n",
       "      <td>NaN</td>\n",
       "      <td>33.0</td>\n",
       "      <td>53.0</td>\n",
       "      <td>32</td>\n",
       "      <td>0</td>\n",
       "      <td>...</td>\n",
       "      <td>21.00</td>\n",
       "      <td>0</td>\n",
       "      <td>Санкт-Петербург</td>\n",
       "      <td>18732.0</td>\n",
       "      <td>20444.0</td>\n",
       "      <td>0.0</td>\n",
       "      <td>NaN</td>\n",
       "      <td>3.0</td>\n",
       "      <td>80.0</td>\n",
       "      <td>53.0</td>\n",
       "    </tr>\n",
       "    <tr>\n",
       "      <td>12888</td>\n",
       "      <td>7</td>\n",
       "      <td>7600000.0</td>\n",
       "      <td>70.0</td>\n",
       "      <td>2016-11-18</td>\n",
       "      <td>3</td>\n",
       "      <td>2.70</td>\n",
       "      <td>35.0</td>\n",
       "      <td>36.5</td>\n",
       "      <td>27</td>\n",
       "      <td>0</td>\n",
       "      <td>...</td>\n",
       "      <td>23.10</td>\n",
       "      <td>2</td>\n",
       "      <td>Санкт-Петербург</td>\n",
       "      <td>18732.0</td>\n",
       "      <td>20444.0</td>\n",
       "      <td>0.0</td>\n",
       "      <td>NaN</td>\n",
       "      <td>3.0</td>\n",
       "      <td>80.0</td>\n",
       "      <td>413.0</td>\n",
       "    </tr>\n",
       "    <tr>\n",
       "      <td>12960</td>\n",
       "      <td>20</td>\n",
       "      <td>6140000.0</td>\n",
       "      <td>54.0</td>\n",
       "      <td>2018-10-09</td>\n",
       "      <td>2</td>\n",
       "      <td>2.70</td>\n",
       "      <td>35.0</td>\n",
       "      <td>26.6</td>\n",
       "      <td>13</td>\n",
       "      <td>0</td>\n",
       "      <td>...</td>\n",
       "      <td>19.10</td>\n",
       "      <td>2</td>\n",
       "      <td>Санкт-Петербург</td>\n",
       "      <td>18732.0</td>\n",
       "      <td>20444.0</td>\n",
       "      <td>0.0</td>\n",
       "      <td>NaN</td>\n",
       "      <td>3.0</td>\n",
       "      <td>80.0</td>\n",
       "      <td>155.0</td>\n",
       "    </tr>\n",
       "    <tr>\n",
       "      <td>13975</td>\n",
       "      <td>19</td>\n",
       "      <td>6990000.0</td>\n",
       "      <td>65.0</td>\n",
       "      <td>2018-10-06</td>\n",
       "      <td>2</td>\n",
       "      <td>NaN</td>\n",
       "      <td>35.0</td>\n",
       "      <td>32.1</td>\n",
       "      <td>23</td>\n",
       "      <td>0</td>\n",
       "      <td>...</td>\n",
       "      <td>8.90</td>\n",
       "      <td>0</td>\n",
       "      <td>Санкт-Петербург</td>\n",
       "      <td>18732.0</td>\n",
       "      <td>20444.0</td>\n",
       "      <td>0.0</td>\n",
       "      <td>NaN</td>\n",
       "      <td>3.0</td>\n",
       "      <td>80.0</td>\n",
       "      <td>89.0</td>\n",
       "    </tr>\n",
       "    <tr>\n",
       "      <td>14347</td>\n",
       "      <td>14</td>\n",
       "      <td>8595000.0</td>\n",
       "      <td>69.7</td>\n",
       "      <td>2018-09-26</td>\n",
       "      <td>2</td>\n",
       "      <td>NaN</td>\n",
       "      <td>35.0</td>\n",
       "      <td>27.4</td>\n",
       "      <td>26</td>\n",
       "      <td>0</td>\n",
       "      <td>...</td>\n",
       "      <td>23.30</td>\n",
       "      <td>0</td>\n",
       "      <td>Санкт-Петербург</td>\n",
       "      <td>18732.0</td>\n",
       "      <td>20444.0</td>\n",
       "      <td>0.0</td>\n",
       "      <td>NaN</td>\n",
       "      <td>3.0</td>\n",
       "      <td>80.0</td>\n",
       "      <td>NaN</td>\n",
       "    </tr>\n",
       "    <tr>\n",
       "      <td>15982</td>\n",
       "      <td>1</td>\n",
       "      <td>5900000.0</td>\n",
       "      <td>62.0</td>\n",
       "      <td>2015-03-01</td>\n",
       "      <td>2</td>\n",
       "      <td>NaN</td>\n",
       "      <td>35.0</td>\n",
       "      <td>34.0</td>\n",
       "      <td>9</td>\n",
       "      <td>0</td>\n",
       "      <td>...</td>\n",
       "      <td>10.00</td>\n",
       "      <td>1</td>\n",
       "      <td>Санкт-Петербург</td>\n",
       "      <td>18732.0</td>\n",
       "      <td>20444.0</td>\n",
       "      <td>0.0</td>\n",
       "      <td>NaN</td>\n",
       "      <td>3.0</td>\n",
       "      <td>80.0</td>\n",
       "      <td>547.0</td>\n",
       "    </tr>\n",
       "    <tr>\n",
       "      <td>16731</td>\n",
       "      <td>9</td>\n",
       "      <td>3978000.0</td>\n",
       "      <td>40.0</td>\n",
       "      <td>2018-09-24</td>\n",
       "      <td>1</td>\n",
       "      <td>2.65</td>\n",
       "      <td>52.0</td>\n",
       "      <td>10.5</td>\n",
       "      <td>18</td>\n",
       "      <td>0</td>\n",
       "      <td>...</td>\n",
       "      <td>14.00</td>\n",
       "      <td>0</td>\n",
       "      <td>Санкт-Петербург</td>\n",
       "      <td>20728.0</td>\n",
       "      <td>12978.0</td>\n",
       "      <td>1.0</td>\n",
       "      <td>793.0</td>\n",
       "      <td>0.0</td>\n",
       "      <td>NaN</td>\n",
       "      <td>45.0</td>\n",
       "    </tr>\n",
       "    <tr>\n",
       "      <td>16934</td>\n",
       "      <td>5</td>\n",
       "      <td>4100000.0</td>\n",
       "      <td>40.0</td>\n",
       "      <td>2017-10-17</td>\n",
       "      <td>1</td>\n",
       "      <td>1.75</td>\n",
       "      <td>37.0</td>\n",
       "      <td>17.4</td>\n",
       "      <td>5</td>\n",
       "      <td>0</td>\n",
       "      <td>...</td>\n",
       "      <td>8.34</td>\n",
       "      <td>0</td>\n",
       "      <td>Санкт-Петербург</td>\n",
       "      <td>18732.0</td>\n",
       "      <td>20444.0</td>\n",
       "      <td>0.0</td>\n",
       "      <td>NaN</td>\n",
       "      <td>3.0</td>\n",
       "      <td>80.0</td>\n",
       "      <td>71.0</td>\n",
       "    </tr>\n",
       "    <tr>\n",
       "      <td>18218</td>\n",
       "      <td>4</td>\n",
       "      <td>9900000.0</td>\n",
       "      <td>101.0</td>\n",
       "      <td>2018-09-27</td>\n",
       "      <td>3</td>\n",
       "      <td>NaN</td>\n",
       "      <td>35.0</td>\n",
       "      <td>53.4</td>\n",
       "      <td>33</td>\n",
       "      <td>0</td>\n",
       "      <td>...</td>\n",
       "      <td>13.70</td>\n",
       "      <td>2</td>\n",
       "      <td>Санкт-Петербург</td>\n",
       "      <td>18737.0</td>\n",
       "      <td>20450.0</td>\n",
       "      <td>0.0</td>\n",
       "      <td>NaN</td>\n",
       "      <td>3.0</td>\n",
       "      <td>72.0</td>\n",
       "      <td>7.0</td>\n",
       "    </tr>\n",
       "    <tr>\n",
       "      <td>18617</td>\n",
       "      <td>8</td>\n",
       "      <td>7350000.0</td>\n",
       "      <td>68.5</td>\n",
       "      <td>2017-10-09</td>\n",
       "      <td>2</td>\n",
       "      <td>NaN</td>\n",
       "      <td>35.0</td>\n",
       "      <td>27.0</td>\n",
       "      <td>3</td>\n",
       "      <td>0</td>\n",
       "      <td>...</td>\n",
       "      <td>23.00</td>\n",
       "      <td>1</td>\n",
       "      <td>Санкт-Петербург</td>\n",
       "      <td>18627.0</td>\n",
       "      <td>20339.0</td>\n",
       "      <td>1.0</td>\n",
       "      <td>609.0</td>\n",
       "      <td>3.0</td>\n",
       "      <td>145.0</td>\n",
       "      <td>41.0</td>\n",
       "    </tr>\n",
       "    <tr>\n",
       "      <td>18629</td>\n",
       "      <td>20</td>\n",
       "      <td>5700000.0</td>\n",
       "      <td>54.0</td>\n",
       "      <td>2017-12-08</td>\n",
       "      <td>1</td>\n",
       "      <td>NaN</td>\n",
       "      <td>35.0</td>\n",
       "      <td>21.0</td>\n",
       "      <td>31</td>\n",
       "      <td>0</td>\n",
       "      <td>...</td>\n",
       "      <td>18.00</td>\n",
       "      <td>0</td>\n",
       "      <td>Санкт-Петербург</td>\n",
       "      <td>18732.0</td>\n",
       "      <td>20444.0</td>\n",
       "      <td>0.0</td>\n",
       "      <td>NaN</td>\n",
       "      <td>3.0</td>\n",
       "      <td>80.0</td>\n",
       "      <td>128.0</td>\n",
       "    </tr>\n",
       "    <tr>\n",
       "      <td>20938</td>\n",
       "      <td>18</td>\n",
       "      <td>9900000.0</td>\n",
       "      <td>100.9</td>\n",
       "      <td>2019-04-08</td>\n",
       "      <td>3</td>\n",
       "      <td>NaN</td>\n",
       "      <td>35.0</td>\n",
       "      <td>53.4</td>\n",
       "      <td>22</td>\n",
       "      <td>0</td>\n",
       "      <td>...</td>\n",
       "      <td>13.40</td>\n",
       "      <td>0</td>\n",
       "      <td>Санкт-Петербург</td>\n",
       "      <td>18732.0</td>\n",
       "      <td>20444.0</td>\n",
       "      <td>0.0</td>\n",
       "      <td>NaN</td>\n",
       "      <td>3.0</td>\n",
       "      <td>80.0</td>\n",
       "      <td>NaN</td>\n",
       "    </tr>\n",
       "    <tr>\n",
       "      <td>21599</td>\n",
       "      <td>12</td>\n",
       "      <td>6200000.0</td>\n",
       "      <td>51.0</td>\n",
       "      <td>2017-08-27</td>\n",
       "      <td>2</td>\n",
       "      <td>NaN</td>\n",
       "      <td>35.0</td>\n",
       "      <td>27.0</td>\n",
       "      <td>13</td>\n",
       "      <td>0</td>\n",
       "      <td>...</td>\n",
       "      <td>19.00</td>\n",
       "      <td>0</td>\n",
       "      <td>Санкт-Петербург</td>\n",
       "      <td>18732.0</td>\n",
       "      <td>20444.0</td>\n",
       "      <td>0.0</td>\n",
       "      <td>NaN</td>\n",
       "      <td>3.0</td>\n",
       "      <td>80.0</td>\n",
       "      <td>NaN</td>\n",
       "    </tr>\n",
       "    <tr>\n",
       "      <td>21809</td>\n",
       "      <td>20</td>\n",
       "      <td>10600000.0</td>\n",
       "      <td>77.0</td>\n",
       "      <td>2019-04-16</td>\n",
       "      <td>2</td>\n",
       "      <td>NaN</td>\n",
       "      <td>35.0</td>\n",
       "      <td>39.0</td>\n",
       "      <td>11</td>\n",
       "      <td>0</td>\n",
       "      <td>...</td>\n",
       "      <td>14.00</td>\n",
       "      <td>2</td>\n",
       "      <td>Санкт-Петербург</td>\n",
       "      <td>18732.0</td>\n",
       "      <td>20444.0</td>\n",
       "      <td>0.0</td>\n",
       "      <td>NaN</td>\n",
       "      <td>3.0</td>\n",
       "      <td>80.0</td>\n",
       "      <td>NaN</td>\n",
       "    </tr>\n",
       "    <tr>\n",
       "      <td>22946</td>\n",
       "      <td>14</td>\n",
       "      <td>7690000.0</td>\n",
       "      <td>75.0</td>\n",
       "      <td>2018-03-27</td>\n",
       "      <td>2</td>\n",
       "      <td>NaN</td>\n",
       "      <td>35.0</td>\n",
       "      <td>40.0</td>\n",
       "      <td>8</td>\n",
       "      <td>0</td>\n",
       "      <td>...</td>\n",
       "      <td>15.00</td>\n",
       "      <td>0</td>\n",
       "      <td>Санкт-Петербург</td>\n",
       "      <td>18732.0</td>\n",
       "      <td>20444.0</td>\n",
       "      <td>0.0</td>\n",
       "      <td>NaN</td>\n",
       "      <td>3.0</td>\n",
       "      <td>80.0</td>\n",
       "      <td>NaN</td>\n",
       "    </tr>\n",
       "  </tbody>\n",
       "</table>\n",
       "<p>32 rows × 22 columns</p>\n",
       "</div>"
      ],
      "text/plain": [
       "       total_images  last_price  total_area exposition_start  rooms  \\\n",
       "397              15   5990000.0        54.0       2018-03-22      2   \n",
       "871              14   7777777.0        75.0       2017-11-16      2   \n",
       "1060             10   5200000.0        50.0       2015-11-06      2   \n",
       "1697             11   3550000.0        28.0       2018-02-08      1   \n",
       "1917             13  10150000.0        74.0       2017-11-17      2   \n",
       "2253             12   3800000.0        45.5       2018-06-28      2   \n",
       "2966              9   4300000.0        37.0       2017-08-08      1   \n",
       "4855             12   5500000.0        50.0       2017-06-22      1   \n",
       "5749             20   3590000.0        25.0       2017-08-30      0   \n",
       "5807             17   8150000.0        80.0       2019-01-09      2   \n",
       "5808             12   4590000.0        43.0       2018-10-19      1   \n",
       "7236             10   4599000.0        42.0       2019-01-10      1   \n",
       "8496             20   7500000.0        73.3       2017-05-18      3   \n",
       "9186              7   6500000.0        49.1       2019-04-12      1   \n",
       "9370             12   7390000.0        70.0       2017-02-21      2   \n",
       "9579              9   3450000.0        24.8       2019-02-01      0   \n",
       "11079            16   9200000.0        75.0       2019-02-22      2   \n",
       "11575             9   9900000.0       101.0       2016-04-28      3   \n",
       "12888             7   7600000.0        70.0       2016-11-18      3   \n",
       "12960            20   6140000.0        54.0       2018-10-09      2   \n",
       "13975            19   6990000.0        65.0       2018-10-06      2   \n",
       "14347            14   8595000.0        69.7       2018-09-26      2   \n",
       "15982             1   5900000.0        62.0       2015-03-01      2   \n",
       "16731             9   3978000.0        40.0       2018-09-24      1   \n",
       "16934             5   4100000.0        40.0       2017-10-17      1   \n",
       "18218             4   9900000.0       101.0       2018-09-27      3   \n",
       "18617             8   7350000.0        68.5       2017-10-09      2   \n",
       "18629            20   5700000.0        54.0       2017-12-08      1   \n",
       "20938            18   9900000.0       100.9       2019-04-08      3   \n",
       "21599            12   6200000.0        51.0       2017-08-27      2   \n",
       "21809            20  10600000.0        77.0       2019-04-16      2   \n",
       "22946            14   7690000.0        75.0       2018-03-27      2   \n",
       "\n",
       "       ceiling_height  floors_total  living_area  floor  is_apartment  ...  \\\n",
       "397               NaN          36.0         21.4     28             0  ...   \n",
       "871               NaN          35.0         40.5     23             0  ...   \n",
       "1060              NaN          35.0         39.0     15             0  ...   \n",
       "1697             2.65          34.0         18.0     23             0  ...   \n",
       "1917             2.80          35.0         34.4     30             0  ...   \n",
       "2253             2.88          60.0         27.4      4             0  ...   \n",
       "2966              NaN          35.0         14.0     15             0  ...   \n",
       "4855             2.80          35.0         22.0      4             0  ...   \n",
       "5749             2.80          35.0          NaN     26             0  ...   \n",
       "5807            27.00          36.0         41.0     13             0  ...   \n",
       "5808              NaN          35.0         14.0     11             0  ...   \n",
       "7236              NaN          35.0         15.0     12             0  ...   \n",
       "8496              NaN          35.0         28.0     27             0  ...   \n",
       "9186             2.50          35.0         31.0      3             0  ...   \n",
       "9370             2.70          35.0         28.0      3             0  ...   \n",
       "9579             2.68          35.0         16.0     17             0  ...   \n",
       "11079            2.70          36.0         40.0     29             0  ...   \n",
       "11575             NaN          33.0         53.0     32             0  ...   \n",
       "12888            2.70          35.0         36.5     27             0  ...   \n",
       "12960            2.70          35.0         26.6     13             0  ...   \n",
       "13975             NaN          35.0         32.1     23             0  ...   \n",
       "14347             NaN          35.0         27.4     26             0  ...   \n",
       "15982             NaN          35.0         34.0      9             0  ...   \n",
       "16731            2.65          52.0         10.5     18             0  ...   \n",
       "16934            1.75          37.0         17.4      5             0  ...   \n",
       "18218             NaN          35.0         53.4     33             0  ...   \n",
       "18617             NaN          35.0         27.0      3             0  ...   \n",
       "18629             NaN          35.0         21.0     31             0  ...   \n",
       "20938             NaN          35.0         53.4     22             0  ...   \n",
       "21599             NaN          35.0         27.0     13             0  ...   \n",
       "21809             NaN          35.0         39.0     11             0  ...   \n",
       "22946             NaN          35.0         40.0      8             0  ...   \n",
       "\n",
       "       kitchen_area  balcony    locality_name  distance_to_airport  \\\n",
       "397           18.70        1  Санкт-Петербург              18732.0   \n",
       "871           11.70        0  Санкт-Петербург              18732.0   \n",
       "1060          20.50        2  Санкт-Петербург              18732.0   \n",
       "1697            NaN        0  Санкт-Петербург              18732.0   \n",
       "1917          13.00        0  Санкт-Петербург              18732.0   \n",
       "2253           7.40        0        Кронштадт              67763.0   \n",
       "2966          10.40        0  Санкт-Петербург              18732.0   \n",
       "4855          13.00        0  Санкт-Петербург              18627.0   \n",
       "5749            NaN        2  Санкт-Петербург              18732.0   \n",
       "5807          12.00        5  Санкт-Петербург              18732.0   \n",
       "5808          15.00        0  Санкт-Петербург              18732.0   \n",
       "7236          11.00        2  Санкт-Петербург              18732.0   \n",
       "8496          23.10        0  Санкт-Петербург              18732.0   \n",
       "9186           7.00        0  Санкт-Петербург              18732.0   \n",
       "9370          23.00        2  Санкт-Петербург              18732.0   \n",
       "9579            NaN        2  Санкт-Петербург              18732.0   \n",
       "11079         12.00        2  Санкт-Петербург              18732.0   \n",
       "11575         21.00        0  Санкт-Петербург              18732.0   \n",
       "12888         23.10        2  Санкт-Петербург              18732.0   \n",
       "12960         19.10        2  Санкт-Петербург              18732.0   \n",
       "13975          8.90        0  Санкт-Петербург              18732.0   \n",
       "14347         23.30        0  Санкт-Петербург              18732.0   \n",
       "15982         10.00        1  Санкт-Петербург              18732.0   \n",
       "16731         14.00        0  Санкт-Петербург              20728.0   \n",
       "16934          8.34        0  Санкт-Петербург              18732.0   \n",
       "18218         13.70        2  Санкт-Петербург              18737.0   \n",
       "18617         23.00        1  Санкт-Петербург              18627.0   \n",
       "18629         18.00        0  Санкт-Петербург              18732.0   \n",
       "20938         13.40        0  Санкт-Петербург              18732.0   \n",
       "21599         19.00        0  Санкт-Петербург              18732.0   \n",
       "21809         14.00        2  Санкт-Петербург              18732.0   \n",
       "22946         15.00        0  Санкт-Петербург              18732.0   \n",
       "\n",
       "      distance_to_center  parks_around  distance_to_park  ponds_around  \\\n",
       "397              20444.0           0.0               NaN           3.0   \n",
       "871              20444.0           0.0               NaN           3.0   \n",
       "1060             20444.0           0.0               NaN           3.0   \n",
       "1697             20444.0           0.0               NaN           3.0   \n",
       "1917             20444.0           0.0               NaN           3.0   \n",
       "2253             49488.0           2.0             342.0           3.0   \n",
       "2966             20444.0           0.0               NaN           3.0   \n",
       "4855             20339.0           1.0             609.0           3.0   \n",
       "5749             20444.0           0.0               NaN           3.0   \n",
       "5807             20444.0           0.0               NaN           3.0   \n",
       "5808             20444.0           0.0               NaN           3.0   \n",
       "7236             20444.0           0.0               NaN           3.0   \n",
       "8496             20444.0           0.0               NaN           3.0   \n",
       "9186             20444.0           0.0               NaN           3.0   \n",
       "9370             20444.0           0.0               NaN           3.0   \n",
       "9579             20444.0           0.0               NaN           3.0   \n",
       "11079            20444.0           0.0               NaN           3.0   \n",
       "11575            20444.0           0.0               NaN           3.0   \n",
       "12888            20444.0           0.0               NaN           3.0   \n",
       "12960            20444.0           0.0               NaN           3.0   \n",
       "13975            20444.0           0.0               NaN           3.0   \n",
       "14347            20444.0           0.0               NaN           3.0   \n",
       "15982            20444.0           0.0               NaN           3.0   \n",
       "16731            12978.0           1.0             793.0           0.0   \n",
       "16934            20444.0           0.0               NaN           3.0   \n",
       "18218            20450.0           0.0               NaN           3.0   \n",
       "18617            20339.0           1.0             609.0           3.0   \n",
       "18629            20444.0           0.0               NaN           3.0   \n",
       "20938            20444.0           0.0               NaN           3.0   \n",
       "21599            20444.0           0.0               NaN           3.0   \n",
       "21809            20444.0           0.0               NaN           3.0   \n",
       "22946            20444.0           0.0               NaN           3.0   \n",
       "\n",
       "       distance_to_pond  days_in_exposition  \n",
       "397                80.0                11.0  \n",
       "871                80.0               169.0  \n",
       "1060               80.0               281.0  \n",
       "1697               80.0               410.0  \n",
       "1917               80.0                 NaN  \n",
       "2253              614.0               166.0  \n",
       "2966               80.0                50.0  \n",
       "4855              145.0               537.0  \n",
       "5749               80.0               198.0  \n",
       "5807               80.0                38.0  \n",
       "5808               80.0                82.0  \n",
       "7236               80.0                72.0  \n",
       "8496               80.0               250.0  \n",
       "9186               80.0                 3.0  \n",
       "9370               80.0               236.0  \n",
       "9579               80.0                45.0  \n",
       "11079              80.0                 NaN  \n",
       "11575              80.0                53.0  \n",
       "12888              80.0               413.0  \n",
       "12960              80.0               155.0  \n",
       "13975              80.0                89.0  \n",
       "14347              80.0                 NaN  \n",
       "15982              80.0               547.0  \n",
       "16731               NaN                45.0  \n",
       "16934              80.0                71.0  \n",
       "18218              72.0                 7.0  \n",
       "18617             145.0                41.0  \n",
       "18629              80.0               128.0  \n",
       "20938              80.0                 NaN  \n",
       "21599              80.0                 NaN  \n",
       "21809              80.0                 NaN  \n",
       "22946              80.0                 NaN  \n",
       "\n",
       "[32 rows x 22 columns]"
      ]
     },
     "execution_count": 25,
     "metadata": {},
     "output_type": "execute_result"
    }
   ],
   "source": [
    "data.query('floors_total > 30')"
   ]
  },
  {
   "cell_type": "markdown",
   "metadata": {},
   "source": [
    "<p>Похоже, что здание высотой 35-37, это один оъект: у всех квартир с такими параметрами одинаковое расстояние до центра и аэропорта. Такой объект действительно существует - это ЖК Александр Невский.<p/>\n",
    "<p>А вот жилых небоскребов, высотой более 50 этажей в Петербурге, тем более в Кронштадте нет. Заменим эти значения, по тем же принципам, по которым заменяли пропуски.<p/>"
   ]
  },
  {
   "cell_type": "code",
   "execution_count": 26,
   "metadata": {},
   "outputs": [
    {
     "data": {
      "text/plain": [
       "floors_total    5.0\n",
       "dtype: float64"
      ]
     },
     "execution_count": 26,
     "metadata": {},
     "output_type": "execute_result"
    }
   ],
   "source": [
    "#Найдем медиану высотности для Кронштадта\n",
    "data.loc[data['locality_name'] == 'Кронштадт', ['floors_total']].median()"
   ]
  },
  {
   "cell_type": "code",
   "execution_count": 27,
   "metadata": {},
   "outputs": [
    {
     "data": {
      "text/plain": [
       "floors_total    9.0\n",
       "dtype: float64"
      ]
     },
     "execution_count": 27,
     "metadata": {},
     "output_type": "execute_result"
    }
   ],
   "source": [
    "#Найдем медиану высотности для Санкт-Петербурга\n",
    "data.loc[data['locality_name'] == 'Санкт-Петербург', ['floors_total']].median()"
   ]
  },
  {
   "cell_type": "code",
   "execution_count": 28,
   "metadata": {},
   "outputs": [],
   "source": [
    "#Заменим аномальное значение на медиану\n",
    "data.loc[2253,'floors_total'] = 5"
   ]
  },
  {
   "cell_type": "code",
   "execution_count": 29,
   "metadata": {},
   "outputs": [],
   "source": [
    "#Медианная этажность для Санкт-Петербурга меньше этажа квартиры, поэтому сделаем высоту здания равной этажу квартиры\n",
    "data.loc[16731,'floors_total'] = 18"
   ]
  },
  {
   "cell_type": "code",
   "execution_count": 30,
   "metadata": {
    "scrolled": false
   },
   "outputs": [
    {
     "data": {
      "text/plain": [
       "5.0     5789\n",
       "9.0     3810\n",
       "16.0    1376\n",
       "12.0    1368\n",
       "4.0     1200\n",
       "10.0    1177\n",
       "25.0    1075\n",
       "6.0      914\n",
       "17.0     834\n",
       "3.0      668\n",
       "7.0      592\n",
       "14.0     555\n",
       "18.0     509\n",
       "24.0     471\n",
       "8.0      390\n",
       "2.0      383\n",
       "15.0     368\n",
       "23.0     353\n",
       "19.0     342\n",
       "22.0     287\n",
       "20.0     273\n",
       "13.0     232\n",
       "11.0     206\n",
       "27.0     164\n",
       "21.0     162\n",
       "26.0     124\n",
       "1.0       25\n",
       "35.0      24\n",
       "28.0      21\n",
       "36.0       3\n",
       "29.0       1\n",
       "33.0       1\n",
       "37.0       1\n",
       "34.0       1\n",
       "Name: floors_total, dtype: int64"
      ]
     },
     "execution_count": 30,
     "metadata": {},
     "output_type": "execute_result"
    }
   ],
   "source": [
    "data['floors_total'].sort_values().value_counts()"
   ]
  },
  {
   "cell_type": "markdown",
   "metadata": {},
   "source": [
    "<a id='Step_2_5'></a>\n",
    "#### 2.5 Устранение пропусков в столбце 'living_area'"
   ]
  },
  {
   "cell_type": "code",
   "execution_count": 31,
   "metadata": {},
   "outputs": [
    {
     "data": {
      "text/plain": [
       "1903"
      ]
     },
     "execution_count": 31,
     "metadata": {},
     "output_type": "execute_result"
    }
   ],
   "source": [
    "#Посчитаем количество пропусков в столбце 'living_area'\n",
    "data['living_area'].isna().sum()"
   ]
  },
  {
   "cell_type": "code",
   "execution_count": 32,
   "metadata": {},
   "outputs": [
    {
     "data": {
      "text/plain": [
       "count    21796.000000\n",
       "mean        34.457852\n",
       "std         22.030445\n",
       "min          2.000000\n",
       "25%         18.600000\n",
       "50%         30.000000\n",
       "75%         42.300000\n",
       "max        409.700000\n",
       "Name: living_area, dtype: float64"
      ]
     },
     "execution_count": 32,
     "metadata": {},
     "output_type": "execute_result"
    }
   ],
   "source": [
    "data['living_area'].describe()"
   ]
  },
  {
   "cell_type": "code",
   "execution_count": 33,
   "metadata": {},
   "outputs": [],
   "source": [
    "#Найдем коэффициент отношения жилой площади к общей площади, характерный для квартир с определенным количеством комнат\n",
    "coeff_liv = (data['living_area']/ data['total_area']).groupby(data['rooms']).mean()"
   ]
  },
  {
   "cell_type": "code",
   "execution_count": 34,
   "metadata": {},
   "outputs": [],
   "source": [
    "data.loc[data['living_area'].isnull(), 'living_area'] = (\n",
    "    data.loc[data['living_area'].isnull()]\n",
    "    .apply(lambda y: y['total_area'] * coeff_liv[y['rooms']], axis = 1)\n",
    ")"
   ]
  },
  {
   "cell_type": "code",
   "execution_count": 35,
   "metadata": {
    "scrolled": true
   },
   "outputs": [
    {
     "data": {
      "text/plain": [
       "0"
      ]
     },
     "execution_count": 35,
     "metadata": {},
     "output_type": "execute_result"
    }
   ],
   "source": [
    "#Проверим результат замены пропусков\n",
    "data['living_area'].isna().sum()"
   ]
  },
  {
   "cell_type": "markdown",
   "metadata": {},
   "source": [
    "<a id='Step_2_6'></a>\n",
    "#### 2.6 Устранение пропусков в столбце 'kitchen_area'"
   ]
  },
  {
   "cell_type": "code",
   "execution_count": 36,
   "metadata": {},
   "outputs": [
    {
     "data": {
      "text/plain": [
       "2278"
      ]
     },
     "execution_count": 36,
     "metadata": {},
     "output_type": "execute_result"
    }
   ],
   "source": [
    "data['kitchen_area'].isnull().sum()"
   ]
  },
  {
   "cell_type": "code",
   "execution_count": 37,
   "metadata": {},
   "outputs": [],
   "source": [
    "coeff_kitchen = (data['kitchen_area']/ data['total_area']).groupby(data['rooms']).mean()"
   ]
  },
  {
   "cell_type": "code",
   "execution_count": 38,
   "metadata": {},
   "outputs": [],
   "source": [
    "data.loc[data['kitchen_area'].isnull(), 'kitchen_area'] = (\n",
    "    data.loc[data['kitchen_area'].isnull()]\n",
    "    .apply(lambda y: y['total_area'] * coeff_kitchen[y['rooms']], axis = 1)\n",
    ")"
   ]
  },
  {
   "cell_type": "code",
   "execution_count": 39,
   "metadata": {},
   "outputs": [
    {
     "data": {
      "text/plain": [
       "197"
      ]
     },
     "execution_count": 39,
     "metadata": {},
     "output_type": "execute_result"
    }
   ],
   "source": [
    "data['kitchen_area'].isnull().sum()"
   ]
  },
  {
   "cell_type": "code",
   "execution_count": 40,
   "metadata": {},
   "outputs": [],
   "source": [
    "data.loc[data['kitchen_area'].isnull()] = data.loc[data['kitchen_area'].isnull()].fillna(0)"
   ]
  },
  {
   "cell_type": "code",
   "execution_count": 41,
   "metadata": {},
   "outputs": [
    {
     "data": {
      "text/plain": [
       "0"
      ]
     },
     "execution_count": 41,
     "metadata": {},
     "output_type": "execute_result"
    }
   ],
   "source": [
    "data['kitchen_area'].isnull().sum()"
   ]
  },
  {
   "cell_type": "markdown",
   "metadata": {},
   "source": [
    "<a id='Step_2_7'></a>\n",
    "#### 2.7 Устранение пропусков в столбце 'ceiling_height'"
   ]
  },
  {
   "cell_type": "code",
   "execution_count": 42,
   "metadata": {},
   "outputs": [
    {
     "data": {
      "text/plain": [
       "9080"
      ]
     },
     "execution_count": 42,
     "metadata": {},
     "output_type": "execute_result"
    }
   ],
   "source": [
    "data['ceiling_height'].isna().sum()"
   ]
  },
  {
   "cell_type": "markdown",
   "metadata": {},
   "source": [
    "Заменим пропуски медианными значениями. Предположим, что высота потолков зависит от типа дома. Также предположим, что базовым критерием для определения типа дома является количество этажей."
   ]
  },
  {
   "cell_type": "code",
   "execution_count": 43,
   "metadata": {},
   "outputs": [],
   "source": [
    "#Функция заменяет пропуск в столбце ceiling_height на медианное значение, характерное для определенного типа здания \n",
    "def replace_ceiling_height(building_type):\n",
    "    median = (\n",
    "        data.loc[building_type, 'ceiling_height']\n",
    "        .median()\n",
    "    )\n",
    "    \n",
    "    data.loc[building_type, 'ceiling_height'] = (\n",
    "        data.loc[building_type, 'ceiling_height']\n",
    "        .fillna(median)\n",
    "    )   "
   ]
  },
  {
   "cell_type": "code",
   "execution_count": 44,
   "metadata": {},
   "outputs": [
    {
     "data": {
      "text/plain": [
       "5.0     5789\n",
       "9.0     3810\n",
       "16.0    1376\n",
       "12.0    1368\n",
       "4.0     1200\n",
       "10.0    1177\n",
       "25.0    1075\n",
       "6.0      914\n",
       "17.0     834\n",
       "3.0      668\n",
       "7.0      592\n",
       "14.0     555\n",
       "18.0     509\n",
       "24.0     471\n",
       "8.0      390\n",
       "2.0      383\n",
       "15.0     368\n",
       "23.0     353\n",
       "19.0     342\n",
       "22.0     287\n",
       "20.0     273\n",
       "13.0     232\n",
       "11.0     206\n",
       "27.0     164\n",
       "21.0     162\n",
       "26.0     124\n",
       "1.0       25\n",
       "35.0      24\n",
       "28.0      21\n",
       "36.0       3\n",
       "29.0       1\n",
       "33.0       1\n",
       "37.0       1\n",
       "34.0       1\n",
       "Name: floors_total, dtype: int64"
      ]
     },
     "execution_count": 44,
     "metadata": {},
     "output_type": "execute_result"
    }
   ],
   "source": [
    "#Определим количество зданий определенной этажности\n",
    "data['floors_total'].value_counts()"
   ]
  },
  {
   "cell_type": "code",
   "execution_count": 45,
   "metadata": {},
   "outputs": [],
   "source": [
    "#Создадим список условий для функции\n",
    "building_types = [\n",
    "    (data['floors_total'] < 5),\n",
    "    (data['floors_total'] == 5),\n",
    "    (data['floors_total'] > 5) & (data['floors_total'] < 9),\n",
    "    (data['floors_total'] == 9),\n",
    "    (data['floors_total'] > 9) & (data['floors_total'] <= 18),\n",
    "    (data['floors_total'] > 18) & (data['floors_total'] <= 25),\n",
    "    (data['floors_total'] > 25)\n",
    "]"
   ]
  },
  {
   "cell_type": "code",
   "execution_count": 46,
   "metadata": {},
   "outputs": [],
   "source": [
    "#Передадим в функцию значения перемнной building_types\n",
    "for building_type in building_types:\n",
    "    replace_ceiling_height(building_type)"
   ]
  },
  {
   "cell_type": "code",
   "execution_count": 47,
   "metadata": {},
   "outputs": [
    {
     "data": {
      "text/plain": [
       "0"
      ]
     },
     "execution_count": 47,
     "metadata": {},
     "output_type": "execute_result"
    }
   ],
   "source": [
    "#Проверим результат\n",
    "data['ceiling_height'].isna().sum()"
   ]
  },
  {
   "cell_type": "markdown",
   "metadata": {},
   "source": [
    "Проверим наличие выбросов в столбце 'ceiling_height'"
   ]
  },
  {
   "cell_type": "code",
   "execution_count": 48,
   "metadata": {},
   "outputs": [
    {
     "data": {
      "text/html": [
       "<div>\n",
       "<style scoped>\n",
       "    .dataframe tbody tr th:only-of-type {\n",
       "        vertical-align: middle;\n",
       "    }\n",
       "\n",
       "    .dataframe tbody tr th {\n",
       "        vertical-align: top;\n",
       "    }\n",
       "\n",
       "    .dataframe thead th {\n",
       "        text-align: right;\n",
       "    }\n",
       "</style>\n",
       "<table border=\"1\" class=\"dataframe\">\n",
       "  <thead>\n",
       "    <tr style=\"text-align: right;\">\n",
       "      <th></th>\n",
       "      <th>total_images</th>\n",
       "      <th>last_price</th>\n",
       "      <th>total_area</th>\n",
       "      <th>exposition_start</th>\n",
       "      <th>rooms</th>\n",
       "      <th>ceiling_height</th>\n",
       "      <th>floors_total</th>\n",
       "      <th>living_area</th>\n",
       "      <th>floor</th>\n",
       "      <th>is_apartment</th>\n",
       "      <th>...</th>\n",
       "      <th>kitchen_area</th>\n",
       "      <th>balcony</th>\n",
       "      <th>locality_name</th>\n",
       "      <th>distance_to_airport</th>\n",
       "      <th>distance_to_center</th>\n",
       "      <th>parks_around</th>\n",
       "      <th>distance_to_park</th>\n",
       "      <th>ponds_around</th>\n",
       "      <th>distance_to_pond</th>\n",
       "      <th>days_in_exposition</th>\n",
       "    </tr>\n",
       "  </thead>\n",
       "  <tbody>\n",
       "    <tr>\n",
       "      <td>144</td>\n",
       "      <td>1</td>\n",
       "      <td>2450000.0</td>\n",
       "      <td>27.00</td>\n",
       "      <td>2017-03-30</td>\n",
       "      <td>0</td>\n",
       "      <td>0.00</td>\n",
       "      <td>24.0</td>\n",
       "      <td>15.500000</td>\n",
       "      <td>2</td>\n",
       "      <td>0</td>\n",
       "      <td>...</td>\n",
       "      <td>0.00000</td>\n",
       "      <td>2</td>\n",
       "      <td>поселок Мурино</td>\n",
       "      <td>0.0</td>\n",
       "      <td>0.0</td>\n",
       "      <td>0.0</td>\n",
       "      <td>0.0</td>\n",
       "      <td>0.0</td>\n",
       "      <td>0.0</td>\n",
       "      <td>181.0</td>\n",
       "    </tr>\n",
       "    <tr>\n",
       "      <td>227</td>\n",
       "      <td>13</td>\n",
       "      <td>2200000.0</td>\n",
       "      <td>47.00</td>\n",
       "      <td>2018-01-12</td>\n",
       "      <td>3</td>\n",
       "      <td>2.34</td>\n",
       "      <td>5.0</td>\n",
       "      <td>29.389174</td>\n",
       "      <td>1</td>\n",
       "      <td>0</td>\n",
       "      <td>...</td>\n",
       "      <td>6.62361</td>\n",
       "      <td>0</td>\n",
       "      <td>поселок Новый Свет</td>\n",
       "      <td>NaN</td>\n",
       "      <td>NaN</td>\n",
       "      <td>NaN</td>\n",
       "      <td>NaN</td>\n",
       "      <td>NaN</td>\n",
       "      <td>NaN</td>\n",
       "      <td>45.0</td>\n",
       "    </tr>\n",
       "    <tr>\n",
       "      <td>349</td>\n",
       "      <td>4</td>\n",
       "      <td>2320000.0</td>\n",
       "      <td>25.00</td>\n",
       "      <td>2017-09-27</td>\n",
       "      <td>0</td>\n",
       "      <td>0.00</td>\n",
       "      <td>14.0</td>\n",
       "      <td>17.000000</td>\n",
       "      <td>1</td>\n",
       "      <td>0</td>\n",
       "      <td>...</td>\n",
       "      <td>0.00000</td>\n",
       "      <td>0</td>\n",
       "      <td>деревня Кудрово</td>\n",
       "      <td>0.0</td>\n",
       "      <td>0.0</td>\n",
       "      <td>0.0</td>\n",
       "      <td>0.0</td>\n",
       "      <td>0.0</td>\n",
       "      <td>0.0</td>\n",
       "      <td>45.0</td>\n",
       "    </tr>\n",
       "    <tr>\n",
       "      <td>440</td>\n",
       "      <td>8</td>\n",
       "      <td>2480000.0</td>\n",
       "      <td>27.11</td>\n",
       "      <td>2018-03-12</td>\n",
       "      <td>0</td>\n",
       "      <td>0.00</td>\n",
       "      <td>17.0</td>\n",
       "      <td>24.750000</td>\n",
       "      <td>4</td>\n",
       "      <td>0</td>\n",
       "      <td>...</td>\n",
       "      <td>0.00000</td>\n",
       "      <td>2</td>\n",
       "      <td>Санкт-Петербург</td>\n",
       "      <td>38171.0</td>\n",
       "      <td>15015.0</td>\n",
       "      <td>0.0</td>\n",
       "      <td>0.0</td>\n",
       "      <td>2.0</td>\n",
       "      <td>982.0</td>\n",
       "      <td>64.0</td>\n",
       "    </tr>\n",
       "    <tr>\n",
       "      <td>508</td>\n",
       "      <td>0</td>\n",
       "      <td>3375000.0</td>\n",
       "      <td>34.40</td>\n",
       "      <td>2017-03-28</td>\n",
       "      <td>0</td>\n",
       "      <td>0.00</td>\n",
       "      <td>26.0</td>\n",
       "      <td>24.300000</td>\n",
       "      <td>19</td>\n",
       "      <td>0</td>\n",
       "      <td>...</td>\n",
       "      <td>0.00000</td>\n",
       "      <td>1</td>\n",
       "      <td>поселок Парголово</td>\n",
       "      <td>53115.0</td>\n",
       "      <td>19292.0</td>\n",
       "      <td>0.0</td>\n",
       "      <td>0.0</td>\n",
       "      <td>1.0</td>\n",
       "      <td>593.0</td>\n",
       "      <td>430.0</td>\n",
       "    </tr>\n",
       "    <tr>\n",
       "      <td>...</td>\n",
       "      <td>...</td>\n",
       "      <td>...</td>\n",
       "      <td>...</td>\n",
       "      <td>...</td>\n",
       "      <td>...</td>\n",
       "      <td>...</td>\n",
       "      <td>...</td>\n",
       "      <td>...</td>\n",
       "      <td>...</td>\n",
       "      <td>...</td>\n",
       "      <td>...</td>\n",
       "      <td>...</td>\n",
       "      <td>...</td>\n",
       "      <td>...</td>\n",
       "      <td>...</td>\n",
       "      <td>...</td>\n",
       "      <td>...</td>\n",
       "      <td>...</td>\n",
       "      <td>...</td>\n",
       "      <td>...</td>\n",
       "      <td>...</td>\n",
       "    </tr>\n",
       "    <tr>\n",
       "      <td>23442</td>\n",
       "      <td>0</td>\n",
       "      <td>2500000.0</td>\n",
       "      <td>27.70</td>\n",
       "      <td>2017-09-28</td>\n",
       "      <td>0</td>\n",
       "      <td>0.00</td>\n",
       "      <td>24.0</td>\n",
       "      <td>18.000000</td>\n",
       "      <td>4</td>\n",
       "      <td>0</td>\n",
       "      <td>...</td>\n",
       "      <td>0.00000</td>\n",
       "      <td>2</td>\n",
       "      <td>поселок Мурино</td>\n",
       "      <td>0.0</td>\n",
       "      <td>0.0</td>\n",
       "      <td>0.0</td>\n",
       "      <td>0.0</td>\n",
       "      <td>0.0</td>\n",
       "      <td>0.0</td>\n",
       "      <td>4.0</td>\n",
       "    </tr>\n",
       "    <tr>\n",
       "      <td>23498</td>\n",
       "      <td>7</td>\n",
       "      <td>1600000.0</td>\n",
       "      <td>54.00</td>\n",
       "      <td>2016-12-26</td>\n",
       "      <td>2</td>\n",
       "      <td>2.30</td>\n",
       "      <td>1.0</td>\n",
       "      <td>33.000000</td>\n",
       "      <td>1</td>\n",
       "      <td>0</td>\n",
       "      <td>...</td>\n",
       "      <td>3.50000</td>\n",
       "      <td>0</td>\n",
       "      <td>Высоцк</td>\n",
       "      <td>NaN</td>\n",
       "      <td>NaN</td>\n",
       "      <td>NaN</td>\n",
       "      <td>NaN</td>\n",
       "      <td>NaN</td>\n",
       "      <td>NaN</td>\n",
       "      <td>281.0</td>\n",
       "    </tr>\n",
       "    <tr>\n",
       "      <td>23554</td>\n",
       "      <td>15</td>\n",
       "      <td>3350000.0</td>\n",
       "      <td>26.00</td>\n",
       "      <td>2018-09-07</td>\n",
       "      <td>0</td>\n",
       "      <td>0.00</td>\n",
       "      <td>19.0</td>\n",
       "      <td>17.822142</td>\n",
       "      <td>8</td>\n",
       "      <td>0</td>\n",
       "      <td>...</td>\n",
       "      <td>0.00000</td>\n",
       "      <td>0</td>\n",
       "      <td>Санкт-Петербург</td>\n",
       "      <td>18090.0</td>\n",
       "      <td>17092.0</td>\n",
       "      <td>0.0</td>\n",
       "      <td>0.0</td>\n",
       "      <td>2.0</td>\n",
       "      <td>112.0</td>\n",
       "      <td>31.0</td>\n",
       "    </tr>\n",
       "    <tr>\n",
       "      <td>23592</td>\n",
       "      <td>10</td>\n",
       "      <td>1450000.0</td>\n",
       "      <td>29.00</td>\n",
       "      <td>2017-11-11</td>\n",
       "      <td>0</td>\n",
       "      <td>0.00</td>\n",
       "      <td>9.0</td>\n",
       "      <td>18.000000</td>\n",
       "      <td>8</td>\n",
       "      <td>0</td>\n",
       "      <td>...</td>\n",
       "      <td>0.00000</td>\n",
       "      <td>2</td>\n",
       "      <td>Никольское</td>\n",
       "      <td>0.0</td>\n",
       "      <td>0.0</td>\n",
       "      <td>0.0</td>\n",
       "      <td>0.0</td>\n",
       "      <td>0.0</td>\n",
       "      <td>0.0</td>\n",
       "      <td>82.0</td>\n",
       "    </tr>\n",
       "    <tr>\n",
       "      <td>23637</td>\n",
       "      <td>8</td>\n",
       "      <td>2350000.0</td>\n",
       "      <td>26.00</td>\n",
       "      <td>2018-06-26</td>\n",
       "      <td>0</td>\n",
       "      <td>0.00</td>\n",
       "      <td>25.0</td>\n",
       "      <td>17.000000</td>\n",
       "      <td>4</td>\n",
       "      <td>0</td>\n",
       "      <td>...</td>\n",
       "      <td>0.00000</td>\n",
       "      <td>2</td>\n",
       "      <td>поселок Бугры</td>\n",
       "      <td>0.0</td>\n",
       "      <td>0.0</td>\n",
       "      <td>0.0</td>\n",
       "      <td>0.0</td>\n",
       "      <td>0.0</td>\n",
       "      <td>0.0</td>\n",
       "      <td>207.0</td>\n",
       "    </tr>\n",
       "  </tbody>\n",
       "</table>\n",
       "<p>136 rows × 22 columns</p>\n",
       "</div>"
      ],
      "text/plain": [
       "       total_images  last_price  total_area exposition_start  rooms  \\\n",
       "144               1   2450000.0       27.00       2017-03-30      0   \n",
       "227              13   2200000.0       47.00       2018-01-12      3   \n",
       "349               4   2320000.0       25.00       2017-09-27      0   \n",
       "440               8   2480000.0       27.11       2018-03-12      0   \n",
       "508               0   3375000.0       34.40       2017-03-28      0   \n",
       "...             ...         ...         ...              ...    ...   \n",
       "23442             0   2500000.0       27.70       2017-09-28      0   \n",
       "23498             7   1600000.0       54.00       2016-12-26      2   \n",
       "23554            15   3350000.0       26.00       2018-09-07      0   \n",
       "23592            10   1450000.0       29.00       2017-11-11      0   \n",
       "23637             8   2350000.0       26.00       2018-06-26      0   \n",
       "\n",
       "       ceiling_height  floors_total  living_area  floor  is_apartment  ...  \\\n",
       "144              0.00          24.0    15.500000      2             0  ...   \n",
       "227              2.34           5.0    29.389174      1             0  ...   \n",
       "349              0.00          14.0    17.000000      1             0  ...   \n",
       "440              0.00          17.0    24.750000      4             0  ...   \n",
       "508              0.00          26.0    24.300000     19             0  ...   \n",
       "...               ...           ...          ...    ...           ...  ...   \n",
       "23442            0.00          24.0    18.000000      4             0  ...   \n",
       "23498            2.30           1.0    33.000000      1             0  ...   \n",
       "23554            0.00          19.0    17.822142      8             0  ...   \n",
       "23592            0.00           9.0    18.000000      8             0  ...   \n",
       "23637            0.00          25.0    17.000000      4             0  ...   \n",
       "\n",
       "       kitchen_area  balcony       locality_name  distance_to_airport  \\\n",
       "144         0.00000        2      поселок Мурино                  0.0   \n",
       "227         6.62361        0  поселок Новый Свет                  NaN   \n",
       "349         0.00000        0     деревня Кудрово                  0.0   \n",
       "440         0.00000        2     Санкт-Петербург              38171.0   \n",
       "508         0.00000        1   поселок Парголово              53115.0   \n",
       "...             ...      ...                 ...                  ...   \n",
       "23442       0.00000        2      поселок Мурино                  0.0   \n",
       "23498       3.50000        0              Высоцк                  NaN   \n",
       "23554       0.00000        0     Санкт-Петербург              18090.0   \n",
       "23592       0.00000        2          Никольское                  0.0   \n",
       "23637       0.00000        2       поселок Бугры                  0.0   \n",
       "\n",
       "      distance_to_center  parks_around  distance_to_park  ponds_around  \\\n",
       "144                  0.0           0.0               0.0           0.0   \n",
       "227                  NaN           NaN               NaN           NaN   \n",
       "349                  0.0           0.0               0.0           0.0   \n",
       "440              15015.0           0.0               0.0           2.0   \n",
       "508              19292.0           0.0               0.0           1.0   \n",
       "...                  ...           ...               ...           ...   \n",
       "23442                0.0           0.0               0.0           0.0   \n",
       "23498                NaN           NaN               NaN           NaN   \n",
       "23554            17092.0           0.0               0.0           2.0   \n",
       "23592                0.0           0.0               0.0           0.0   \n",
       "23637                0.0           0.0               0.0           0.0   \n",
       "\n",
       "       distance_to_pond  days_in_exposition  \n",
       "144                 0.0               181.0  \n",
       "227                 NaN                45.0  \n",
       "349                 0.0                45.0  \n",
       "440               982.0                64.0  \n",
       "508               593.0               430.0  \n",
       "...                 ...                 ...  \n",
       "23442               0.0                 4.0  \n",
       "23498               NaN               281.0  \n",
       "23554             112.0                31.0  \n",
       "23592               0.0                82.0  \n",
       "23637               0.0               207.0  \n",
       "\n",
       "[136 rows x 22 columns]"
      ]
     },
     "execution_count": 48,
     "metadata": {},
     "output_type": "execute_result"
    }
   ],
   "source": [
    "#Изучим квартиры с очень низкими потолками (2.4 м - высота потолка в хрущевке)\n",
    "data.query('ceiling_height < 2.4')"
   ]
  },
  {
   "cell_type": "code",
   "execution_count": 49,
   "metadata": {},
   "outputs": [
    {
     "data": {
      "text/plain": [
       "0.00    115\n",
       "2.00     11\n",
       "2.30      4\n",
       "1.20      1\n",
       "2.34      1\n",
       "2.20      1\n",
       "1.00      1\n",
       "2.25      1\n",
       "1.75      1\n",
       "Name: ceiling_height, dtype: int64"
      ]
     },
     "execution_count": 49,
     "metadata": {},
     "output_type": "execute_result"
    }
   ],
   "source": [
    "cell_height_low = data.query('ceiling_height < 2.4')\n",
    "cell_height_low['ceiling_height'].value_counts()"
   ]
  },
  {
   "cell_type": "code",
   "execution_count": 50,
   "metadata": {},
   "outputs": [],
   "source": [
    "#Функция заменяет значение в столбце ceiling_height на медианное значение, характерное для определенного типа здания \n",
    "def ceiling_height_replace_low(building_type, cell_height):\n",
    "   \n",
    "    median = data.loc[building_type, 'ceiling_height'].median()\n",
    "   \n",
    "    data.loc[building_type & (data['ceiling_height'] <= cell_height), 'ceiling_height'] = median"
   ]
  },
  {
   "cell_type": "code",
   "execution_count": 51,
   "metadata": {},
   "outputs": [],
   "source": [
    "#Заменим на медиану все значения высоты потолков меньше 2 метров.\n",
    "for building_type in building_types:\n",
    "    ceiling_height_replace_low(building_type, 2) "
   ]
  },
  {
   "cell_type": "code",
   "execution_count": 52,
   "metadata": {},
   "outputs": [
    {
     "data": {
      "text/html": [
       "<div>\n",
       "<style scoped>\n",
       "    .dataframe tbody tr th:only-of-type {\n",
       "        vertical-align: middle;\n",
       "    }\n",
       "\n",
       "    .dataframe tbody tr th {\n",
       "        vertical-align: top;\n",
       "    }\n",
       "\n",
       "    .dataframe thead th {\n",
       "        text-align: right;\n",
       "    }\n",
       "</style>\n",
       "<table border=\"1\" class=\"dataframe\">\n",
       "  <thead>\n",
       "    <tr style=\"text-align: right;\">\n",
       "      <th></th>\n",
       "      <th>total_images</th>\n",
       "      <th>last_price</th>\n",
       "      <th>total_area</th>\n",
       "      <th>exposition_start</th>\n",
       "      <th>rooms</th>\n",
       "      <th>ceiling_height</th>\n",
       "      <th>floors_total</th>\n",
       "      <th>living_area</th>\n",
       "      <th>floor</th>\n",
       "      <th>is_apartment</th>\n",
       "      <th>...</th>\n",
       "      <th>kitchen_area</th>\n",
       "      <th>balcony</th>\n",
       "      <th>locality_name</th>\n",
       "      <th>distance_to_airport</th>\n",
       "      <th>distance_to_center</th>\n",
       "      <th>parks_around</th>\n",
       "      <th>distance_to_park</th>\n",
       "      <th>ponds_around</th>\n",
       "      <th>distance_to_pond</th>\n",
       "      <th>days_in_exposition</th>\n",
       "    </tr>\n",
       "  </thead>\n",
       "  <tbody>\n",
       "  </tbody>\n",
       "</table>\n",
       "<p>0 rows × 22 columns</p>\n",
       "</div>"
      ],
      "text/plain": [
       "Empty DataFrame\n",
       "Columns: [total_images, last_price, total_area, exposition_start, rooms, ceiling_height, floors_total, living_area, floor, is_apartment, is_studio, is_open_plan, kitchen_area, balcony, locality_name, distance_to_airport, distance_to_center, parks_around, distance_to_park, ponds_around, distance_to_pond, days_in_exposition]\n",
       "Index: []\n",
       "\n",
       "[0 rows x 22 columns]"
      ]
     },
     "execution_count": 52,
     "metadata": {},
     "output_type": "execute_result"
    }
   ],
   "source": [
    "#Проверим результат\n",
    "data.query('ceiling_height <= 2')"
   ]
  },
  {
   "cell_type": "code",
   "execution_count": 53,
   "metadata": {},
   "outputs": [
    {
     "data": {
      "text/html": [
       "<div>\n",
       "<style scoped>\n",
       "    .dataframe tbody tr th:only-of-type {\n",
       "        vertical-align: middle;\n",
       "    }\n",
       "\n",
       "    .dataframe tbody tr th {\n",
       "        vertical-align: top;\n",
       "    }\n",
       "\n",
       "    .dataframe thead th {\n",
       "        text-align: right;\n",
       "    }\n",
       "</style>\n",
       "<table border=\"1\" class=\"dataframe\">\n",
       "  <thead>\n",
       "    <tr style=\"text-align: right;\">\n",
       "      <th></th>\n",
       "      <th>total_images</th>\n",
       "      <th>last_price</th>\n",
       "      <th>total_area</th>\n",
       "      <th>exposition_start</th>\n",
       "      <th>rooms</th>\n",
       "      <th>ceiling_height</th>\n",
       "      <th>floors_total</th>\n",
       "      <th>living_area</th>\n",
       "      <th>floor</th>\n",
       "      <th>is_apartment</th>\n",
       "      <th>...</th>\n",
       "      <th>kitchen_area</th>\n",
       "      <th>balcony</th>\n",
       "      <th>locality_name</th>\n",
       "      <th>distance_to_airport</th>\n",
       "      <th>distance_to_center</th>\n",
       "      <th>parks_around</th>\n",
       "      <th>distance_to_park</th>\n",
       "      <th>ponds_around</th>\n",
       "      <th>distance_to_pond</th>\n",
       "      <th>days_in_exposition</th>\n",
       "    </tr>\n",
       "  </thead>\n",
       "  <tbody>\n",
       "    <tr>\n",
       "      <td>355</td>\n",
       "      <td>17</td>\n",
       "      <td>3600000.0</td>\n",
       "      <td>55.2</td>\n",
       "      <td>2018-07-12</td>\n",
       "      <td>2</td>\n",
       "      <td>25.0</td>\n",
       "      <td>5.0</td>\n",
       "      <td>32.0</td>\n",
       "      <td>2</td>\n",
       "      <td>0</td>\n",
       "      <td>...</td>\n",
       "      <td>9.613821</td>\n",
       "      <td>2</td>\n",
       "      <td>Гатчина</td>\n",
       "      <td>NaN</td>\n",
       "      <td>NaN</td>\n",
       "      <td>NaN</td>\n",
       "      <td>NaN</td>\n",
       "      <td>NaN</td>\n",
       "      <td>NaN</td>\n",
       "      <td>259.0</td>\n",
       "    </tr>\n",
       "    <tr>\n",
       "      <td>3148</td>\n",
       "      <td>14</td>\n",
       "      <td>2900000.0</td>\n",
       "      <td>75.0</td>\n",
       "      <td>2018-11-12</td>\n",
       "      <td>3</td>\n",
       "      <td>32.0</td>\n",
       "      <td>3.0</td>\n",
       "      <td>53.0</td>\n",
       "      <td>2</td>\n",
       "      <td>0</td>\n",
       "      <td>...</td>\n",
       "      <td>8.000000</td>\n",
       "      <td>0</td>\n",
       "      <td>Волхов</td>\n",
       "      <td>NaN</td>\n",
       "      <td>NaN</td>\n",
       "      <td>NaN</td>\n",
       "      <td>NaN</td>\n",
       "      <td>NaN</td>\n",
       "      <td>NaN</td>\n",
       "      <td>NaN</td>\n",
       "    </tr>\n",
       "    <tr>\n",
       "      <td>3474</td>\n",
       "      <td>3</td>\n",
       "      <td>1400000.0</td>\n",
       "      <td>30.0</td>\n",
       "      <td>2018-03-16</td>\n",
       "      <td>1</td>\n",
       "      <td>8.0</td>\n",
       "      <td>5.0</td>\n",
       "      <td>15.3</td>\n",
       "      <td>2</td>\n",
       "      <td>0</td>\n",
       "      <td>...</td>\n",
       "      <td>7.300000</td>\n",
       "      <td>0</td>\n",
       "      <td>деревня Нурма</td>\n",
       "      <td>NaN</td>\n",
       "      <td>NaN</td>\n",
       "      <td>NaN</td>\n",
       "      <td>NaN</td>\n",
       "      <td>NaN</td>\n",
       "      <td>NaN</td>\n",
       "      <td>125.0</td>\n",
       "    </tr>\n",
       "    <tr>\n",
       "      <td>4643</td>\n",
       "      <td>0</td>\n",
       "      <td>4300000.0</td>\n",
       "      <td>45.0</td>\n",
       "      <td>2018-02-01</td>\n",
       "      <td>2</td>\n",
       "      <td>25.0</td>\n",
       "      <td>9.0</td>\n",
       "      <td>30.0</td>\n",
       "      <td>2</td>\n",
       "      <td>0</td>\n",
       "      <td>...</td>\n",
       "      <td>7.000000</td>\n",
       "      <td>1</td>\n",
       "      <td>Санкт-Петербург</td>\n",
       "      <td>12016.0</td>\n",
       "      <td>13256.0</td>\n",
       "      <td>1.0</td>\n",
       "      <td>658.0</td>\n",
       "      <td>1.0</td>\n",
       "      <td>331.0</td>\n",
       "      <td>181.0</td>\n",
       "    </tr>\n",
       "    <tr>\n",
       "      <td>4876</td>\n",
       "      <td>7</td>\n",
       "      <td>3000000.0</td>\n",
       "      <td>25.0</td>\n",
       "      <td>2017-09-27</td>\n",
       "      <td>0</td>\n",
       "      <td>27.0</td>\n",
       "      <td>25.0</td>\n",
       "      <td>17.0</td>\n",
       "      <td>17</td>\n",
       "      <td>0</td>\n",
       "      <td>...</td>\n",
       "      <td>0.000000</td>\n",
       "      <td>2</td>\n",
       "      <td>поселок Мурино</td>\n",
       "      <td>0.0</td>\n",
       "      <td>0.0</td>\n",
       "      <td>0.0</td>\n",
       "      <td>0.0</td>\n",
       "      <td>0.0</td>\n",
       "      <td>0.0</td>\n",
       "      <td>28.0</td>\n",
       "    </tr>\n",
       "    <tr>\n",
       "      <td>5076</td>\n",
       "      <td>0</td>\n",
       "      <td>3850000.0</td>\n",
       "      <td>30.5</td>\n",
       "      <td>2018-10-03</td>\n",
       "      <td>1</td>\n",
       "      <td>24.0</td>\n",
       "      <td>5.0</td>\n",
       "      <td>19.5</td>\n",
       "      <td>1</td>\n",
       "      <td>1</td>\n",
       "      <td>...</td>\n",
       "      <td>5.500000</td>\n",
       "      <td>0</td>\n",
       "      <td>Санкт-Петербург</td>\n",
       "      <td>29686.0</td>\n",
       "      <td>8389.0</td>\n",
       "      <td>3.0</td>\n",
       "      <td>397.0</td>\n",
       "      <td>1.0</td>\n",
       "      <td>578.0</td>\n",
       "      <td>7.0</td>\n",
       "    </tr>\n",
       "    <tr>\n",
       "      <td>5246</td>\n",
       "      <td>0</td>\n",
       "      <td>2500000.0</td>\n",
       "      <td>54.0</td>\n",
       "      <td>2017-10-13</td>\n",
       "      <td>2</td>\n",
       "      <td>27.0</td>\n",
       "      <td>5.0</td>\n",
       "      <td>30.0</td>\n",
       "      <td>3</td>\n",
       "      <td>0</td>\n",
       "      <td>...</td>\n",
       "      <td>9.000000</td>\n",
       "      <td>2</td>\n",
       "      <td>деревня Мины</td>\n",
       "      <td>NaN</td>\n",
       "      <td>NaN</td>\n",
       "      <td>NaN</td>\n",
       "      <td>NaN</td>\n",
       "      <td>NaN</td>\n",
       "      <td>NaN</td>\n",
       "      <td>540.0</td>\n",
       "    </tr>\n",
       "    <tr>\n",
       "      <td>5669</td>\n",
       "      <td>4</td>\n",
       "      <td>4400000.0</td>\n",
       "      <td>50.0</td>\n",
       "      <td>2017-08-08</td>\n",
       "      <td>2</td>\n",
       "      <td>26.0</td>\n",
       "      <td>9.0</td>\n",
       "      <td>21.3</td>\n",
       "      <td>3</td>\n",
       "      <td>0</td>\n",
       "      <td>...</td>\n",
       "      <td>7.000000</td>\n",
       "      <td>2</td>\n",
       "      <td>Санкт-Петербург</td>\n",
       "      <td>28981.0</td>\n",
       "      <td>10912.0</td>\n",
       "      <td>1.0</td>\n",
       "      <td>305.0</td>\n",
       "      <td>0.0</td>\n",
       "      <td>NaN</td>\n",
       "      <td>267.0</td>\n",
       "    </tr>\n",
       "    <tr>\n",
       "      <td>5807</td>\n",
       "      <td>17</td>\n",
       "      <td>8150000.0</td>\n",
       "      <td>80.0</td>\n",
       "      <td>2019-01-09</td>\n",
       "      <td>2</td>\n",
       "      <td>27.0</td>\n",
       "      <td>36.0</td>\n",
       "      <td>41.0</td>\n",
       "      <td>13</td>\n",
       "      <td>0</td>\n",
       "      <td>...</td>\n",
       "      <td>12.000000</td>\n",
       "      <td>5</td>\n",
       "      <td>Санкт-Петербург</td>\n",
       "      <td>18732.0</td>\n",
       "      <td>20444.0</td>\n",
       "      <td>0.0</td>\n",
       "      <td>NaN</td>\n",
       "      <td>3.0</td>\n",
       "      <td>80.0</td>\n",
       "      <td>38.0</td>\n",
       "    </tr>\n",
       "    <tr>\n",
       "      <td>5863</td>\n",
       "      <td>20</td>\n",
       "      <td>5650000.0</td>\n",
       "      <td>45.0</td>\n",
       "      <td>2018-08-15</td>\n",
       "      <td>1</td>\n",
       "      <td>8.3</td>\n",
       "      <td>16.0</td>\n",
       "      <td>19.3</td>\n",
       "      <td>14</td>\n",
       "      <td>0</td>\n",
       "      <td>...</td>\n",
       "      <td>8.300000</td>\n",
       "      <td>1</td>\n",
       "      <td>Санкт-Петербург</td>\n",
       "      <td>13069.0</td>\n",
       "      <td>10763.0</td>\n",
       "      <td>0.0</td>\n",
       "      <td>NaN</td>\n",
       "      <td>1.0</td>\n",
       "      <td>613.0</td>\n",
       "      <td>14.0</td>\n",
       "    </tr>\n",
       "    <tr>\n",
       "      <td>6246</td>\n",
       "      <td>6</td>\n",
       "      <td>3300000.0</td>\n",
       "      <td>44.4</td>\n",
       "      <td>2019-03-25</td>\n",
       "      <td>2</td>\n",
       "      <td>25.0</td>\n",
       "      <td>5.0</td>\n",
       "      <td>31.3</td>\n",
       "      <td>5</td>\n",
       "      <td>0</td>\n",
       "      <td>...</td>\n",
       "      <td>5.700000</td>\n",
       "      <td>0</td>\n",
       "      <td>Кронштадт</td>\n",
       "      <td>68923.0</td>\n",
       "      <td>50649.0</td>\n",
       "      <td>1.0</td>\n",
       "      <td>417.0</td>\n",
       "      <td>2.0</td>\n",
       "      <td>73.0</td>\n",
       "      <td>NaN</td>\n",
       "    </tr>\n",
       "    <tr>\n",
       "      <td>9379</td>\n",
       "      <td>5</td>\n",
       "      <td>3950000.0</td>\n",
       "      <td>42.0</td>\n",
       "      <td>2017-03-26</td>\n",
       "      <td>3</td>\n",
       "      <td>25.0</td>\n",
       "      <td>5.0</td>\n",
       "      <td>30.0</td>\n",
       "      <td>2</td>\n",
       "      <td>0</td>\n",
       "      <td>...</td>\n",
       "      <td>5.200000</td>\n",
       "      <td>0</td>\n",
       "      <td>Санкт-Петербург</td>\n",
       "      <td>11647.0</td>\n",
       "      <td>13581.0</td>\n",
       "      <td>0.0</td>\n",
       "      <td>NaN</td>\n",
       "      <td>0.0</td>\n",
       "      <td>NaN</td>\n",
       "      <td>NaN</td>\n",
       "    </tr>\n",
       "    <tr>\n",
       "      <td>10773</td>\n",
       "      <td>8</td>\n",
       "      <td>3800000.0</td>\n",
       "      <td>58.0</td>\n",
       "      <td>2017-10-13</td>\n",
       "      <td>2</td>\n",
       "      <td>27.0</td>\n",
       "      <td>10.0</td>\n",
       "      <td>30.1</td>\n",
       "      <td>3</td>\n",
       "      <td>0</td>\n",
       "      <td>...</td>\n",
       "      <td>8.100000</td>\n",
       "      <td>2</td>\n",
       "      <td>поселок Мурино</td>\n",
       "      <td>NaN</td>\n",
       "      <td>NaN</td>\n",
       "      <td>NaN</td>\n",
       "      <td>NaN</td>\n",
       "      <td>NaN</td>\n",
       "      <td>NaN</td>\n",
       "      <td>71.0</td>\n",
       "    </tr>\n",
       "    <tr>\n",
       "      <td>11285</td>\n",
       "      <td>0</td>\n",
       "      <td>1950000.0</td>\n",
       "      <td>37.0</td>\n",
       "      <td>2019-03-20</td>\n",
       "      <td>1</td>\n",
       "      <td>25.0</td>\n",
       "      <td>5.0</td>\n",
       "      <td>17.0</td>\n",
       "      <td>4</td>\n",
       "      <td>0</td>\n",
       "      <td>...</td>\n",
       "      <td>9.000000</td>\n",
       "      <td>2</td>\n",
       "      <td>Луга</td>\n",
       "      <td>NaN</td>\n",
       "      <td>NaN</td>\n",
       "      <td>NaN</td>\n",
       "      <td>NaN</td>\n",
       "      <td>NaN</td>\n",
       "      <td>NaN</td>\n",
       "      <td>18.0</td>\n",
       "    </tr>\n",
       "    <tr>\n",
       "      <td>14382</td>\n",
       "      <td>9</td>\n",
       "      <td>1700000.0</td>\n",
       "      <td>35.0</td>\n",
       "      <td>2015-12-04</td>\n",
       "      <td>1</td>\n",
       "      <td>25.0</td>\n",
       "      <td>5.0</td>\n",
       "      <td>20.0</td>\n",
       "      <td>2</td>\n",
       "      <td>0</td>\n",
       "      <td>...</td>\n",
       "      <td>8.000000</td>\n",
       "      <td>1</td>\n",
       "      <td>поселок Новый Свет</td>\n",
       "      <td>NaN</td>\n",
       "      <td>NaN</td>\n",
       "      <td>NaN</td>\n",
       "      <td>NaN</td>\n",
       "      <td>NaN</td>\n",
       "      <td>NaN</td>\n",
       "      <td>206.0</td>\n",
       "    </tr>\n",
       "    <tr>\n",
       "      <td>15061</td>\n",
       "      <td>19</td>\n",
       "      <td>5600000.0</td>\n",
       "      <td>56.4</td>\n",
       "      <td>2018-05-11</td>\n",
       "      <td>2</td>\n",
       "      <td>14.0</td>\n",
       "      <td>14.0</td>\n",
       "      <td>32.4</td>\n",
       "      <td>5</td>\n",
       "      <td>0</td>\n",
       "      <td>...</td>\n",
       "      <td>9.100000</td>\n",
       "      <td>2</td>\n",
       "      <td>Санкт-Петербург</td>\n",
       "      <td>14814.0</td>\n",
       "      <td>13610.0</td>\n",
       "      <td>0.0</td>\n",
       "      <td>NaN</td>\n",
       "      <td>0.0</td>\n",
       "      <td>NaN</td>\n",
       "      <td>315.0</td>\n",
       "    </tr>\n",
       "    <tr>\n",
       "      <td>15743</td>\n",
       "      <td>14</td>\n",
       "      <td>5600000.0</td>\n",
       "      <td>67.0</td>\n",
       "      <td>2016-11-11</td>\n",
       "      <td>3</td>\n",
       "      <td>8.0</td>\n",
       "      <td>16.0</td>\n",
       "      <td>41.0</td>\n",
       "      <td>1</td>\n",
       "      <td>0</td>\n",
       "      <td>...</td>\n",
       "      <td>8.000000</td>\n",
       "      <td>0</td>\n",
       "      <td>Санкт-Петербург</td>\n",
       "      <td>32691.0</td>\n",
       "      <td>11035.0</td>\n",
       "      <td>1.0</td>\n",
       "      <td>723.0</td>\n",
       "      <td>0.0</td>\n",
       "      <td>NaN</td>\n",
       "      <td>474.0</td>\n",
       "    </tr>\n",
       "    <tr>\n",
       "      <td>17442</td>\n",
       "      <td>0</td>\n",
       "      <td>5350000.0</td>\n",
       "      <td>54.0</td>\n",
       "      <td>2015-06-16</td>\n",
       "      <td>2</td>\n",
       "      <td>8.0</td>\n",
       "      <td>5.0</td>\n",
       "      <td>29.0</td>\n",
       "      <td>2</td>\n",
       "      <td>0</td>\n",
       "      <td>...</td>\n",
       "      <td>9.404825</td>\n",
       "      <td>1</td>\n",
       "      <td>Красное Село</td>\n",
       "      <td>24638.0</td>\n",
       "      <td>28062.0</td>\n",
       "      <td>0.0</td>\n",
       "      <td>NaN</td>\n",
       "      <td>0.0</td>\n",
       "      <td>NaN</td>\n",
       "      <td>469.0</td>\n",
       "    </tr>\n",
       "    <tr>\n",
       "      <td>17496</td>\n",
       "      <td>15</td>\n",
       "      <td>6700000.0</td>\n",
       "      <td>92.9</td>\n",
       "      <td>2019-02-19</td>\n",
       "      <td>3</td>\n",
       "      <td>20.0</td>\n",
       "      <td>17.0</td>\n",
       "      <td>53.2</td>\n",
       "      <td>14</td>\n",
       "      <td>0</td>\n",
       "      <td>...</td>\n",
       "      <td>12.000000</td>\n",
       "      <td>5</td>\n",
       "      <td>Санкт-Петербург</td>\n",
       "      <td>16295.0</td>\n",
       "      <td>15092.0</td>\n",
       "      <td>1.0</td>\n",
       "      <td>967.0</td>\n",
       "      <td>0.0</td>\n",
       "      <td>NaN</td>\n",
       "      <td>NaN</td>\n",
       "    </tr>\n",
       "    <tr>\n",
       "      <td>17857</td>\n",
       "      <td>1</td>\n",
       "      <td>3900000.0</td>\n",
       "      <td>56.0</td>\n",
       "      <td>2017-12-22</td>\n",
       "      <td>3</td>\n",
       "      <td>27.0</td>\n",
       "      <td>5.0</td>\n",
       "      <td>33.0</td>\n",
       "      <td>4</td>\n",
       "      <td>0</td>\n",
       "      <td>...</td>\n",
       "      <td>7.891961</td>\n",
       "      <td>0</td>\n",
       "      <td>Санкт-Петербург</td>\n",
       "      <td>41030.0</td>\n",
       "      <td>15543.0</td>\n",
       "      <td>0.0</td>\n",
       "      <td>NaN</td>\n",
       "      <td>0.0</td>\n",
       "      <td>NaN</td>\n",
       "      <td>73.0</td>\n",
       "    </tr>\n",
       "    <tr>\n",
       "      <td>18545</td>\n",
       "      <td>6</td>\n",
       "      <td>3750000.0</td>\n",
       "      <td>43.0</td>\n",
       "      <td>2019-03-18</td>\n",
       "      <td>2</td>\n",
       "      <td>25.0</td>\n",
       "      <td>5.0</td>\n",
       "      <td>29.0</td>\n",
       "      <td>3</td>\n",
       "      <td>0</td>\n",
       "      <td>...</td>\n",
       "      <td>7.489027</td>\n",
       "      <td>0</td>\n",
       "      <td>Санкт-Петербург</td>\n",
       "      <td>27054.0</td>\n",
       "      <td>8033.0</td>\n",
       "      <td>1.0</td>\n",
       "      <td>540.0</td>\n",
       "      <td>0.0</td>\n",
       "      <td>NaN</td>\n",
       "      <td>12.0</td>\n",
       "    </tr>\n",
       "    <tr>\n",
       "      <td>20264</td>\n",
       "      <td>17</td>\n",
       "      <td>119000000.0</td>\n",
       "      <td>187.6</td>\n",
       "      <td>2017-07-10</td>\n",
       "      <td>4</td>\n",
       "      <td>6.0</td>\n",
       "      <td>7.0</td>\n",
       "      <td>147.0</td>\n",
       "      <td>7</td>\n",
       "      <td>0</td>\n",
       "      <td>...</td>\n",
       "      <td>15.600000</td>\n",
       "      <td>0</td>\n",
       "      <td>Санкт-Петербург</td>\n",
       "      <td>26902.0</td>\n",
       "      <td>5605.0</td>\n",
       "      <td>3.0</td>\n",
       "      <td>484.0</td>\n",
       "      <td>1.0</td>\n",
       "      <td>305.0</td>\n",
       "      <td>259.0</td>\n",
       "    </tr>\n",
       "    <tr>\n",
       "      <td>20478</td>\n",
       "      <td>11</td>\n",
       "      <td>8000000.0</td>\n",
       "      <td>45.0</td>\n",
       "      <td>2017-07-18</td>\n",
       "      <td>1</td>\n",
       "      <td>27.0</td>\n",
       "      <td>4.0</td>\n",
       "      <td>22.0</td>\n",
       "      <td>2</td>\n",
       "      <td>0</td>\n",
       "      <td>...</td>\n",
       "      <td>10.000000</td>\n",
       "      <td>1</td>\n",
       "      <td>Санкт-Петербург</td>\n",
       "      <td>18975.0</td>\n",
       "      <td>3246.0</td>\n",
       "      <td>0.0</td>\n",
       "      <td>NaN</td>\n",
       "      <td>3.0</td>\n",
       "      <td>449.0</td>\n",
       "      <td>429.0</td>\n",
       "    </tr>\n",
       "    <tr>\n",
       "      <td>20507</td>\n",
       "      <td>12</td>\n",
       "      <td>5950000.0</td>\n",
       "      <td>60.0</td>\n",
       "      <td>2018-02-19</td>\n",
       "      <td>2</td>\n",
       "      <td>22.6</td>\n",
       "      <td>14.0</td>\n",
       "      <td>35.0</td>\n",
       "      <td>11</td>\n",
       "      <td>0</td>\n",
       "      <td>...</td>\n",
       "      <td>13.000000</td>\n",
       "      <td>1</td>\n",
       "      <td>Санкт-Петербург</td>\n",
       "      <td>27028.0</td>\n",
       "      <td>12570.0</td>\n",
       "      <td>0.0</td>\n",
       "      <td>NaN</td>\n",
       "      <td>0.0</td>\n",
       "      <td>NaN</td>\n",
       "      <td>40.0</td>\n",
       "    </tr>\n",
       "    <tr>\n",
       "      <td>21377</td>\n",
       "      <td>19</td>\n",
       "      <td>4900000.0</td>\n",
       "      <td>42.0</td>\n",
       "      <td>2017-04-18</td>\n",
       "      <td>1</td>\n",
       "      <td>27.5</td>\n",
       "      <td>24.0</td>\n",
       "      <td>37.7</td>\n",
       "      <td>19</td>\n",
       "      <td>0</td>\n",
       "      <td>...</td>\n",
       "      <td>11.000000</td>\n",
       "      <td>2</td>\n",
       "      <td>Санкт-Петербург</td>\n",
       "      <td>42742.0</td>\n",
       "      <td>9760.0</td>\n",
       "      <td>0.0</td>\n",
       "      <td>NaN</td>\n",
       "      <td>0.0</td>\n",
       "      <td>NaN</td>\n",
       "      <td>61.0</td>\n",
       "    </tr>\n",
       "    <tr>\n",
       "      <td>21824</td>\n",
       "      <td>20</td>\n",
       "      <td>2450000.0</td>\n",
       "      <td>44.0</td>\n",
       "      <td>2019-02-12</td>\n",
       "      <td>2</td>\n",
       "      <td>27.0</td>\n",
       "      <td>2.0</td>\n",
       "      <td>38.0</td>\n",
       "      <td>2</td>\n",
       "      <td>0</td>\n",
       "      <td>...</td>\n",
       "      <td>8.600000</td>\n",
       "      <td>2</td>\n",
       "      <td>городской поселок Большая Ижора</td>\n",
       "      <td>NaN</td>\n",
       "      <td>NaN</td>\n",
       "      <td>NaN</td>\n",
       "      <td>NaN</td>\n",
       "      <td>NaN</td>\n",
       "      <td>NaN</td>\n",
       "      <td>NaN</td>\n",
       "    </tr>\n",
       "    <tr>\n",
       "      <td>22309</td>\n",
       "      <td>20</td>\n",
       "      <td>5300000.0</td>\n",
       "      <td>45.0</td>\n",
       "      <td>2017-09-30</td>\n",
       "      <td>1</td>\n",
       "      <td>10.3</td>\n",
       "      <td>16.0</td>\n",
       "      <td>15.5</td>\n",
       "      <td>15</td>\n",
       "      <td>0</td>\n",
       "      <td>...</td>\n",
       "      <td>11.245749</td>\n",
       "      <td>0</td>\n",
       "      <td>Санкт-Петербург</td>\n",
       "      <td>36353.0</td>\n",
       "      <td>11936.0</td>\n",
       "      <td>2.0</td>\n",
       "      <td>440.0</td>\n",
       "      <td>2.0</td>\n",
       "      <td>450.0</td>\n",
       "      <td>136.0</td>\n",
       "    </tr>\n",
       "    <tr>\n",
       "      <td>22336</td>\n",
       "      <td>19</td>\n",
       "      <td>9999000.0</td>\n",
       "      <td>92.4</td>\n",
       "      <td>2019-04-05</td>\n",
       "      <td>2</td>\n",
       "      <td>32.0</td>\n",
       "      <td>6.0</td>\n",
       "      <td>55.5</td>\n",
       "      <td>5</td>\n",
       "      <td>0</td>\n",
       "      <td>...</td>\n",
       "      <td>16.500000</td>\n",
       "      <td>4</td>\n",
       "      <td>Санкт-Петербург</td>\n",
       "      <td>18838.0</td>\n",
       "      <td>3506.0</td>\n",
       "      <td>0.0</td>\n",
       "      <td>NaN</td>\n",
       "      <td>3.0</td>\n",
       "      <td>511.0</td>\n",
       "      <td>NaN</td>\n",
       "    </tr>\n",
       "    <tr>\n",
       "      <td>22869</td>\n",
       "      <td>0</td>\n",
       "      <td>15000000.0</td>\n",
       "      <td>25.0</td>\n",
       "      <td>2018-07-25</td>\n",
       "      <td>1</td>\n",
       "      <td>100.0</td>\n",
       "      <td>5.0</td>\n",
       "      <td>14.0</td>\n",
       "      <td>5</td>\n",
       "      <td>1</td>\n",
       "      <td>...</td>\n",
       "      <td>11.000000</td>\n",
       "      <td>5</td>\n",
       "      <td>Санкт-Петербург</td>\n",
       "      <td>34963.0</td>\n",
       "      <td>8283.0</td>\n",
       "      <td>1.0</td>\n",
       "      <td>223.0</td>\n",
       "      <td>3.0</td>\n",
       "      <td>30.0</td>\n",
       "      <td>19.0</td>\n",
       "    </tr>\n",
       "    <tr>\n",
       "      <td>22938</td>\n",
       "      <td>14</td>\n",
       "      <td>4000000.0</td>\n",
       "      <td>98.0</td>\n",
       "      <td>2018-03-15</td>\n",
       "      <td>4</td>\n",
       "      <td>27.0</td>\n",
       "      <td>2.0</td>\n",
       "      <td>73.0</td>\n",
       "      <td>2</td>\n",
       "      <td>1</td>\n",
       "      <td>...</td>\n",
       "      <td>9.000000</td>\n",
       "      <td>1</td>\n",
       "      <td>деревня Нижняя</td>\n",
       "      <td>NaN</td>\n",
       "      <td>NaN</td>\n",
       "      <td>NaN</td>\n",
       "      <td>NaN</td>\n",
       "      <td>NaN</td>\n",
       "      <td>NaN</td>\n",
       "      <td>27.0</td>\n",
       "    </tr>\n",
       "  </tbody>\n",
       "</table>\n",
       "<p>30 rows × 22 columns</p>\n",
       "</div>"
      ],
      "text/plain": [
       "       total_images   last_price  total_area exposition_start  rooms  \\\n",
       "355              17    3600000.0        55.2       2018-07-12      2   \n",
       "3148             14    2900000.0        75.0       2018-11-12      3   \n",
       "3474              3    1400000.0        30.0       2018-03-16      1   \n",
       "4643              0    4300000.0        45.0       2018-02-01      2   \n",
       "4876              7    3000000.0        25.0       2017-09-27      0   \n",
       "5076              0    3850000.0        30.5       2018-10-03      1   \n",
       "5246              0    2500000.0        54.0       2017-10-13      2   \n",
       "5669              4    4400000.0        50.0       2017-08-08      2   \n",
       "5807             17    8150000.0        80.0       2019-01-09      2   \n",
       "5863             20    5650000.0        45.0       2018-08-15      1   \n",
       "6246              6    3300000.0        44.4       2019-03-25      2   \n",
       "9379              5    3950000.0        42.0       2017-03-26      3   \n",
       "10773             8    3800000.0        58.0       2017-10-13      2   \n",
       "11285             0    1950000.0        37.0       2019-03-20      1   \n",
       "14382             9    1700000.0        35.0       2015-12-04      1   \n",
       "15061            19    5600000.0        56.4       2018-05-11      2   \n",
       "15743            14    5600000.0        67.0       2016-11-11      3   \n",
       "17442             0    5350000.0        54.0       2015-06-16      2   \n",
       "17496            15    6700000.0        92.9       2019-02-19      3   \n",
       "17857             1    3900000.0        56.0       2017-12-22      3   \n",
       "18545             6    3750000.0        43.0       2019-03-18      2   \n",
       "20264            17  119000000.0       187.6       2017-07-10      4   \n",
       "20478            11    8000000.0        45.0       2017-07-18      1   \n",
       "20507            12    5950000.0        60.0       2018-02-19      2   \n",
       "21377            19    4900000.0        42.0       2017-04-18      1   \n",
       "21824            20    2450000.0        44.0       2019-02-12      2   \n",
       "22309            20    5300000.0        45.0       2017-09-30      1   \n",
       "22336            19    9999000.0        92.4       2019-04-05      2   \n",
       "22869             0   15000000.0        25.0       2018-07-25      1   \n",
       "22938            14    4000000.0        98.0       2018-03-15      4   \n",
       "\n",
       "       ceiling_height  floors_total  living_area  floor  is_apartment  ...  \\\n",
       "355              25.0           5.0         32.0      2             0  ...   \n",
       "3148             32.0           3.0         53.0      2             0  ...   \n",
       "3474              8.0           5.0         15.3      2             0  ...   \n",
       "4643             25.0           9.0         30.0      2             0  ...   \n",
       "4876             27.0          25.0         17.0     17             0  ...   \n",
       "5076             24.0           5.0         19.5      1             1  ...   \n",
       "5246             27.0           5.0         30.0      3             0  ...   \n",
       "5669             26.0           9.0         21.3      3             0  ...   \n",
       "5807             27.0          36.0         41.0     13             0  ...   \n",
       "5863              8.3          16.0         19.3     14             0  ...   \n",
       "6246             25.0           5.0         31.3      5             0  ...   \n",
       "9379             25.0           5.0         30.0      2             0  ...   \n",
       "10773            27.0          10.0         30.1      3             0  ...   \n",
       "11285            25.0           5.0         17.0      4             0  ...   \n",
       "14382            25.0           5.0         20.0      2             0  ...   \n",
       "15061            14.0          14.0         32.4      5             0  ...   \n",
       "15743             8.0          16.0         41.0      1             0  ...   \n",
       "17442             8.0           5.0         29.0      2             0  ...   \n",
       "17496            20.0          17.0         53.2     14             0  ...   \n",
       "17857            27.0           5.0         33.0      4             0  ...   \n",
       "18545            25.0           5.0         29.0      3             0  ...   \n",
       "20264             6.0           7.0        147.0      7             0  ...   \n",
       "20478            27.0           4.0         22.0      2             0  ...   \n",
       "20507            22.6          14.0         35.0     11             0  ...   \n",
       "21377            27.5          24.0         37.7     19             0  ...   \n",
       "21824            27.0           2.0         38.0      2             0  ...   \n",
       "22309            10.3          16.0         15.5     15             0  ...   \n",
       "22336            32.0           6.0         55.5      5             0  ...   \n",
       "22869           100.0           5.0         14.0      5             1  ...   \n",
       "22938            27.0           2.0         73.0      2             1  ...   \n",
       "\n",
       "       kitchen_area  balcony                    locality_name  \\\n",
       "355        9.613821        2                          Гатчина   \n",
       "3148       8.000000        0                           Волхов   \n",
       "3474       7.300000        0                    деревня Нурма   \n",
       "4643       7.000000        1                  Санкт-Петербург   \n",
       "4876       0.000000        2                   поселок Мурино   \n",
       "5076       5.500000        0                  Санкт-Петербург   \n",
       "5246       9.000000        2                     деревня Мины   \n",
       "5669       7.000000        2                  Санкт-Петербург   \n",
       "5807      12.000000        5                  Санкт-Петербург   \n",
       "5863       8.300000        1                  Санкт-Петербург   \n",
       "6246       5.700000        0                        Кронштадт   \n",
       "9379       5.200000        0                  Санкт-Петербург   \n",
       "10773      8.100000        2                   поселок Мурино   \n",
       "11285      9.000000        2                             Луга   \n",
       "14382      8.000000        1               поселок Новый Свет   \n",
       "15061      9.100000        2                  Санкт-Петербург   \n",
       "15743      8.000000        0                  Санкт-Петербург   \n",
       "17442      9.404825        1                     Красное Село   \n",
       "17496     12.000000        5                  Санкт-Петербург   \n",
       "17857      7.891961        0                  Санкт-Петербург   \n",
       "18545      7.489027        0                  Санкт-Петербург   \n",
       "20264     15.600000        0                  Санкт-Петербург   \n",
       "20478     10.000000        1                  Санкт-Петербург   \n",
       "20507     13.000000        1                  Санкт-Петербург   \n",
       "21377     11.000000        2                  Санкт-Петербург   \n",
       "21824      8.600000        2  городской поселок Большая Ижора   \n",
       "22309     11.245749        0                  Санкт-Петербург   \n",
       "22336     16.500000        4                  Санкт-Петербург   \n",
       "22869     11.000000        5                  Санкт-Петербург   \n",
       "22938      9.000000        1                   деревня Нижняя   \n",
       "\n",
       "       distance_to_airport distance_to_center  parks_around  distance_to_park  \\\n",
       "355                    NaN                NaN           NaN               NaN   \n",
       "3148                   NaN                NaN           NaN               NaN   \n",
       "3474                   NaN                NaN           NaN               NaN   \n",
       "4643               12016.0            13256.0           1.0             658.0   \n",
       "4876                   0.0                0.0           0.0               0.0   \n",
       "5076               29686.0             8389.0           3.0             397.0   \n",
       "5246                   NaN                NaN           NaN               NaN   \n",
       "5669               28981.0            10912.0           1.0             305.0   \n",
       "5807               18732.0            20444.0           0.0               NaN   \n",
       "5863               13069.0            10763.0           0.0               NaN   \n",
       "6246               68923.0            50649.0           1.0             417.0   \n",
       "9379               11647.0            13581.0           0.0               NaN   \n",
       "10773                  NaN                NaN           NaN               NaN   \n",
       "11285                  NaN                NaN           NaN               NaN   \n",
       "14382                  NaN                NaN           NaN               NaN   \n",
       "15061              14814.0            13610.0           0.0               NaN   \n",
       "15743              32691.0            11035.0           1.0             723.0   \n",
       "17442              24638.0            28062.0           0.0               NaN   \n",
       "17496              16295.0            15092.0           1.0             967.0   \n",
       "17857              41030.0            15543.0           0.0               NaN   \n",
       "18545              27054.0             8033.0           1.0             540.0   \n",
       "20264              26902.0             5605.0           3.0             484.0   \n",
       "20478              18975.0             3246.0           0.0               NaN   \n",
       "20507              27028.0            12570.0           0.0               NaN   \n",
       "21377              42742.0             9760.0           0.0               NaN   \n",
       "21824                  NaN                NaN           NaN               NaN   \n",
       "22309              36353.0            11936.0           2.0             440.0   \n",
       "22336              18838.0             3506.0           0.0               NaN   \n",
       "22869              34963.0             8283.0           1.0             223.0   \n",
       "22938                  NaN                NaN           NaN               NaN   \n",
       "\n",
       "       ponds_around  distance_to_pond  days_in_exposition  \n",
       "355             NaN               NaN               259.0  \n",
       "3148            NaN               NaN                 NaN  \n",
       "3474            NaN               NaN               125.0  \n",
       "4643            1.0             331.0               181.0  \n",
       "4876            0.0               0.0                28.0  \n",
       "5076            1.0             578.0                 7.0  \n",
       "5246            NaN               NaN               540.0  \n",
       "5669            0.0               NaN               267.0  \n",
       "5807            3.0              80.0                38.0  \n",
       "5863            1.0             613.0                14.0  \n",
       "6246            2.0              73.0                 NaN  \n",
       "9379            0.0               NaN                 NaN  \n",
       "10773           NaN               NaN                71.0  \n",
       "11285           NaN               NaN                18.0  \n",
       "14382           NaN               NaN               206.0  \n",
       "15061           0.0               NaN               315.0  \n",
       "15743           0.0               NaN               474.0  \n",
       "17442           0.0               NaN               469.0  \n",
       "17496           0.0               NaN                 NaN  \n",
       "17857           0.0               NaN                73.0  \n",
       "18545           0.0               NaN                12.0  \n",
       "20264           1.0             305.0               259.0  \n",
       "20478           3.0             449.0               429.0  \n",
       "20507           0.0               NaN                40.0  \n",
       "21377           0.0               NaN                61.0  \n",
       "21824           NaN               NaN                 NaN  \n",
       "22309           2.0             450.0               136.0  \n",
       "22336           3.0             511.0                 NaN  \n",
       "22869           3.0              30.0                19.0  \n",
       "22938           NaN               NaN                27.0  \n",
       "\n",
       "[30 rows x 22 columns]"
      ]
     },
     "execution_count": 53,
     "metadata": {},
     "output_type": "execute_result"
    }
   ],
   "source": [
    "#Изучим квартиры с очень высокими потолками\n",
    "data.query('ceiling_height >= 6')"
   ]
  },
  {
   "cell_type": "code",
   "execution_count": 54,
   "metadata": {},
   "outputs": [],
   "source": [
    "#Функция заменяет значение в столбце ceiling_height на медианное значение, характерное для определенного типа здания \n",
    "def ceiling_height_replace_high(building_type, cell_height):\n",
    "   \n",
    "    median = data.loc[building_type, 'ceiling_height'].median()\n",
    "   \n",
    "    data.loc[building_type & (data['ceiling_height'] >= cell_height), 'ceiling_height'] = median"
   ]
  },
  {
   "cell_type": "code",
   "execution_count": 55,
   "metadata": {},
   "outputs": [],
   "source": [
    "for building_type in building_types:\n",
    "    ceiling_height_replace_high(building_type, 6)"
   ]
  },
  {
   "cell_type": "code",
   "execution_count": 56,
   "metadata": {
    "scrolled": true
   },
   "outputs": [
    {
     "data": {
      "text/html": [
       "<div>\n",
       "<style scoped>\n",
       "    .dataframe tbody tr th:only-of-type {\n",
       "        vertical-align: middle;\n",
       "    }\n",
       "\n",
       "    .dataframe tbody tr th {\n",
       "        vertical-align: top;\n",
       "    }\n",
       "\n",
       "    .dataframe thead th {\n",
       "        text-align: right;\n",
       "    }\n",
       "</style>\n",
       "<table border=\"1\" class=\"dataframe\">\n",
       "  <thead>\n",
       "    <tr style=\"text-align: right;\">\n",
       "      <th></th>\n",
       "      <th>total_images</th>\n",
       "      <th>last_price</th>\n",
       "      <th>total_area</th>\n",
       "      <th>exposition_start</th>\n",
       "      <th>rooms</th>\n",
       "      <th>ceiling_height</th>\n",
       "      <th>floors_total</th>\n",
       "      <th>living_area</th>\n",
       "      <th>floor</th>\n",
       "      <th>is_apartment</th>\n",
       "      <th>...</th>\n",
       "      <th>kitchen_area</th>\n",
       "      <th>balcony</th>\n",
       "      <th>locality_name</th>\n",
       "      <th>distance_to_airport</th>\n",
       "      <th>distance_to_center</th>\n",
       "      <th>parks_around</th>\n",
       "      <th>distance_to_park</th>\n",
       "      <th>ponds_around</th>\n",
       "      <th>distance_to_pond</th>\n",
       "      <th>days_in_exposition</th>\n",
       "    </tr>\n",
       "  </thead>\n",
       "  <tbody>\n",
       "  </tbody>\n",
       "</table>\n",
       "<p>0 rows × 22 columns</p>\n",
       "</div>"
      ],
      "text/plain": [
       "Empty DataFrame\n",
       "Columns: [total_images, last_price, total_area, exposition_start, rooms, ceiling_height, floors_total, living_area, floor, is_apartment, is_studio, is_open_plan, kitchen_area, balcony, locality_name, distance_to_airport, distance_to_center, parks_around, distance_to_park, ponds_around, distance_to_pond, days_in_exposition]\n",
       "Index: []\n",
       "\n",
       "[0 rows x 22 columns]"
      ]
     },
     "execution_count": 56,
     "metadata": {},
     "output_type": "execute_result"
    }
   ],
   "source": [
    "#Проверим, результат\n",
    "data.query('ceiling_height > 6')"
   ]
  },
  {
   "cell_type": "markdown",
   "metadata": {},
   "source": [
    "<a id='Step_2_8'></a>\n",
    "#### 2.8 Исследование столбцов distance_to_airport и distance_to_center "
   ]
  },
  {
   "cell_type": "code",
   "execution_count": 57,
   "metadata": {},
   "outputs": [
    {
     "data": {
      "text/plain": [
       "5440"
      ]
     },
     "execution_count": 57,
     "metadata": {},
     "output_type": "execute_result"
    }
   ],
   "source": [
    "data['distance_to_center'].isna().sum()"
   ]
  },
  {
   "cell_type": "code",
   "execution_count": 58,
   "metadata": {},
   "outputs": [
    {
     "data": {
      "text/plain": [
       "5463"
      ]
     },
     "execution_count": 58,
     "metadata": {},
     "output_type": "execute_result"
    }
   ],
   "source": [
    "data['distance_to_airport'].isna().sum()"
   ]
  },
  {
   "cell_type": "markdown",
   "metadata": {},
   "source": [
    "Данные в столбцах генерируются автоматически - расстояние расчитывается, исходя из адреса объекта. В датасете отсутствуют адреса, соответственно, восстановить пропущенные значения не представляется возможным. Чтобы избежать искажения данных, не будем заменять NaN в этих столбцах."
   ]
  },
  {
   "cell_type": "markdown",
   "metadata": {},
   "source": [
    "<a id='Step_2_9'></a>\n",
    "#### 2.9 Исследование столбцов parks_around, distance_to_park, ponds_around, distance_to_pond"
   ]
  },
  {
   "cell_type": "code",
   "execution_count": 59,
   "metadata": {},
   "outputs": [
    {
     "data": {
      "text/plain": [
       "5439"
      ]
     },
     "execution_count": 59,
     "metadata": {},
     "output_type": "execute_result"
    }
   ],
   "source": [
    "#Проверим количество пропусков в столбце parks_around\n",
    "data['parks_around'].isna().sum()"
   ]
  },
  {
   "cell_type": "code",
   "execution_count": 60,
   "metadata": {},
   "outputs": [],
   "source": [
    "#Предположим, что пропуски возникли там, где парков в радиусе 3000 м нет. Заменим эти значения на 0\n",
    "#Поскольку количество парков может быть только целым числом, заменим тип данных на int\n",
    "data['parks_around'] = data['parks_around'].fillna(0).astype(int)"
   ]
  },
  {
   "cell_type": "code",
   "execution_count": 61,
   "metadata": {},
   "outputs": [
    {
     "data": {
      "text/plain": [
       "0"
      ]
     },
     "execution_count": 61,
     "metadata": {},
     "output_type": "execute_result"
    }
   ],
   "source": [
    "#Проверим результат замены\n",
    "data['parks_around'].isna().sum()"
   ]
  },
  {
   "cell_type": "code",
   "execution_count": 62,
   "metadata": {},
   "outputs": [
    {
     "data": {
      "text/plain": [
       "5439"
      ]
     },
     "execution_count": 62,
     "metadata": {},
     "output_type": "execute_result"
    }
   ],
   "source": [
    "#Проверим количество пропусков в столбце ponds_around\n",
    "data['ponds_around'].isna().sum()"
   ]
  },
  {
   "cell_type": "code",
   "execution_count": 63,
   "metadata": {},
   "outputs": [],
   "source": [
    "#Предположим, что пропуски возникли там, где водоемов в радиусе 3000 м нет. Заменим эти значения на 0\n",
    "#Поскольку количество водоемов может быть только целым числом, заменим тип данных на int\n",
    "data['ponds_around'] = data['ponds_around'].fillna(0).astype(int)"
   ]
  },
  {
   "cell_type": "code",
   "execution_count": 64,
   "metadata": {},
   "outputs": [
    {
     "data": {
      "text/plain": [
       "0"
      ]
     },
     "execution_count": 64,
     "metadata": {},
     "output_type": "execute_result"
    }
   ],
   "source": [
    "#Проверим результат замены\n",
    "data['ponds_around'].isna().sum()"
   ]
  },
  {
   "cell_type": "code",
   "execution_count": 65,
   "metadata": {},
   "outputs": [
    {
     "data": {
      "text/plain": [
       "15452"
      ]
     },
     "execution_count": 65,
     "metadata": {},
     "output_type": "execute_result"
    }
   ],
   "source": [
    "#Проверим количество пропусков в столбце distance_to_park\n",
    "data['distance_to_park'].isna().sum()"
   ]
  },
  {
   "cell_type": "code",
   "execution_count": 66,
   "metadata": {},
   "outputs": [],
   "source": [
    "#Предположим, что пропуски возникли там, где парков в радиусе 3000 м нет. Заменим эти значения на 0\n",
    "#Расстояние до парка указано в метрах, большая точность нам не нужна, заменим тип данных на int\n",
    "data['distance_to_park'] = data['distance_to_park'].fillna(0).astype(int)"
   ]
  },
  {
   "cell_type": "code",
   "execution_count": 67,
   "metadata": {},
   "outputs": [
    {
     "data": {
      "text/plain": [
       "0"
      ]
     },
     "execution_count": 67,
     "metadata": {},
     "output_type": "execute_result"
    }
   ],
   "source": [
    "#Проверим результат замены\n",
    "data['distance_to_park'].isna().sum()"
   ]
  },
  {
   "cell_type": "code",
   "execution_count": 68,
   "metadata": {},
   "outputs": [
    {
     "data": {
      "text/plain": [
       "14461"
      ]
     },
     "execution_count": 68,
     "metadata": {},
     "output_type": "execute_result"
    }
   ],
   "source": [
    "#Проверим количество пропусков в столбце distance_to_pond\n",
    "data['distance_to_pond'].isna().sum()"
   ]
  },
  {
   "cell_type": "code",
   "execution_count": 69,
   "metadata": {},
   "outputs": [],
   "source": [
    "#Предположим, что пропуски возникли там, где водоемов в радиусе 3000 м нет. Заменим эти значения на 0\n",
    "#Расстояние до парка указано в метрах, большая точность нам не нужна, заменим тип данных на int\n",
    "data['distance_to_pond'] = data['distance_to_pond'].fillna(0).astype(int)"
   ]
  },
  {
   "cell_type": "code",
   "execution_count": 70,
   "metadata": {},
   "outputs": [
    {
     "data": {
      "text/plain": [
       "0"
      ]
     },
     "execution_count": 70,
     "metadata": {},
     "output_type": "execute_result"
    }
   ],
   "source": [
    "#Проверим результат замены\n",
    "data['distance_to_pond'].isna().sum()"
   ]
  },
  {
   "cell_type": "code",
   "execution_count": 71,
   "metadata": {},
   "outputs": [
    {
     "name": "stdout",
     "output_type": "stream",
     "text": [
      "<class 'pandas.core.frame.DataFrame'>\n",
      "RangeIndex: 23699 entries, 0 to 23698\n",
      "Data columns (total 22 columns):\n",
      "total_images           23699 non-null int64\n",
      "last_price             23699 non-null float64\n",
      "total_area             23699 non-null float64\n",
      "exposition_start       23699 non-null datetime64[ns]\n",
      "rooms                  23699 non-null int64\n",
      "ceiling_height         23699 non-null float64\n",
      "floors_total           23699 non-null float64\n",
      "living_area            23699 non-null float64\n",
      "floor                  23699 non-null int64\n",
      "is_apartment           23699 non-null int64\n",
      "is_studio              23699 non-null int64\n",
      "is_open_plan           23699 non-null int64\n",
      "kitchen_area           23699 non-null float64\n",
      "balcony                23699 non-null int64\n",
      "locality_name          23699 non-null object\n",
      "distance_to_airport    18236 non-null float64\n",
      "distance_to_center     18259 non-null float64\n",
      "parks_around           23699 non-null int64\n",
      "distance_to_park       23699 non-null int64\n",
      "ponds_around           23699 non-null int64\n",
      "distance_to_pond       23699 non-null int64\n",
      "days_in_exposition     20532 non-null float64\n",
      "dtypes: datetime64[ns](1), float64(9), int64(11), object(1)\n",
      "memory usage: 4.0+ MB\n"
     ]
    }
   ],
   "source": [
    "data.info()"
   ]
  },
  {
   "cell_type": "markdown",
   "metadata": {},
   "source": [
    "<a id='Step_2_10'></a>\n",
    "#### 2.10 Исследование столбца days_in_exposition"
   ]
  },
  {
   "cell_type": "code",
   "execution_count": 72,
   "metadata": {},
   "outputs": [
    {
     "data": {
      "text/plain": [
       "3167"
      ]
     },
     "execution_count": 72,
     "metadata": {},
     "output_type": "execute_result"
    }
   ],
   "source": [
    "#Проверим количество пропусков в столбце days_in_exposition\n",
    "data['days_in_exposition'].isna().sum()"
   ]
  },
  {
   "cell_type": "markdown",
   "metadata": {},
   "source": [
    "Данные в столбце генерируются автоматически. Вижу две возможные причины пропусков. 1) Квартира еще не продана. 2) Произошел технический сбой. Количество квартир с пропусками более 10% от общего количества. Замена этих значений, например, медианами может привести к искажению результатов исследования. Предлагаю замену пропусков не производить и сообщить об ошибке заказчику."
   ]
  },
  {
   "cell_type": "markdown",
   "metadata": {},
   "source": [
    "Проверка на наличие дубликатов"
   ]
  },
  {
   "cell_type": "code",
   "execution_count": 73,
   "metadata": {},
   "outputs": [
    {
     "data": {
      "text/plain": [
       "0"
      ]
     },
     "execution_count": 73,
     "metadata": {},
     "output_type": "execute_result"
    }
   ],
   "source": [
    "data.duplicated().sum()"
   ]
  },
  {
   "cell_type": "markdown",
   "metadata": {},
   "source": [
    "***<a href='#top'>Вернуться в начало</a>***"
   ]
  },
  {
   "cell_type": "markdown",
   "metadata": {},
   "source": [
    "#### Вывод:\n",
    "<p>Заменил пропуски в столбцах, необходимых для дальнейшего исследования.</p>\n",
    "<p>Часть информации удалось восстановить, исходя из здравого смысла (расстояние до центра)</p>\n",
    "<p>Там, где возможно, пропуски заполнены медианными значениями для той или иной категории.</p>"
   ]
  },
  {
   "cell_type": "markdown",
   "metadata": {},
   "source": [
    "<a id='Step_3'></a>\n",
    "### Шаг 3. Посчитайте и добавьте в таблицу:"
   ]
  },
  {
   "cell_type": "markdown",
   "metadata": {},
   "source": [
    "<a id='Step_3_1'></a>\n",
    "#### 3.1 Цена квадратного метра"
   ]
  },
  {
   "cell_type": "code",
   "execution_count": 74,
   "metadata": {},
   "outputs": [],
   "source": [
    "data['price_per_meter'] = data['last_price']/data['total_area']"
   ]
  },
  {
   "cell_type": "markdown",
   "metadata": {},
   "source": [
    "<a id='Step_3_2'></a>\n",
    "#### 3.2 День недели, месяц и год публикации объявления"
   ]
  },
  {
   "cell_type": "code",
   "execution_count": 75,
   "metadata": {},
   "outputs": [],
   "source": [
    "#Получаем столбец с днем недели публикации объявления\n",
    "data['weekday'] = data['exposition_start'].dt.weekday"
   ]
  },
  {
   "cell_type": "code",
   "execution_count": 76,
   "metadata": {},
   "outputs": [],
   "source": [
    "#Получаем столбец с месяцем публикации объявления\n",
    "data['month'] = data['exposition_start'].dt.month"
   ]
  },
  {
   "cell_type": "code",
   "execution_count": 77,
   "metadata": {},
   "outputs": [],
   "source": [
    "#Получаем столбец с годом публикации объявления\n",
    "data['year'] = data['exposition_start'].dt.year"
   ]
  },
  {
   "cell_type": "markdown",
   "metadata": {},
   "source": [
    "<a id='Step_3_3'></a>\n",
    "#### 3.3 Этаж квартиры"
   ]
  },
  {
   "cell_type": "code",
   "execution_count": 78,
   "metadata": {},
   "outputs": [],
   "source": [
    "def floor_type(row):\n",
    "    floor = row['floor']\n",
    "    floors_total = row['floors_total']\n",
    "    \n",
    "    if floor == floors_total:\n",
    "        return 'последний'\n",
    "    \n",
    "    if floor == 1:\n",
    "        return 'первый'\n",
    "    \n",
    "    return 'другой'"
   ]
  },
  {
   "cell_type": "code",
   "execution_count": 79,
   "metadata": {},
   "outputs": [],
   "source": [
    "data['floor_type'] = data.apply(floor_type, axis=1)"
   ]
  },
  {
   "cell_type": "markdown",
   "metadata": {},
   "source": [
    "<a id='Step_3_4'></a>\n",
    "#### 3.4 Соотношение жилой и общей площади"
   ]
  },
  {
   "cell_type": "code",
   "execution_count": 80,
   "metadata": {},
   "outputs": [],
   "source": [
    "data['living_to_total_area'] = data['living_area']/data['total_area']"
   ]
  },
  {
   "cell_type": "markdown",
   "metadata": {},
   "source": [
    "<a id='Step_3_5'></a>\n",
    "#### 3.5 Соотношение площади кухни к общей"
   ]
  },
  {
   "cell_type": "code",
   "execution_count": 81,
   "metadata": {},
   "outputs": [],
   "source": [
    "data['kitchen_to_total_area'] = data['kitchen_area']/data['total_area']"
   ]
  },
  {
   "cell_type": "markdown",
   "metadata": {},
   "source": [
    "<a id='Step_3_6'></a>\n",
    "#### 3.6 Расстояние до центра в км"
   ]
  },
  {
   "cell_type": "code",
   "execution_count": 82,
   "metadata": {},
   "outputs": [],
   "source": [
    "data['distance_to_center_in_km'] = data['distance_to_center']/1000"
   ]
  },
  {
   "cell_type": "code",
   "execution_count": 83,
   "metadata": {},
   "outputs": [],
   "source": [
    "data['distance_to_center_in_km'] = data['distance_to_center_in_km'].round()"
   ]
  },
  {
   "cell_type": "code",
   "execution_count": 84,
   "metadata": {},
   "outputs": [
    {
     "name": "stdout",
     "output_type": "stream",
     "text": [
      "<class 'pandas.core.frame.DataFrame'>\n",
      "RangeIndex: 23699 entries, 0 to 23698\n",
      "Data columns (total 30 columns):\n",
      "total_images                23699 non-null int64\n",
      "last_price                  23699 non-null float64\n",
      "total_area                  23699 non-null float64\n",
      "exposition_start            23699 non-null datetime64[ns]\n",
      "rooms                       23699 non-null int64\n",
      "ceiling_height              23699 non-null float64\n",
      "floors_total                23699 non-null float64\n",
      "living_area                 23699 non-null float64\n",
      "floor                       23699 non-null int64\n",
      "is_apartment                23699 non-null int64\n",
      "is_studio                   23699 non-null int64\n",
      "is_open_plan                23699 non-null int64\n",
      "kitchen_area                23699 non-null float64\n",
      "balcony                     23699 non-null int64\n",
      "locality_name               23699 non-null object\n",
      "distance_to_airport         18236 non-null float64\n",
      "distance_to_center          18259 non-null float64\n",
      "parks_around                23699 non-null int64\n",
      "distance_to_park            23699 non-null int64\n",
      "ponds_around                23699 non-null int64\n",
      "distance_to_pond            23699 non-null int64\n",
      "days_in_exposition          20532 non-null float64\n",
      "price_per_meter             23699 non-null float64\n",
      "weekday                     23699 non-null int64\n",
      "month                       23699 non-null int64\n",
      "year                        23699 non-null int64\n",
      "floor_type                  23699 non-null object\n",
      "living_to_total_area        23699 non-null float64\n",
      "kitchen_to_total_area       23699 non-null float64\n",
      "distance_to_center_in_km    18259 non-null float64\n",
      "dtypes: datetime64[ns](1), float64(13), int64(14), object(2)\n",
      "memory usage: 5.4+ MB\n"
     ]
    }
   ],
   "source": [
    "#Проверим добавленную информацию\n",
    "data.info()"
   ]
  },
  {
   "cell_type": "code",
   "execution_count": 85,
   "metadata": {
    "scrolled": true
   },
   "outputs": [
    {
     "data": {
      "text/html": [
       "<div>\n",
       "<style scoped>\n",
       "    .dataframe tbody tr th:only-of-type {\n",
       "        vertical-align: middle;\n",
       "    }\n",
       "\n",
       "    .dataframe tbody tr th {\n",
       "        vertical-align: top;\n",
       "    }\n",
       "\n",
       "    .dataframe thead th {\n",
       "        text-align: right;\n",
       "    }\n",
       "</style>\n",
       "<table border=\"1\" class=\"dataframe\">\n",
       "  <thead>\n",
       "    <tr style=\"text-align: right;\">\n",
       "      <th></th>\n",
       "      <th>total_images</th>\n",
       "      <th>last_price</th>\n",
       "      <th>total_area</th>\n",
       "      <th>exposition_start</th>\n",
       "      <th>rooms</th>\n",
       "      <th>ceiling_height</th>\n",
       "      <th>floors_total</th>\n",
       "      <th>living_area</th>\n",
       "      <th>floor</th>\n",
       "      <th>is_apartment</th>\n",
       "      <th>...</th>\n",
       "      <th>distance_to_pond</th>\n",
       "      <th>days_in_exposition</th>\n",
       "      <th>price_per_meter</th>\n",
       "      <th>weekday</th>\n",
       "      <th>month</th>\n",
       "      <th>year</th>\n",
       "      <th>floor_type</th>\n",
       "      <th>living_to_total_area</th>\n",
       "      <th>kitchen_to_total_area</th>\n",
       "      <th>distance_to_center_in_km</th>\n",
       "    </tr>\n",
       "  </thead>\n",
       "  <tbody>\n",
       "    <tr>\n",
       "      <td>0</td>\n",
       "      <td>20</td>\n",
       "      <td>13000000.0</td>\n",
       "      <td>108.0</td>\n",
       "      <td>2019-03-07</td>\n",
       "      <td>3</td>\n",
       "      <td>2.70</td>\n",
       "      <td>16.0</td>\n",
       "      <td>51.000000</td>\n",
       "      <td>8</td>\n",
       "      <td>0</td>\n",
       "      <td>...</td>\n",
       "      <td>755</td>\n",
       "      <td>NaN</td>\n",
       "      <td>120370.370370</td>\n",
       "      <td>3</td>\n",
       "      <td>3</td>\n",
       "      <td>2019</td>\n",
       "      <td>другой</td>\n",
       "      <td>0.472222</td>\n",
       "      <td>0.231481</td>\n",
       "      <td>16.0</td>\n",
       "    </tr>\n",
       "    <tr>\n",
       "      <td>1</td>\n",
       "      <td>7</td>\n",
       "      <td>3350000.0</td>\n",
       "      <td>40.4</td>\n",
       "      <td>2018-12-04</td>\n",
       "      <td>1</td>\n",
       "      <td>2.67</td>\n",
       "      <td>11.0</td>\n",
       "      <td>18.600000</td>\n",
       "      <td>1</td>\n",
       "      <td>0</td>\n",
       "      <td>...</td>\n",
       "      <td>0</td>\n",
       "      <td>81.0</td>\n",
       "      <td>82920.792079</td>\n",
       "      <td>1</td>\n",
       "      <td>12</td>\n",
       "      <td>2018</td>\n",
       "      <td>первый</td>\n",
       "      <td>0.460396</td>\n",
       "      <td>0.272277</td>\n",
       "      <td>19.0</td>\n",
       "    </tr>\n",
       "    <tr>\n",
       "      <td>2</td>\n",
       "      <td>10</td>\n",
       "      <td>5196000.0</td>\n",
       "      <td>56.0</td>\n",
       "      <td>2015-08-20</td>\n",
       "      <td>2</td>\n",
       "      <td>2.55</td>\n",
       "      <td>5.0</td>\n",
       "      <td>34.300000</td>\n",
       "      <td>4</td>\n",
       "      <td>0</td>\n",
       "      <td>...</td>\n",
       "      <td>574</td>\n",
       "      <td>558.0</td>\n",
       "      <td>92785.714286</td>\n",
       "      <td>3</td>\n",
       "      <td>8</td>\n",
       "      <td>2015</td>\n",
       "      <td>другой</td>\n",
       "      <td>0.612500</td>\n",
       "      <td>0.148214</td>\n",
       "      <td>14.0</td>\n",
       "    </tr>\n",
       "    <tr>\n",
       "      <td>3</td>\n",
       "      <td>0</td>\n",
       "      <td>64900000.0</td>\n",
       "      <td>159.0</td>\n",
       "      <td>2015-07-24</td>\n",
       "      <td>3</td>\n",
       "      <td>2.67</td>\n",
       "      <td>14.0</td>\n",
       "      <td>99.422951</td>\n",
       "      <td>9</td>\n",
       "      <td>0</td>\n",
       "      <td>...</td>\n",
       "      <td>234</td>\n",
       "      <td>424.0</td>\n",
       "      <td>408176.100629</td>\n",
       "      <td>4</td>\n",
       "      <td>7</td>\n",
       "      <td>2015</td>\n",
       "      <td>другой</td>\n",
       "      <td>0.625302</td>\n",
       "      <td>0.140928</td>\n",
       "      <td>7.0</td>\n",
       "    </tr>\n",
       "    <tr>\n",
       "      <td>4</td>\n",
       "      <td>2</td>\n",
       "      <td>10000000.0</td>\n",
       "      <td>100.0</td>\n",
       "      <td>2018-06-19</td>\n",
       "      <td>2</td>\n",
       "      <td>3.03</td>\n",
       "      <td>14.0</td>\n",
       "      <td>32.000000</td>\n",
       "      <td>13</td>\n",
       "      <td>0</td>\n",
       "      <td>...</td>\n",
       "      <td>48</td>\n",
       "      <td>121.0</td>\n",
       "      <td>100000.000000</td>\n",
       "      <td>1</td>\n",
       "      <td>6</td>\n",
       "      <td>2018</td>\n",
       "      <td>другой</td>\n",
       "      <td>0.320000</td>\n",
       "      <td>0.410000</td>\n",
       "      <td>8.0</td>\n",
       "    </tr>\n",
       "  </tbody>\n",
       "</table>\n",
       "<p>5 rows × 30 columns</p>\n",
       "</div>"
      ],
      "text/plain": [
       "   total_images  last_price  total_area exposition_start  rooms  \\\n",
       "0            20  13000000.0       108.0       2019-03-07      3   \n",
       "1             7   3350000.0        40.4       2018-12-04      1   \n",
       "2            10   5196000.0        56.0       2015-08-20      2   \n",
       "3             0  64900000.0       159.0       2015-07-24      3   \n",
       "4             2  10000000.0       100.0       2018-06-19      2   \n",
       "\n",
       "   ceiling_height  floors_total  living_area  floor  is_apartment  ...  \\\n",
       "0            2.70          16.0    51.000000      8             0  ...   \n",
       "1            2.67          11.0    18.600000      1             0  ...   \n",
       "2            2.55           5.0    34.300000      4             0  ...   \n",
       "3            2.67          14.0    99.422951      9             0  ...   \n",
       "4            3.03          14.0    32.000000     13             0  ...   \n",
       "\n",
       "   distance_to_pond  days_in_exposition  price_per_meter  weekday month  year  \\\n",
       "0               755                 NaN    120370.370370        3     3  2019   \n",
       "1                 0                81.0     82920.792079        1    12  2018   \n",
       "2               574               558.0     92785.714286        3     8  2015   \n",
       "3               234               424.0    408176.100629        4     7  2015   \n",
       "4                48               121.0    100000.000000        1     6  2018   \n",
       "\n",
       "   floor_type  living_to_total_area  kitchen_to_total_area  \\\n",
       "0      другой              0.472222               0.231481   \n",
       "1      первый              0.460396               0.272277   \n",
       "2      другой              0.612500               0.148214   \n",
       "3      другой              0.625302               0.140928   \n",
       "4      другой              0.320000               0.410000   \n",
       "\n",
       "   distance_to_center_in_km  \n",
       "0                      16.0  \n",
       "1                      19.0  \n",
       "2                      14.0  \n",
       "3                       7.0  \n",
       "4                       8.0  \n",
       "\n",
       "[5 rows x 30 columns]"
      ]
     },
     "execution_count": 85,
     "metadata": {},
     "output_type": "execute_result"
    }
   ],
   "source": [
    "data.head()"
   ]
  },
  {
   "cell_type": "markdown",
   "metadata": {},
   "source": [
    "***<a href='#top'>Вернуться в начало</a>***"
   ]
  },
  {
   "cell_type": "markdown",
   "metadata": {},
   "source": [
    "<a id='Step_4'></a>\n",
    "### Шаг 4. Проведите исследовательский анализ данных и выполните инструкции:"
   ]
  },
  {
   "cell_type": "markdown",
   "metadata": {},
   "source": [
    "<a id='Step_4_1'></a>\n",
    "#### 4.1 Гистограммы: площадь, цена, число комнат, высота потолков"
   ]
  },
  {
   "cell_type": "code",
   "execution_count": 86,
   "metadata": {},
   "outputs": [
    {
     "data": {
      "image/png": "[encoded data removed]",
      "text/plain": [
       "<Figure size 432x288 with 1 Axes>"
      ]
     },
     "metadata": {
      "needs_background": "light"
     },
     "output_type": "display_data"
    },
    {
     "data": {
      "image/png": "[encoded data removed]",
      "text/plain": [
       "<Figure size 432x288 with 1 Axes>"
      ]
     },
     "metadata": {
      "needs_background": "light"
     },
     "output_type": "display_data"
    },
    {
     "data": {
      "image/png": "[encoded data removed]",
      "text/plain": [
       "<Figure size 432x288 with 1 Axes>"
      ]
     },
     "metadata": {
      "needs_background": "light"
     },
     "output_type": "display_data"
    },
    {
     "data": {
      "image/png": "[encoded data removed]",
      "text/plain": [
       "<Figure size 432x288 with 1 Axes>"
      ]
     },
     "metadata": {
      "needs_background": "light"
     },
     "output_type": "display_data"
    }
   ],
   "source": [
    "#Построим гистограммы для столбцов 'total_area', 'last_price', 'rooms', 'ceiling_height'\n",
    "for column in ['total_area', 'last_price', 'rooms', 'ceiling_height']:\n",
    "    data[column].hist(bins=30)\n",
    "    plt.xlabel(column)\n",
    "    plt.show()"
   ]
  },
  {
   "cell_type": "markdown",
   "metadata": {},
   "source": [
    "<a id='Step_4_2'></a>\n",
    "#### 4.2 Исследование времени продажи квартиры"
   ]
  },
  {
   "cell_type": "code",
   "execution_count": 87,
   "metadata": {},
   "outputs": [
    {
     "data": {
      "text/plain": [
       "<matplotlib.axes._subplots.AxesSubplot at 0x7f79c79844d0>"
      ]
     },
     "execution_count": 87,
     "metadata": {},
     "output_type": "execute_result"
    },
    {
     "data": {
      "image/png": "[encoded data removed]",
      "text/plain": [
       "<Figure size 432x288 with 1 Axes>"
      ]
     },
     "metadata": {
      "needs_background": "light"
     },
     "output_type": "display_data"
    }
   ],
   "source": [
    "#Построим гистограммы для столбца 'days_in_exposition'\n",
    "data['days_in_exposition'].hist(bins=50)"
   ]
  },
  {
   "cell_type": "code",
   "execution_count": 88,
   "metadata": {},
   "outputs": [
    {
     "data": {
      "text/plain": [
       "180.7652932008572"
      ]
     },
     "execution_count": 88,
     "metadata": {},
     "output_type": "execute_result"
    }
   ],
   "source": [
    "#Найдем среднее значение\n",
    "data['days_in_exposition'].mean()"
   ]
  },
  {
   "cell_type": "code",
   "execution_count": 89,
   "metadata": {},
   "outputs": [
    {
     "data": {
      "text/plain": [
       "95.0"
      ]
     },
     "execution_count": 89,
     "metadata": {},
     "output_type": "execute_result"
    }
   ],
   "source": [
    "#Найдем медианное значение\n",
    "data['days_in_exposition'].median()"
   ]
  },
  {
   "cell_type": "code",
   "execution_count": 90,
   "metadata": {},
   "outputs": [
    {
     "data": {
      "text/plain": [
       "count    20532.000000\n",
       "mean       180.765293\n",
       "std        219.703809\n",
       "min          0.000000\n",
       "25%         45.000000\n",
       "50%         95.000000\n",
       "75%        232.000000\n",
       "max       1580.000000\n",
       "Name: days_in_exposition, dtype: float64"
      ]
     },
     "execution_count": 90,
     "metadata": {},
     "output_type": "execute_result"
    }
   ],
   "source": [
    "#Исследуем стлобец методом describe\n",
    "data['days_in_exposition'].describe()"
   ]
  },
  {
   "cell_type": "code",
   "execution_count": 91,
   "metadata": {},
   "outputs": [
    {
     "data": {
      "text/plain": [
       "(0, 1500)"
      ]
     },
     "execution_count": 91,
     "metadata": {},
     "output_type": "execute_result"
    },
    {
     "data": {
      "image/png": "[encoded data removed]",
      "text/plain": [
       "<Figure size 720x576 with 1 Axes>"
      ]
     },
     "metadata": {
      "needs_background": "light"
     },
     "output_type": "display_data"
    }
   ],
   "source": [
    "data.boxplot('days_in_exposition', figsize=(10, 8), grid=True)\n",
    "plt.ylim(0, 1500)"
   ]
  },
  {
   "cell_type": "markdown",
   "metadata": {},
   "source": []
  },
  {
   "cell_type": "markdown",
   "metadata": {},
   "source": [
    "<a id='Step_4_3'></a>\n",
    "#### 4.3 Исследование выбросов"
   ]
  },
  {
   "cell_type": "markdown",
   "metadata": {},
   "source": [
    "Для столбцов celling_height и floors_total выполнено на этапе переработки данных\n"
   ]
  },
  {
   "cell_type": "code",
   "execution_count": 92,
   "metadata": {},
   "outputs": [
    {
     "data": {
      "text/plain": [
       "(0, 20)"
      ]
     },
     "execution_count": 92,
     "metadata": {},
     "output_type": "execute_result"
    },
    {
     "data": {
      "image/png": "[encoded data removed]",
      "text/plain": [
       "<Figure size 720x576 with 1 Axes>"
      ]
     },
     "metadata": {
      "needs_background": "light"
     },
     "output_type": "display_data"
    }
   ],
   "source": [
    "data.boxplot('rooms', figsize=(10, 8), grid=True)\n",
    "plt.ylim(0, 20)"
   ]
  },
  {
   "cell_type": "code",
   "execution_count": 93,
   "metadata": {},
   "outputs": [
    {
     "data": {
      "text/plain": [
       "90"
      ]
     },
     "execution_count": 93,
     "metadata": {},
     "output_type": "execute_result"
    }
   ],
   "source": [
    "data.query('rooms>6')['rooms'].count()"
   ]
  },
  {
   "cell_type": "markdown",
   "metadata": {},
   "source": [
    "Квартиры более 6 комнат не характерны для нашей выборки"
   ]
  },
  {
   "cell_type": "code",
   "execution_count": 94,
   "metadata": {},
   "outputs": [
    {
     "data": {
      "text/plain": [
       "(0, 2000)"
      ]
     },
     "execution_count": 94,
     "metadata": {},
     "output_type": "execute_result"
    },
    {
     "data": {
      "image/png": "[encoded data removed]",
      "text/plain": [
       "<Figure size 720x576 with 1 Axes>"
      ]
     },
     "metadata": {
      "needs_background": "light"
     },
     "output_type": "display_data"
    }
   ],
   "source": [
    "data.boxplot('days_in_exposition', figsize=(10, 8), grid=True)\n",
    "plt.ylim(0, 2000)"
   ]
  },
  {
   "cell_type": "code",
   "execution_count": 95,
   "metadata": {},
   "outputs": [
    {
     "data": {
      "text/plain": [
       "14"
      ]
     },
     "execution_count": 95,
     "metadata": {},
     "output_type": "execute_result"
    }
   ],
   "source": [
    "data.query('days_in_exposition==0')['days_in_exposition'].count()"
   ]
  },
  {
   "cell_type": "code",
   "execution_count": 96,
   "metadata": {},
   "outputs": [
    {
     "data": {
      "text/plain": [
       "1749"
      ]
     },
     "execution_count": 96,
     "metadata": {},
     "output_type": "execute_result"
    }
   ],
   "source": [
    "data.query('days_in_exposition>500')['days_in_exposition'].count()"
   ]
  },
  {
   "cell_type": "markdown",
   "metadata": {},
   "source": [
    "0 значения в столбце days_in_exposition, скорее всего выбросы. Квартира не может продаваться 0 дней. Значения более 500 могут пригодиться в дальнейшем исследовании"
   ]
  },
  {
   "cell_type": "code",
   "execution_count": 97,
   "metadata": {},
   "outputs": [],
   "source": [
    "#Для дальнейшей работы создадим срез, в котором исключим квартиры более 6 комнат и объявления со сроком публикации 0 дней\n",
    "cleaned_data = data.query('rooms <= 6 and days_in_exposition != 0')"
   ]
  },
  {
   "cell_type": "markdown",
   "metadata": {},
   "source": [
    "<a id='Step_4_4'></a>\n",
    "#### 4.4 Зависимость цены от площади"
   ]
  },
  {
   "cell_type": "code",
   "execution_count": 98,
   "metadata": {},
   "outputs": [
    {
     "data": {
      "text/plain": [
       "<matplotlib.axes._subplots.AxesSubplot at 0x7f79c5401410>"
      ]
     },
     "execution_count": 98,
     "metadata": {},
     "output_type": "execute_result"
    },
    {
     "data": {
      "image/png": "[encoded data removed]",
      "text/plain": [
       "<Figure size 720x576 with 1 Axes>"
      ]
     },
     "metadata": {
      "needs_background": "light"
     },
     "output_type": "display_data"
    }
   ],
   "source": [
    " cleaned_data.plot(x='total_area', y='last_price', kind='scatter', figsize=(10, 8), grid=True, alpha=0.5)"
   ]
  },
  {
   "cell_type": "code",
   "execution_count": 99,
   "metadata": {},
   "outputs": [
    {
     "data": {
      "text/plain": [
       "<matplotlib.axes._subplots.AxesSubplot at 0x7f79c537ca10>"
      ]
     },
     "execution_count": 99,
     "metadata": {},
     "output_type": "execute_result"
    },
    {
     "data": {
      "image/png": "[encoded data removed]",
      "text/plain": [
       "<Figure size 720x576 with 1 Axes>"
      ]
     },
     "metadata": {
      "needs_background": "light"
     },
     "output_type": "display_data"
    }
   ],
   "source": [
    " cleaned_data.plot(x='total_area', y='price_per_meter', kind='scatter', figsize=(10, 8), grid=True, alpha=0.3)"
   ]
  },
  {
   "cell_type": "markdown",
   "metadata": {},
   "source": [
    "<a id='Step_4_5'></a>\n",
    "#### 4.5 Зависимость цены от числа комнат"
   ]
  },
  {
   "cell_type": "code",
   "execution_count": 100,
   "metadata": {},
   "outputs": [
    {
     "data": {
      "text/html": [
       "<div>\n",
       "<style scoped>\n",
       "    .dataframe tbody tr th:only-of-type {\n",
       "        vertical-align: middle;\n",
       "    }\n",
       "\n",
       "    .dataframe tbody tr th {\n",
       "        vertical-align: top;\n",
       "    }\n",
       "\n",
       "    .dataframe thead tr th {\n",
       "        text-align: left;\n",
       "    }\n",
       "\n",
       "    .dataframe thead tr:last-of-type th {\n",
       "        text-align: right;\n",
       "    }\n",
       "</style>\n",
       "<table border=\"1\" class=\"dataframe\">\n",
       "  <thead>\n",
       "    <tr>\n",
       "      <th></th>\n",
       "      <th colspan=\"2\" halign=\"left\">last_price</th>\n",
       "    </tr>\n",
       "    <tr>\n",
       "      <th></th>\n",
       "      <th>count</th>\n",
       "      <th>median</th>\n",
       "    </tr>\n",
       "    <tr>\n",
       "      <th>rooms</th>\n",
       "      <th></th>\n",
       "      <th></th>\n",
       "    </tr>\n",
       "  </thead>\n",
       "  <tbody>\n",
       "    <tr>\n",
       "      <td>0</td>\n",
       "      <td>183</td>\n",
       "      <td>2700000.0</td>\n",
       "    </tr>\n",
       "    <tr>\n",
       "      <td>1</td>\n",
       "      <td>8047</td>\n",
       "      <td>3600000.0</td>\n",
       "    </tr>\n",
       "    <tr>\n",
       "      <td>2</td>\n",
       "      <td>7940</td>\n",
       "      <td>4770169.0</td>\n",
       "    </tr>\n",
       "    <tr>\n",
       "      <td>3</td>\n",
       "      <td>5814</td>\n",
       "      <td>6200000.0</td>\n",
       "    </tr>\n",
       "    <tr>\n",
       "      <td>4</td>\n",
       "      <td>1180</td>\n",
       "      <td>9000000.0</td>\n",
       "    </tr>\n",
       "    <tr>\n",
       "      <td>5</td>\n",
       "      <td>326</td>\n",
       "      <td>14000000.0</td>\n",
       "    </tr>\n",
       "    <tr>\n",
       "      <td>6</td>\n",
       "      <td>105</td>\n",
       "      <td>19000000.0</td>\n",
       "    </tr>\n",
       "  </tbody>\n",
       "</table>\n",
       "</div>"
      ],
      "text/plain": [
       "      last_price            \n",
       "           count      median\n",
       "rooms                       \n",
       "0            183   2700000.0\n",
       "1           8047   3600000.0\n",
       "2           7940   4770169.0\n",
       "3           5814   6200000.0\n",
       "4           1180   9000000.0\n",
       "5            326  14000000.0\n",
       "6            105  19000000.0"
      ]
     },
     "execution_count": 100,
     "metadata": {},
     "output_type": "execute_result"
    }
   ],
   "source": [
    " cleaned_data.groupby('rooms').agg({'last_price': ['count', 'median']})"
   ]
  },
  {
   "cell_type": "code",
   "execution_count": 101,
   "metadata": {},
   "outputs": [
    {
     "data": {
      "text/html": [
       "<div>\n",
       "<style scoped>\n",
       "    .dataframe tbody tr th:only-of-type {\n",
       "        vertical-align: middle;\n",
       "    }\n",
       "\n",
       "    .dataframe tbody tr th {\n",
       "        vertical-align: top;\n",
       "    }\n",
       "\n",
       "    .dataframe thead tr th {\n",
       "        text-align: left;\n",
       "    }\n",
       "\n",
       "    .dataframe thead tr:last-of-type th {\n",
       "        text-align: right;\n",
       "    }\n",
       "</style>\n",
       "<table border=\"1\" class=\"dataframe\">\n",
       "  <thead>\n",
       "    <tr>\n",
       "      <th></th>\n",
       "      <th colspan=\"2\" halign=\"left\">price_per_meter</th>\n",
       "    </tr>\n",
       "    <tr>\n",
       "      <th></th>\n",
       "      <th>count</th>\n",
       "      <th>median</th>\n",
       "    </tr>\n",
       "    <tr>\n",
       "      <th>rooms</th>\n",
       "      <th></th>\n",
       "      <th></th>\n",
       "    </tr>\n",
       "  </thead>\n",
       "  <tbody>\n",
       "    <tr>\n",
       "      <td>0</td>\n",
       "      <td>183</td>\n",
       "      <td>105098.039216</td>\n",
       "    </tr>\n",
       "    <tr>\n",
       "      <td>1</td>\n",
       "      <td>8047</td>\n",
       "      <td>100000.000000</td>\n",
       "    </tr>\n",
       "    <tr>\n",
       "      <td>2</td>\n",
       "      <td>7940</td>\n",
       "      <td>92796.569440</td>\n",
       "    </tr>\n",
       "    <tr>\n",
       "      <td>3</td>\n",
       "      <td>5814</td>\n",
       "      <td>88983.050847</td>\n",
       "    </tr>\n",
       "    <tr>\n",
       "      <td>4</td>\n",
       "      <td>1180</td>\n",
       "      <td>92666.666667</td>\n",
       "    </tr>\n",
       "    <tr>\n",
       "      <td>5</td>\n",
       "      <td>326</td>\n",
       "      <td>96517.068099</td>\n",
       "    </tr>\n",
       "    <tr>\n",
       "      <td>6</td>\n",
       "      <td>105</td>\n",
       "      <td>99411.764706</td>\n",
       "    </tr>\n",
       "  </tbody>\n",
       "</table>\n",
       "</div>"
      ],
      "text/plain": [
       "      price_per_meter               \n",
       "                count         median\n",
       "rooms                               \n",
       "0                 183  105098.039216\n",
       "1                8047  100000.000000\n",
       "2                7940   92796.569440\n",
       "3                5814   88983.050847\n",
       "4                1180   92666.666667\n",
       "5                 326   96517.068099\n",
       "6                 105   99411.764706"
      ]
     },
     "execution_count": 101,
     "metadata": {},
     "output_type": "execute_result"
    }
   ],
   "source": [
    "cleaned_data.groupby('rooms').agg({'price_per_meter': ['count', 'median']})"
   ]
  },
  {
   "cell_type": "markdown",
   "metadata": {},
   "source": []
  },
  {
   "cell_type": "markdown",
   "metadata": {},
   "source": [
    "<a id='Step_4_6'></a>\n",
    "#### 4.6 Зависимость цены от удаленности от центра"
   ]
  },
  {
   "cell_type": "code",
   "execution_count": 102,
   "metadata": {},
   "outputs": [
    {
     "data": {
      "text/plain": [
       "<matplotlib.axes._subplots.AxesSubplot at 0x7f79c5365810>"
      ]
     },
     "execution_count": 102,
     "metadata": {},
     "output_type": "execute_result"
    },
    {
     "data": {
      "image/png": "[encoded data removed]",
      "text/plain": [
       "<Figure size 720x576 with 1 Axes>"
      ]
     },
     "metadata": {
      "needs_background": "light"
     },
     "output_type": "display_data"
    }
   ],
   "source": [
    "cleaned_data.plot(x='distance_to_center', y='last_price', kind='scatter', figsize=(10, 8), grid=True, alpha=0.3)"
   ]
  },
  {
   "cell_type": "code",
   "execution_count": 103,
   "metadata": {},
   "outputs": [
    {
     "data": {
      "text/plain": [
       "<matplotlib.axes._subplots.AxesSubplot at 0x7f79c5280ed0>"
      ]
     },
     "execution_count": 103,
     "metadata": {},
     "output_type": "execute_result"
    },
    {
     "data": {
      "image/png": "[encoded data removed]",
      "text/plain": [
       "<Figure size 720x576 with 1 Axes>"
      ]
     },
     "metadata": {
      "needs_background": "light"
     },
     "output_type": "display_data"
    }
   ],
   "source": [
    "cleaned_data.plot(x='distance_to_center', y='price_per_meter', kind='scatter', figsize=(10, 8), grid=True, alpha=0.3)"
   ]
  },
  {
   "cell_type": "markdown",
   "metadata": {},
   "source": []
  },
  {
   "cell_type": "markdown",
   "metadata": {},
   "source": [
    "<a id='Step_4_7'></a>\n",
    "#### 4.7 Зависимость цены от этажа"
   ]
  },
  {
   "cell_type": "code",
   "execution_count": 104,
   "metadata": {},
   "outputs": [
    {
     "data": {
      "text/html": [
       "<div>\n",
       "<style scoped>\n",
       "    .dataframe tbody tr th:only-of-type {\n",
       "        vertical-align: middle;\n",
       "    }\n",
       "\n",
       "    .dataframe tbody tr th {\n",
       "        vertical-align: top;\n",
       "    }\n",
       "\n",
       "    .dataframe thead tr th {\n",
       "        text-align: left;\n",
       "    }\n",
       "\n",
       "    .dataframe thead tr:last-of-type th {\n",
       "        text-align: right;\n",
       "    }\n",
       "</style>\n",
       "<table border=\"1\" class=\"dataframe\">\n",
       "  <thead>\n",
       "    <tr>\n",
       "      <th></th>\n",
       "      <th colspan=\"2\" halign=\"left\">last_price</th>\n",
       "    </tr>\n",
       "    <tr>\n",
       "      <th></th>\n",
       "      <th>count</th>\n",
       "      <th>median</th>\n",
       "    </tr>\n",
       "    <tr>\n",
       "      <th>floor_type</th>\n",
       "      <th></th>\n",
       "      <th></th>\n",
       "    </tr>\n",
       "  </thead>\n",
       "  <tbody>\n",
       "    <tr>\n",
       "      <td>другой</td>\n",
       "      <td>17338</td>\n",
       "      <td>4824000.0</td>\n",
       "    </tr>\n",
       "    <tr>\n",
       "      <td>первый</td>\n",
       "      <td>2882</td>\n",
       "      <td>3900000.0</td>\n",
       "    </tr>\n",
       "    <tr>\n",
       "      <td>последний</td>\n",
       "      <td>3375</td>\n",
       "      <td>4300000.0</td>\n",
       "    </tr>\n",
       "  </tbody>\n",
       "</table>\n",
       "</div>"
      ],
      "text/plain": [
       "           last_price           \n",
       "                count     median\n",
       "floor_type                      \n",
       "другой          17338  4824000.0\n",
       "первый           2882  3900000.0\n",
       "последний        3375  4300000.0"
      ]
     },
     "execution_count": 104,
     "metadata": {},
     "output_type": "execute_result"
    }
   ],
   "source": [
    "cleaned_data.groupby('floor_type').agg({'last_price': ['count', 'median']})"
   ]
  },
  {
   "cell_type": "code",
   "execution_count": 105,
   "metadata": {},
   "outputs": [
    {
     "data": {
      "text/html": [
       "<div>\n",
       "<style scoped>\n",
       "    .dataframe tbody tr th:only-of-type {\n",
       "        vertical-align: middle;\n",
       "    }\n",
       "\n",
       "    .dataframe tbody tr th {\n",
       "        vertical-align: top;\n",
       "    }\n",
       "\n",
       "    .dataframe thead tr th {\n",
       "        text-align: left;\n",
       "    }\n",
       "\n",
       "    .dataframe thead tr:last-of-type th {\n",
       "        text-align: right;\n",
       "    }\n",
       "</style>\n",
       "<table border=\"1\" class=\"dataframe\">\n",
       "  <thead>\n",
       "    <tr>\n",
       "      <th></th>\n",
       "      <th colspan=\"2\" halign=\"left\">price_per_meter</th>\n",
       "    </tr>\n",
       "    <tr>\n",
       "      <th></th>\n",
       "      <th>count</th>\n",
       "      <th>median</th>\n",
       "    </tr>\n",
       "    <tr>\n",
       "      <th>floor_type</th>\n",
       "      <th></th>\n",
       "      <th></th>\n",
       "    </tr>\n",
       "  </thead>\n",
       "  <tbody>\n",
       "    <tr>\n",
       "      <td>другой</td>\n",
       "      <td>17338</td>\n",
       "      <td>98264.949287</td>\n",
       "    </tr>\n",
       "    <tr>\n",
       "      <td>первый</td>\n",
       "      <td>2882</td>\n",
       "      <td>81250.000000</td>\n",
       "    </tr>\n",
       "    <tr>\n",
       "      <td>последний</td>\n",
       "      <td>3375</td>\n",
       "      <td>87649.402390</td>\n",
       "    </tr>\n",
       "  </tbody>\n",
       "</table>\n",
       "</div>"
      ],
      "text/plain": [
       "           price_per_meter              \n",
       "                     count        median\n",
       "floor_type                              \n",
       "другой               17338  98264.949287\n",
       "первый                2882  81250.000000\n",
       "последний             3375  87649.402390"
      ]
     },
     "execution_count": 105,
     "metadata": {},
     "output_type": "execute_result"
    }
   ],
   "source": [
    "cleaned_data.groupby('floor_type').agg({'price_per_meter': ['count', 'median']})"
   ]
  },
  {
   "cell_type": "markdown",
   "metadata": {},
   "source": []
  },
  {
   "cell_type": "markdown",
   "metadata": {},
   "source": [
    "<a id='Step_4_8'></a>\n",
    "#### 4.8 Зависимость цены от даты размещения:"
   ]
  },
  {
   "cell_type": "markdown",
   "metadata": {},
   "source": [
    "дня недели"
   ]
  },
  {
   "cell_type": "code",
   "execution_count": 106,
   "metadata": {},
   "outputs": [
    {
     "data": {
      "text/plain": [
       "<matplotlib.axes._subplots.AxesSubplot at 0x7f79c54a9150>"
      ]
     },
     "execution_count": 106,
     "metadata": {},
     "output_type": "execute_result"
    },
    {
     "data": {
      "image/png": "[encoded data removed]",
      "text/plain": [
       "<Figure size 720x576 with 1 Axes>"
      ]
     },
     "metadata": {
      "needs_background": "light"
     },
     "output_type": "display_data"
    }
   ],
   "source": [
    "cleaned_data.plot(x='weekday', y='last_price', kind='scatter', figsize=(10, 8), grid=True, alpha=0.3)"
   ]
  },
  {
   "cell_type": "markdown",
   "metadata": {},
   "source": [
    "месяца"
   ]
  },
  {
   "cell_type": "code",
   "execution_count": 107,
   "metadata": {},
   "outputs": [
    {
     "data": {
      "text/plain": [
       "<matplotlib.axes._subplots.AxesSubplot at 0x7f79c5280950>"
      ]
     },
     "execution_count": 107,
     "metadata": {},
     "output_type": "execute_result"
    },
    {
     "data": {
      "image/png": "[encoded data removed]",
      "text/plain": [
       "<Figure size 720x576 with 1 Axes>"
      ]
     },
     "metadata": {
      "needs_background": "light"
     },
     "output_type": "display_data"
    }
   ],
   "source": [
    "cleaned_data.plot(x='month', y='last_price', kind='scatter', figsize=(10, 8), grid=True, alpha=0.3)"
   ]
  },
  {
   "cell_type": "markdown",
   "metadata": {},
   "source": [
    "года"
   ]
  },
  {
   "cell_type": "code",
   "execution_count": 108,
   "metadata": {
    "scrolled": true
   },
   "outputs": [
    {
     "data": {
      "text/plain": [
       "<matplotlib.axes._subplots.AxesSubplot at 0x7f79c79cbd90>"
      ]
     },
     "execution_count": 108,
     "metadata": {},
     "output_type": "execute_result"
    },
    {
     "data": {
      "image/png": "[encoded data removed]",
      "text/plain": [
       "<Figure size 720x576 with 1 Axes>"
      ]
     },
     "metadata": {
      "needs_background": "light"
     },
     "output_type": "display_data"
    }
   ],
   "source": [
    "cleaned_data.plot(x='year', y='last_price', kind='scatter', figsize=(10, 8), grid=True, alpha=0.3)"
   ]
  },
  {
   "cell_type": "markdown",
   "metadata": {},
   "source": [
    "### Выводы:\n",
    "#### Время продажи квартиры:\n",
    "<p>Медианное время продажи квартиры - 95 дней</p>\n",
    "<p>Быстрое время продажи квартиры - менее 45 дней</p>\n",
    "<p>Долгое время продажи квартиры - более 500 дней. Было бы интересно исследовать причины длительной продажижи квартир. На основании исследования построить рекомендательный сервис для покупателей.</p>\n",
    "<p>Встречаются квартиры с временем продажи 0 дней. Необходимо исследовать причину появления таких значений. Возможно, покупатель снял объявление после публикации.</p>\n",
    "Вывод: зависимости цены от даты публикации объявления не выявлено\n",
    "#### Зависимость цены от площади: \n",
    "<p>По мере возрастания площади квартиры цена возрастает. Для больших квартир более 100 метров разброс значений цены больше, чем для маленьких.</p>\n",
    "#### Завсимость цены от количества комнат: \n",
    "<p>по мере возрастания количества комнат медианная 'last_price' возрастает, а медианная 'price_per_meter' - убывает</p>\n",
    "#### Зависимость цены от удаленности от центра: \n",
    "<p>квартиры, находящиеся ближе к центру стоят дороже. Для квартир, где расстояние до центра менее 10000 м характерен больший разброс значений: встречаются очень дорогие.</p>\n",
    "#### Зависимость цены от этажа:\n",
    "<p>Стоимость квартир крайних этажей ниже. Последний этаж стоит дороже первого</p>\n",
    "#### Зависимость цены даты публикации объявления:\n",
    "<p>Зависимость не выявлена</p>"
   ]
  },
  {
   "cell_type": "markdown",
   "metadata": {},
   "source": [
    "<a id='Step_4_9'></a>\n",
    "#### 4.9 Исследование топ-10 населенных пунктов по количеству объявлений"
   ]
  },
  {
   "cell_type": "code",
   "execution_count": 109,
   "metadata": {},
   "outputs": [],
   "source": [
    "top_locality_names = cleaned_data.groupby('locality_name').agg({'price_per_meter': ['count', 'median']})"
   ]
  },
  {
   "cell_type": "code",
   "execution_count": 110,
   "metadata": {},
   "outputs": [],
   "source": [
    "top_locality_names.columns = ['count', 'median_price_per_meter']"
   ]
  },
  {
   "cell_type": "code",
   "execution_count": 111,
   "metadata": {},
   "outputs": [
    {
     "data": {
      "text/html": [
       "<div>\n",
       "<style scoped>\n",
       "    .dataframe tbody tr th:only-of-type {\n",
       "        vertical-align: middle;\n",
       "    }\n",
       "\n",
       "    .dataframe tbody tr th {\n",
       "        vertical-align: top;\n",
       "    }\n",
       "\n",
       "    .dataframe thead th {\n",
       "        text-align: right;\n",
       "    }\n",
       "</style>\n",
       "<table border=\"1\" class=\"dataframe\">\n",
       "  <thead>\n",
       "    <tr style=\"text-align: right;\">\n",
       "      <th></th>\n",
       "      <th>count</th>\n",
       "      <th>median_price_per_meter</th>\n",
       "    </tr>\n",
       "    <tr>\n",
       "      <th>locality_name</th>\n",
       "      <th></th>\n",
       "      <th></th>\n",
       "    </tr>\n",
       "  </thead>\n",
       "  <tbody>\n",
       "    <tr>\n",
       "      <td>Санкт-Петербург</td>\n",
       "      <td>15654</td>\n",
       "      <td>104749.301676</td>\n",
       "    </tr>\n",
       "    <tr>\n",
       "      <td>поселок Мурино</td>\n",
       "      <td>556</td>\n",
       "      <td>85878.462169</td>\n",
       "    </tr>\n",
       "    <tr>\n",
       "      <td>поселок Шушары</td>\n",
       "      <td>440</td>\n",
       "      <td>76876.172608</td>\n",
       "    </tr>\n",
       "    <tr>\n",
       "      <td>Всеволожск</td>\n",
       "      <td>396</td>\n",
       "      <td>65789.473684</td>\n",
       "    </tr>\n",
       "    <tr>\n",
       "      <td>Пушкин</td>\n",
       "      <td>368</td>\n",
       "      <td>99993.589744</td>\n",
       "    </tr>\n",
       "    <tr>\n",
       "      <td>Колпино</td>\n",
       "      <td>337</td>\n",
       "      <td>74722.222222</td>\n",
       "    </tr>\n",
       "    <tr>\n",
       "      <td>поселок Парголово</td>\n",
       "      <td>326</td>\n",
       "      <td>91780.224134</td>\n",
       "    </tr>\n",
       "    <tr>\n",
       "      <td>Гатчина</td>\n",
       "      <td>307</td>\n",
       "      <td>67796.610169</td>\n",
       "    </tr>\n",
       "    <tr>\n",
       "      <td>деревня Кудрово</td>\n",
       "      <td>299</td>\n",
       "      <td>91860.465116</td>\n",
       "    </tr>\n",
       "    <tr>\n",
       "      <td>Выборг</td>\n",
       "      <td>237</td>\n",
       "      <td>58158.319871</td>\n",
       "    </tr>\n",
       "  </tbody>\n",
       "</table>\n",
       "</div>"
      ],
      "text/plain": [
       "                   count  median_price_per_meter\n",
       "locality_name                                   \n",
       "Санкт-Петербург    15654           104749.301676\n",
       "поселок Мурино       556            85878.462169\n",
       "поселок Шушары       440            76876.172608\n",
       "Всеволожск           396            65789.473684\n",
       "Пушкин               368            99993.589744\n",
       "Колпино              337            74722.222222\n",
       "поселок Парголово    326            91780.224134\n",
       "Гатчина              307            67796.610169\n",
       "деревня Кудрово      299            91860.465116\n",
       "Выборг               237            58158.319871"
      ]
     },
     "execution_count": 111,
     "metadata": {},
     "output_type": "execute_result"
    }
   ],
   "source": [
    "#10 населённых пунктов с наибольшим числом объявлений\n",
    "top_locality_names.sort_values(by='count', ascending=False).head(10)"
   ]
  },
  {
   "cell_type": "code",
   "execution_count": 112,
   "metadata": {},
   "outputs": [
    {
     "data": {
      "text/html": [
       "<div>\n",
       "<style scoped>\n",
       "    .dataframe tbody tr th:only-of-type {\n",
       "        vertical-align: middle;\n",
       "    }\n",
       "\n",
       "    .dataframe tbody tr th {\n",
       "        vertical-align: top;\n",
       "    }\n",
       "\n",
       "    .dataframe thead th {\n",
       "        text-align: right;\n",
       "    }\n",
       "</style>\n",
       "<table border=\"1\" class=\"dataframe\">\n",
       "  <thead>\n",
       "    <tr style=\"text-align: right;\">\n",
       "      <th></th>\n",
       "      <th>count</th>\n",
       "      <th>median_price_per_meter</th>\n",
       "    </tr>\n",
       "    <tr>\n",
       "      <th>locality_name</th>\n",
       "      <th></th>\n",
       "      <th></th>\n",
       "    </tr>\n",
       "  </thead>\n",
       "  <tbody>\n",
       "    <tr>\n",
       "      <td>Санкт-Петербург</td>\n",
       "      <td>15654</td>\n",
       "      <td>104749.301676</td>\n",
       "    </tr>\n",
       "    <tr>\n",
       "      <td>Зеленогорск</td>\n",
       "      <td>24</td>\n",
       "      <td>101666.666667</td>\n",
       "    </tr>\n",
       "    <tr>\n",
       "      <td>Кудрово</td>\n",
       "      <td>172</td>\n",
       "      <td>100000.000000</td>\n",
       "    </tr>\n",
       "    <tr>\n",
       "      <td>Пушкин</td>\n",
       "      <td>368</td>\n",
       "      <td>99993.589744</td>\n",
       "    </tr>\n",
       "    <tr>\n",
       "      <td>Сестрорецк</td>\n",
       "      <td>183</td>\n",
       "      <td>99678.456592</td>\n",
       "    </tr>\n",
       "    <tr>\n",
       "      <td>поселок Левашово</td>\n",
       "      <td>1</td>\n",
       "      <td>96997.690531</td>\n",
       "    </tr>\n",
       "    <tr>\n",
       "      <td>деревня Кудрово</td>\n",
       "      <td>299</td>\n",
       "      <td>91860.465116</td>\n",
       "    </tr>\n",
       "    <tr>\n",
       "      <td>поселок Парголово</td>\n",
       "      <td>326</td>\n",
       "      <td>91780.224134</td>\n",
       "    </tr>\n",
       "    <tr>\n",
       "      <td>деревня Мистолово</td>\n",
       "      <td>11</td>\n",
       "      <td>90888.888889</td>\n",
       "    </tr>\n",
       "    <tr>\n",
       "      <td>Мурино</td>\n",
       "      <td>33</td>\n",
       "      <td>89928.057554</td>\n",
       "    </tr>\n",
       "  </tbody>\n",
       "</table>\n",
       "</div>"
      ],
      "text/plain": [
       "                   count  median_price_per_meter\n",
       "locality_name                                   \n",
       "Санкт-Петербург    15654           104749.301676\n",
       "Зеленогорск           24           101666.666667\n",
       "Кудрово              172           100000.000000\n",
       "Пушкин               368            99993.589744\n",
       "Сестрорецк           183            99678.456592\n",
       "поселок Левашово       1            96997.690531\n",
       "деревня Кудрово      299            91860.465116\n",
       "поселок Парголово    326            91780.224134\n",
       "деревня Мистолово     11            90888.888889\n",
       "Мурино                33            89928.057554"
      ]
     },
     "execution_count": 112,
     "metadata": {},
     "output_type": "execute_result"
    }
   ],
   "source": [
    "#10 населённых пунктов с самой высокой стоимостью жилья\n",
    "top_locality_names.sort_values(by='median_price_per_meter', ascending=False).head(10)"
   ]
  },
  {
   "cell_type": "code",
   "execution_count": 113,
   "metadata": {},
   "outputs": [
    {
     "data": {
      "text/html": [
       "<div>\n",
       "<style scoped>\n",
       "    .dataframe tbody tr th:only-of-type {\n",
       "        vertical-align: middle;\n",
       "    }\n",
       "\n",
       "    .dataframe tbody tr th {\n",
       "        vertical-align: top;\n",
       "    }\n",
       "\n",
       "    .dataframe thead th {\n",
       "        text-align: right;\n",
       "    }\n",
       "</style>\n",
       "<table border=\"1\" class=\"dataframe\">\n",
       "  <thead>\n",
       "    <tr style=\"text-align: right;\">\n",
       "      <th></th>\n",
       "      <th>count</th>\n",
       "      <th>median_price_per_meter</th>\n",
       "    </tr>\n",
       "    <tr>\n",
       "      <th>locality_name</th>\n",
       "      <th></th>\n",
       "      <th></th>\n",
       "    </tr>\n",
       "  </thead>\n",
       "  <tbody>\n",
       "    <tr>\n",
       "      <td>поселок Житково</td>\n",
       "      <td>2</td>\n",
       "      <td>14956.275202</td>\n",
       "    </tr>\n",
       "    <tr>\n",
       "      <td>деревня Ям-Тесово</td>\n",
       "      <td>2</td>\n",
       "      <td>13711.553373</td>\n",
       "    </tr>\n",
       "    <tr>\n",
       "      <td>деревня Сижно</td>\n",
       "      <td>1</td>\n",
       "      <td>13709.677419</td>\n",
       "    </tr>\n",
       "    <tr>\n",
       "      <td>поселок Тесово-4</td>\n",
       "      <td>1</td>\n",
       "      <td>12931.034483</td>\n",
       "    </tr>\n",
       "    <tr>\n",
       "      <td>деревня Малая Романовка</td>\n",
       "      <td>1</td>\n",
       "      <td>12724.550898</td>\n",
       "    </tr>\n",
       "    <tr>\n",
       "      <td>поселок Совхозный</td>\n",
       "      <td>2</td>\n",
       "      <td>12629.129129</td>\n",
       "    </tr>\n",
       "    <tr>\n",
       "      <td>деревня Выскатка</td>\n",
       "      <td>2</td>\n",
       "      <td>12335.480902</td>\n",
       "    </tr>\n",
       "    <tr>\n",
       "      <td>деревня Вахнова Кара</td>\n",
       "      <td>1</td>\n",
       "      <td>11688.311688</td>\n",
       "    </tr>\n",
       "    <tr>\n",
       "      <td>поселок станции Свирь</td>\n",
       "      <td>2</td>\n",
       "      <td>11481.481481</td>\n",
       "    </tr>\n",
       "    <tr>\n",
       "      <td>деревня Старополье</td>\n",
       "      <td>3</td>\n",
       "      <td>11000.000000</td>\n",
       "    </tr>\n",
       "  </tbody>\n",
       "</table>\n",
       "</div>"
      ],
      "text/plain": [
       "                         count  median_price_per_meter\n",
       "locality_name                                         \n",
       "поселок Житково              2            14956.275202\n",
       "деревня Ям-Тесово            2            13711.553373\n",
       "деревня Сижно                1            13709.677419\n",
       "поселок Тесово-4             1            12931.034483\n",
       "деревня Малая Романовка      1            12724.550898\n",
       "поселок Совхозный            2            12629.129129\n",
       "деревня Выскатка             2            12335.480902\n",
       "деревня Вахнова Кара         1            11688.311688\n",
       "поселок станции Свирь        2            11481.481481\n",
       "деревня Старополье           3            11000.000000"
      ]
     },
     "execution_count": 113,
     "metadata": {},
     "output_type": "execute_result"
    }
   ],
   "source": [
    "#10 населённых пунктов с самой низкой стоимостью жилья\n",
    "top_locality_names.sort_values(by='median_price_per_meter', ascending=False).tail(10)"
   ]
  },
  {
   "cell_type": "markdown",
   "metadata": {},
   "source": [
    "<a id='Step_4_10'></a>\n",
    "#### 4.10 Исследование квартир в центре Санкт-Петербурга"
   ]
  },
  {
   "cell_type": "code",
   "execution_count": 114,
   "metadata": {},
   "outputs": [],
   "source": [
    "spb_data = cleaned_data.query('locality_name == \"Санкт-Петербург\"')"
   ]
  },
  {
   "cell_type": "code",
   "execution_count": 115,
   "metadata": {},
   "outputs": [
    {
     "data": {
      "text/plain": [
       "<matplotlib.axes._subplots.AxesSubplot at 0x7f79c80a1810>"
      ]
     },
     "execution_count": 115,
     "metadata": {},
     "output_type": "execute_result"
    },
    {
     "data": {
      "image/png": "[encoded data removed]",
      "text/plain": [
       "<Figure size 432x288 with 1 Axes>"
      ]
     },
     "metadata": {
      "needs_background": "light"
     },
     "output_type": "display_data"
    }
   ],
   "source": [
    "spb_data.groupby('distance_to_center_in_km').agg({'price_per_meter': 'median'}).plot(grid=True)"
   ]
  },
  {
   "cell_type": "markdown",
   "metadata": {},
   "source": [
    "Вывод: предполагаемая граница центра 3 км"
   ]
  },
  {
   "cell_type": "code",
   "execution_count": 116,
   "metadata": {},
   "outputs": [],
   "source": [
    "#Сделаем срез по квартирам в центре Санкт-Петербурга\n",
    "spb_center_data = spb_data.query('distance_to_center_in_km < 3')"
   ]
  },
  {
   "cell_type": "code",
   "execution_count": 117,
   "metadata": {},
   "outputs": [
    {
     "data": {
      "image/png": "[encoded data removed]",
      "text/plain": [
       "<Figure size 720x576 with 1 Axes>"
      ]
     },
     "metadata": {
      "needs_background": "light"
     },
     "output_type": "display_data"
    },
    {
     "data": {
      "image/png": "[encoded data removed]",
      "text/plain": [
       "<Figure size 720x576 with 1 Axes>"
      ]
     },
     "metadata": {
      "needs_background": "light"
     },
     "output_type": "display_data"
    },
    {
     "data": {
      "image/png": "[encoded data removed]",
      "text/plain": [
       "<Figure size 720x576 with 1 Axes>"
      ]
     },
     "metadata": {
      "needs_background": "light"
     },
     "output_type": "display_data"
    },
    {
     "data": {
      "image/png": "[encoded data removed]",
      "text/plain": [
       "<Figure size 720x576 with 1 Axes>"
      ]
     },
     "metadata": {
      "needs_background": "light"
     },
     "output_type": "display_data"
    },
    {
     "data": {
      "image/png": "[encoded data removed]",
      "text/plain": [
       "<Figure size 720x576 with 1 Axes>"
      ]
     },
     "metadata": {
      "needs_background": "light"
     },
     "output_type": "display_data"
    },
    {
     "data": {
      "image/png": "[encoded data removed]",
      "text/plain": [
       "<Figure size 720x576 with 1 Axes>"
      ]
     },
     "metadata": {
      "needs_background": "light"
     },
     "output_type": "display_data"
    },
    {
     "data": {
      "image/png": "[encoded data removed]",
      "text/plain": [
       "<Figure size 720x576 with 1 Axes>"
      ]
     },
     "metadata": {
      "needs_background": "light"
     },
     "output_type": "display_data"
    },
    {
     "data": {
      "image/png": "[encoded data removed]",
      "text/plain": [
       "<Figure size 720x576 with 1 Axes>"
      ]
     },
     "metadata": {
      "needs_background": "light"
     },
     "output_type": "display_data"
    },
    {
     "data": {
      "image/png": "[encoded data removed]",
      "text/plain": [
       "<Figure size 720x576 with 1 Axes>"
      ]
     },
     "metadata": {
      "needs_background": "light"
     },
     "output_type": "display_data"
    },
    {
     "data": {
      "image/png": "[encoded data removed]",
      "text/plain": [
       "<Figure size 720x576 with 1 Axes>"
      ]
     },
     "metadata": {
      "needs_background": "light"
     },
     "output_type": "display_data"
    }
   ],
   "source": [
    "#Построим гистограммы для сравнения по заданным параметрам 'last_price', 'price_per_meter', 'total_area', 'rooms', 'ceiling_height' \n",
    "for column in ['last_price', 'price_per_meter', 'total_area', 'rooms', 'ceiling_height']:\n",
    "    cleaned_data[column].hist(figsize=(10, 8), grid=True)\n",
    "    plt.xlabel(column)\n",
    "    plt.show()\n",
    "    spb_center_data[column].hist(figsize=(10, 8), grid=True)\n",
    "    plt.xlabel(column)\n",
    "    plt.show()"
   ]
  },
  {
   "cell_type": "markdown",
   "metadata": {},
   "source": [
    "### Вывод:\n",
    "- last_price - и в городе в целом, и в центре преобладают квартиры стоимостью до 5 млн. Квартиры, стоимостью больше 10 млн в основном находятся в центре.\n",
    "- price_per_meter - аналогичная закономерность.\n",
    "- total_area - в городе преобладают маленькие квартиры, площадью менее 50м2, в центре преобладают квартиры от 50 до 100 м2\n",
    "- rooms - в городе преобладают однокомнатные и двухконатные квартиры, в центре нет студий, двухкомнатных и трехкомнатных квартир больше, чем однокомнатных.\n",
    "- ceiling_height - в городе предоблают квартиры с потолками менее 2,75. Медианная высота для центра - 3м"
   ]
  },
  {
   "cell_type": "markdown",
   "metadata": {},
   "source": [
    "***<a href='#top'>Вернуться в начало</a>***"
   ]
  },
  {
   "cell_type": "markdown",
   "metadata": {},
   "source": [
    "<a id='Step_5'></a>\n",
    "### Шаг 5. Общий вывод"
   ]
  },
  {
   "cell_type": "markdown",
   "metadata": {},
   "source": [
    "<p>В городе в целом преобладает советское типовое жилье. Чаще всего встречаются 5 и 9 этажные дома с небольшими квартирами до 50м2 и невысокими потолками 2.50м. В основном предладают 1,2,3 конатные квартиры.</p>\n",
    "<p>В центре преобладают невысокие здания порядка 5 этажей. Площадь квартир как правило больше 50 м2. Потолки в среднем 3 м2 и выше. Студии и однокомнатные квартиры для центра не характерны. Встречаются очень большие квартиры более 6 комнат.</p>\n",
    "<p>Близость к центру является фактором, выляющим на цену квартиры в Санкт-Петербурге. Квартиры в центре стоят дороже.</p>\n"
   ]
  },
  {
   "cell_type": "markdown",
   "metadata": {},
   "source": [
    "***<a href='#top'>Вернуться в начало</a>***"
   ]
  }
 ],
 "metadata": {
  "kernelspec": {
   "display_name": "Python 3",
   "language": "python",
   "name": "python3"
  },
  "language_info": {
   "codemirror_mode": {
    "name": "ipython",
    "version": 3
   },
   "file_extension": ".py",
   "mimetype": "text/x-python",
   "name": "python",
   "nbconvert_exporter": "python",
   "pygments_lexer": "ipython3",
   "version": "3.7.6"
  }
 },
 "nbformat": 4,
 "nbformat_minor": 2
}
